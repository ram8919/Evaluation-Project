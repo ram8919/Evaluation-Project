{
 "cells": [
  {
   "cell_type": "code",
   "execution_count": 1,
   "id": "e87ec12d",
   "metadata": {},
   "outputs": [],
   "source": [
    "# Import Library:\n",
    "import pandas as pd\n",
    "import numpy as np\n",
    "import matplotlib.pyplot as plt\n",
    "import seaborn as sns\n",
    "\n",
    "import warnings\n",
    "warnings.filterwarnings('ignore')"
   ]
  },
  {
   "cell_type": "code",
   "execution_count": 2,
   "id": "2f8fa4f0",
   "metadata": {},
   "outputs": [],
   "source": [
    "# Loading the train  dataset:\n",
    "df=pd.read_csv('Telecom_customer_churn.csv')"
   ]
  },
  {
   "cell_type": "code",
   "execution_count": 3,
   "id": "5667e85d",
   "metadata": {},
   "outputs": [
    {
     "data": {
      "text/html": [
       "<div>\n",
       "<style scoped>\n",
       "    .dataframe tbody tr th:only-of-type {\n",
       "        vertical-align: middle;\n",
       "    }\n",
       "\n",
       "    .dataframe tbody tr th {\n",
       "        vertical-align: top;\n",
       "    }\n",
       "\n",
       "    .dataframe thead th {\n",
       "        text-align: right;\n",
       "    }\n",
       "</style>\n",
       "<table border=\"1\" class=\"dataframe\">\n",
       "  <thead>\n",
       "    <tr style=\"text-align: right;\">\n",
       "      <th></th>\n",
       "      <th>customerID</th>\n",
       "      <th>gender</th>\n",
       "      <th>SeniorCitizen</th>\n",
       "      <th>Partner</th>\n",
       "      <th>Dependents</th>\n",
       "      <th>tenure</th>\n",
       "      <th>PhoneService</th>\n",
       "      <th>MultipleLines</th>\n",
       "      <th>InternetService</th>\n",
       "      <th>OnlineSecurity</th>\n",
       "      <th>...</th>\n",
       "      <th>DeviceProtection</th>\n",
       "      <th>TechSupport</th>\n",
       "      <th>StreamingTV</th>\n",
       "      <th>StreamingMovies</th>\n",
       "      <th>Contract</th>\n",
       "      <th>PaperlessBilling</th>\n",
       "      <th>PaymentMethod</th>\n",
       "      <th>MonthlyCharges</th>\n",
       "      <th>TotalCharges</th>\n",
       "      <th>Churn</th>\n",
       "    </tr>\n",
       "  </thead>\n",
       "  <tbody>\n",
       "    <tr>\n",
       "      <th>0</th>\n",
       "      <td>7590-VHVEG</td>\n",
       "      <td>Female</td>\n",
       "      <td>0</td>\n",
       "      <td>Yes</td>\n",
       "      <td>No</td>\n",
       "      <td>1</td>\n",
       "      <td>No</td>\n",
       "      <td>No phone service</td>\n",
       "      <td>DSL</td>\n",
       "      <td>No</td>\n",
       "      <td>...</td>\n",
       "      <td>No</td>\n",
       "      <td>No</td>\n",
       "      <td>No</td>\n",
       "      <td>No</td>\n",
       "      <td>Month-to-month</td>\n",
       "      <td>Yes</td>\n",
       "      <td>Electronic check</td>\n",
       "      <td>29.85</td>\n",
       "      <td>29.85</td>\n",
       "      <td>No</td>\n",
       "    </tr>\n",
       "    <tr>\n",
       "      <th>1</th>\n",
       "      <td>5575-GNVDE</td>\n",
       "      <td>Male</td>\n",
       "      <td>0</td>\n",
       "      <td>No</td>\n",
       "      <td>No</td>\n",
       "      <td>34</td>\n",
       "      <td>Yes</td>\n",
       "      <td>No</td>\n",
       "      <td>DSL</td>\n",
       "      <td>Yes</td>\n",
       "      <td>...</td>\n",
       "      <td>Yes</td>\n",
       "      <td>No</td>\n",
       "      <td>No</td>\n",
       "      <td>No</td>\n",
       "      <td>One year</td>\n",
       "      <td>No</td>\n",
       "      <td>Mailed check</td>\n",
       "      <td>56.95</td>\n",
       "      <td>1889.5</td>\n",
       "      <td>No</td>\n",
       "    </tr>\n",
       "    <tr>\n",
       "      <th>2</th>\n",
       "      <td>3668-QPYBK</td>\n",
       "      <td>Male</td>\n",
       "      <td>0</td>\n",
       "      <td>No</td>\n",
       "      <td>No</td>\n",
       "      <td>2</td>\n",
       "      <td>Yes</td>\n",
       "      <td>No</td>\n",
       "      <td>DSL</td>\n",
       "      <td>Yes</td>\n",
       "      <td>...</td>\n",
       "      <td>No</td>\n",
       "      <td>No</td>\n",
       "      <td>No</td>\n",
       "      <td>No</td>\n",
       "      <td>Month-to-month</td>\n",
       "      <td>Yes</td>\n",
       "      <td>Mailed check</td>\n",
       "      <td>53.85</td>\n",
       "      <td>108.15</td>\n",
       "      <td>Yes</td>\n",
       "    </tr>\n",
       "    <tr>\n",
       "      <th>3</th>\n",
       "      <td>7795-CFOCW</td>\n",
       "      <td>Male</td>\n",
       "      <td>0</td>\n",
       "      <td>No</td>\n",
       "      <td>No</td>\n",
       "      <td>45</td>\n",
       "      <td>No</td>\n",
       "      <td>No phone service</td>\n",
       "      <td>DSL</td>\n",
       "      <td>Yes</td>\n",
       "      <td>...</td>\n",
       "      <td>Yes</td>\n",
       "      <td>Yes</td>\n",
       "      <td>No</td>\n",
       "      <td>No</td>\n",
       "      <td>One year</td>\n",
       "      <td>No</td>\n",
       "      <td>Bank transfer (automatic)</td>\n",
       "      <td>42.30</td>\n",
       "      <td>1840.75</td>\n",
       "      <td>No</td>\n",
       "    </tr>\n",
       "    <tr>\n",
       "      <th>4</th>\n",
       "      <td>9237-HQITU</td>\n",
       "      <td>Female</td>\n",
       "      <td>0</td>\n",
       "      <td>No</td>\n",
       "      <td>No</td>\n",
       "      <td>2</td>\n",
       "      <td>Yes</td>\n",
       "      <td>No</td>\n",
       "      <td>Fiber optic</td>\n",
       "      <td>No</td>\n",
       "      <td>...</td>\n",
       "      <td>No</td>\n",
       "      <td>No</td>\n",
       "      <td>No</td>\n",
       "      <td>No</td>\n",
       "      <td>Month-to-month</td>\n",
       "      <td>Yes</td>\n",
       "      <td>Electronic check</td>\n",
       "      <td>70.70</td>\n",
       "      <td>151.65</td>\n",
       "      <td>Yes</td>\n",
       "    </tr>\n",
       "  </tbody>\n",
       "</table>\n",
       "<p>5 rows × 21 columns</p>\n",
       "</div>"
      ],
      "text/plain": [
       "   customerID  gender  SeniorCitizen Partner Dependents  tenure PhoneService  \\\n",
       "0  7590-VHVEG  Female              0     Yes         No       1           No   \n",
       "1  5575-GNVDE    Male              0      No         No      34          Yes   \n",
       "2  3668-QPYBK    Male              0      No         No       2          Yes   \n",
       "3  7795-CFOCW    Male              0      No         No      45           No   \n",
       "4  9237-HQITU  Female              0      No         No       2          Yes   \n",
       "\n",
       "      MultipleLines InternetService OnlineSecurity  ... DeviceProtection  \\\n",
       "0  No phone service             DSL             No  ...               No   \n",
       "1                No             DSL            Yes  ...              Yes   \n",
       "2                No             DSL            Yes  ...               No   \n",
       "3  No phone service             DSL            Yes  ...              Yes   \n",
       "4                No     Fiber optic             No  ...               No   \n",
       "\n",
       "  TechSupport StreamingTV StreamingMovies        Contract PaperlessBilling  \\\n",
       "0          No          No              No  Month-to-month              Yes   \n",
       "1          No          No              No        One year               No   \n",
       "2          No          No              No  Month-to-month              Yes   \n",
       "3         Yes          No              No        One year               No   \n",
       "4          No          No              No  Month-to-month              Yes   \n",
       "\n",
       "               PaymentMethod MonthlyCharges  TotalCharges Churn  \n",
       "0           Electronic check          29.85         29.85    No  \n",
       "1               Mailed check          56.95        1889.5    No  \n",
       "2               Mailed check          53.85        108.15   Yes  \n",
       "3  Bank transfer (automatic)          42.30       1840.75    No  \n",
       "4           Electronic check          70.70        151.65   Yes  \n",
       "\n",
       "[5 rows x 21 columns]"
      ]
     },
     "execution_count": 3,
     "metadata": {},
     "output_type": "execute_result"
    }
   ],
   "source": [
    "# Showing 5 raws of train data:\n",
    "df.head()"
   ]
  },
  {
   "cell_type": "code",
   "execution_count": 4,
   "id": "bb459462",
   "metadata": {},
   "outputs": [
    {
     "data": {
      "text/plain": [
       "(7043, 21)"
      ]
     },
     "execution_count": 4,
     "metadata": {},
     "output_type": "execute_result"
    }
   ],
   "source": [
    "# Number of rows and columns\n",
    "df.shape"
   ]
  },
  {
   "cell_type": "code",
   "execution_count": 5,
   "id": "4638c040",
   "metadata": {},
   "outputs": [
    {
     "name": "stdout",
     "output_type": "stream",
     "text": [
      "<class 'pandas.core.frame.DataFrame'>\n",
      "RangeIndex: 7043 entries, 0 to 7042\n",
      "Data columns (total 21 columns):\n",
      " #   Column            Non-Null Count  Dtype  \n",
      "---  ------            --------------  -----  \n",
      " 0   customerID        7043 non-null   object \n",
      " 1   gender            7043 non-null   object \n",
      " 2   SeniorCitizen     7043 non-null   int64  \n",
      " 3   Partner           7043 non-null   object \n",
      " 4   Dependents        7043 non-null   object \n",
      " 5   tenure            7043 non-null   int64  \n",
      " 6   PhoneService      7043 non-null   object \n",
      " 7   MultipleLines     7043 non-null   object \n",
      " 8   InternetService   7043 non-null   object \n",
      " 9   OnlineSecurity    7043 non-null   object \n",
      " 10  OnlineBackup      7043 non-null   object \n",
      " 11  DeviceProtection  7043 non-null   object \n",
      " 12  TechSupport       7043 non-null   object \n",
      " 13  StreamingTV       7043 non-null   object \n",
      " 14  StreamingMovies   7043 non-null   object \n",
      " 15  Contract          7043 non-null   object \n",
      " 16  PaperlessBilling  7043 non-null   object \n",
      " 17  PaymentMethod     7043 non-null   object \n",
      " 18  MonthlyCharges    7043 non-null   float64\n",
      " 19  TotalCharges      7043 non-null   object \n",
      " 20  Churn             7043 non-null   object \n",
      "dtypes: float64(1), int64(2), object(18)\n",
      "memory usage: 1.1+ MB\n"
     ]
    }
   ],
   "source": [
    "# Information about full data\n",
    "df.info()"
   ]
  },
  {
   "cell_type": "code",
   "execution_count": 6,
   "id": "44402895",
   "metadata": {},
   "outputs": [
    {
     "data": {
      "text/plain": [
       "customerID          0\n",
       "gender              0\n",
       "SeniorCitizen       0\n",
       "Partner             0\n",
       "Dependents          0\n",
       "tenure              0\n",
       "PhoneService        0\n",
       "MultipleLines       0\n",
       "InternetService     0\n",
       "OnlineSecurity      0\n",
       "OnlineBackup        0\n",
       "DeviceProtection    0\n",
       "TechSupport         0\n",
       "StreamingTV         0\n",
       "StreamingMovies     0\n",
       "Contract            0\n",
       "PaperlessBilling    0\n",
       "PaymentMethod       0\n",
       "MonthlyCharges      0\n",
       "TotalCharges        0\n",
       "Churn               0\n",
       "dtype: int64"
      ]
     },
     "execution_count": 6,
     "metadata": {},
     "output_type": "execute_result"
    }
   ],
   "source": [
    "# Checking the missing values:\n",
    "df.isnull().sum()"
   ]
  },
  {
   "cell_type": "code",
   "execution_count": 7,
   "id": "58b3a980",
   "metadata": {},
   "outputs": [
    {
     "data": {
      "text/plain": [
       "Index(['customerID', 'gender', 'SeniorCitizen', 'Partner', 'Dependents',\n",
       "       'tenure', 'PhoneService', 'MultipleLines', 'InternetService',\n",
       "       'OnlineSecurity', 'OnlineBackup', 'DeviceProtection', 'TechSupport',\n",
       "       'StreamingTV', 'StreamingMovies', 'Contract', 'PaperlessBilling',\n",
       "       'PaymentMethod', 'MonthlyCharges', 'TotalCharges', 'Churn'],\n",
       "      dtype='object')"
      ]
     },
     "execution_count": 7,
     "metadata": {},
     "output_type": "execute_result"
    }
   ],
   "source": [
    "# Here seen columns names:\n",
    "df.columns"
   ]
  },
  {
   "cell_type": "code",
   "execution_count": 8,
   "id": "6898d6e8",
   "metadata": {},
   "outputs": [],
   "source": [
    "# Here dropping NaN values from the data:\n",
    "df.dropna(inplace=True,subset=[\"TotalCharges\"])"
   ]
  },
  {
   "cell_type": "code",
   "execution_count": 9,
   "id": "f320e320",
   "metadata": {},
   "outputs": [
    {
     "data": {
      "text/plain": [
       "0"
      ]
     },
     "execution_count": 9,
     "metadata": {},
     "output_type": "execute_result"
    }
   ],
   "source": [
    "# Here checking any duplicates data:\n",
    "df.duplicated().sum()"
   ]
  },
  {
   "cell_type": "code",
   "execution_count": 10,
   "id": "d78c9dff",
   "metadata": {},
   "outputs": [],
   "source": [
    "# Hrer Converting yes/no to 1/0 values with LabelEncoder:\n",
    "from sklearn.preprocessing import LabelEncoder\n",
    "\n",
    "lb = LabelEncoder() \n",
    "to_label = [\"Churn\",\"PhoneService\",\"OnlineSecurity\",\"TechSupport\",\"StreamingTV\",\"StreamingMovies\",\"PaperlessBilling\"]\n",
    "for label in to_label:\n",
    "    new_column_name = f\"{label}_Labeled\"\n",
    "    df[new_column_name] = lb.fit_transform(df[label])"
   ]
  },
  {
   "cell_type": "code",
   "execution_count": 11,
   "id": "3438d1d4",
   "metadata": {},
   "outputs": [
    {
     "data": {
      "text/html": [
       "<div>\n",
       "<style scoped>\n",
       "    .dataframe tbody tr th:only-of-type {\n",
       "        vertical-align: middle;\n",
       "    }\n",
       "\n",
       "    .dataframe tbody tr th {\n",
       "        vertical-align: top;\n",
       "    }\n",
       "\n",
       "    .dataframe thead th {\n",
       "        text-align: right;\n",
       "    }\n",
       "</style>\n",
       "<table border=\"1\" class=\"dataframe\">\n",
       "  <thead>\n",
       "    <tr style=\"text-align: right;\">\n",
       "      <th></th>\n",
       "      <th>customerID</th>\n",
       "      <th>gender</th>\n",
       "      <th>SeniorCitizen</th>\n",
       "      <th>Partner</th>\n",
       "      <th>Dependents</th>\n",
       "      <th>tenure</th>\n",
       "      <th>PhoneService</th>\n",
       "      <th>MultipleLines</th>\n",
       "      <th>InternetService</th>\n",
       "      <th>OnlineSecurity</th>\n",
       "      <th>...</th>\n",
       "      <th>MonthlyCharges</th>\n",
       "      <th>TotalCharges</th>\n",
       "      <th>Churn</th>\n",
       "      <th>Churn_Labeled</th>\n",
       "      <th>PhoneService_Labeled</th>\n",
       "      <th>OnlineSecurity_Labeled</th>\n",
       "      <th>TechSupport_Labeled</th>\n",
       "      <th>StreamingTV_Labeled</th>\n",
       "      <th>StreamingMovies_Labeled</th>\n",
       "      <th>PaperlessBilling_Labeled</th>\n",
       "    </tr>\n",
       "  </thead>\n",
       "  <tbody>\n",
       "    <tr>\n",
       "      <th>0</th>\n",
       "      <td>7590-VHVEG</td>\n",
       "      <td>Female</td>\n",
       "      <td>0</td>\n",
       "      <td>Yes</td>\n",
       "      <td>No</td>\n",
       "      <td>1</td>\n",
       "      <td>No</td>\n",
       "      <td>No phone service</td>\n",
       "      <td>DSL</td>\n",
       "      <td>No</td>\n",
       "      <td>...</td>\n",
       "      <td>29.85</td>\n",
       "      <td>29.85</td>\n",
       "      <td>No</td>\n",
       "      <td>0</td>\n",
       "      <td>0</td>\n",
       "      <td>0</td>\n",
       "      <td>0</td>\n",
       "      <td>0</td>\n",
       "      <td>0</td>\n",
       "      <td>1</td>\n",
       "    </tr>\n",
       "    <tr>\n",
       "      <th>1</th>\n",
       "      <td>5575-GNVDE</td>\n",
       "      <td>Male</td>\n",
       "      <td>0</td>\n",
       "      <td>No</td>\n",
       "      <td>No</td>\n",
       "      <td>34</td>\n",
       "      <td>Yes</td>\n",
       "      <td>No</td>\n",
       "      <td>DSL</td>\n",
       "      <td>Yes</td>\n",
       "      <td>...</td>\n",
       "      <td>56.95</td>\n",
       "      <td>1889.5</td>\n",
       "      <td>No</td>\n",
       "      <td>0</td>\n",
       "      <td>1</td>\n",
       "      <td>2</td>\n",
       "      <td>0</td>\n",
       "      <td>0</td>\n",
       "      <td>0</td>\n",
       "      <td>0</td>\n",
       "    </tr>\n",
       "    <tr>\n",
       "      <th>2</th>\n",
       "      <td>3668-QPYBK</td>\n",
       "      <td>Male</td>\n",
       "      <td>0</td>\n",
       "      <td>No</td>\n",
       "      <td>No</td>\n",
       "      <td>2</td>\n",
       "      <td>Yes</td>\n",
       "      <td>No</td>\n",
       "      <td>DSL</td>\n",
       "      <td>Yes</td>\n",
       "      <td>...</td>\n",
       "      <td>53.85</td>\n",
       "      <td>108.15</td>\n",
       "      <td>Yes</td>\n",
       "      <td>1</td>\n",
       "      <td>1</td>\n",
       "      <td>2</td>\n",
       "      <td>0</td>\n",
       "      <td>0</td>\n",
       "      <td>0</td>\n",
       "      <td>1</td>\n",
       "    </tr>\n",
       "    <tr>\n",
       "      <th>3</th>\n",
       "      <td>7795-CFOCW</td>\n",
       "      <td>Male</td>\n",
       "      <td>0</td>\n",
       "      <td>No</td>\n",
       "      <td>No</td>\n",
       "      <td>45</td>\n",
       "      <td>No</td>\n",
       "      <td>No phone service</td>\n",
       "      <td>DSL</td>\n",
       "      <td>Yes</td>\n",
       "      <td>...</td>\n",
       "      <td>42.30</td>\n",
       "      <td>1840.75</td>\n",
       "      <td>No</td>\n",
       "      <td>0</td>\n",
       "      <td>0</td>\n",
       "      <td>2</td>\n",
       "      <td>2</td>\n",
       "      <td>0</td>\n",
       "      <td>0</td>\n",
       "      <td>0</td>\n",
       "    </tr>\n",
       "    <tr>\n",
       "      <th>4</th>\n",
       "      <td>9237-HQITU</td>\n",
       "      <td>Female</td>\n",
       "      <td>0</td>\n",
       "      <td>No</td>\n",
       "      <td>No</td>\n",
       "      <td>2</td>\n",
       "      <td>Yes</td>\n",
       "      <td>No</td>\n",
       "      <td>Fiber optic</td>\n",
       "      <td>No</td>\n",
       "      <td>...</td>\n",
       "      <td>70.70</td>\n",
       "      <td>151.65</td>\n",
       "      <td>Yes</td>\n",
       "      <td>1</td>\n",
       "      <td>1</td>\n",
       "      <td>0</td>\n",
       "      <td>0</td>\n",
       "      <td>0</td>\n",
       "      <td>0</td>\n",
       "      <td>1</td>\n",
       "    </tr>\n",
       "  </tbody>\n",
       "</table>\n",
       "<p>5 rows × 28 columns</p>\n",
       "</div>"
      ],
      "text/plain": [
       "   customerID  gender  SeniorCitizen Partner Dependents  tenure PhoneService  \\\n",
       "0  7590-VHVEG  Female              0     Yes         No       1           No   \n",
       "1  5575-GNVDE    Male              0      No         No      34          Yes   \n",
       "2  3668-QPYBK    Male              0      No         No       2          Yes   \n",
       "3  7795-CFOCW    Male              0      No         No      45           No   \n",
       "4  9237-HQITU  Female              0      No         No       2          Yes   \n",
       "\n",
       "      MultipleLines InternetService OnlineSecurity  ... MonthlyCharges  \\\n",
       "0  No phone service             DSL             No  ...          29.85   \n",
       "1                No             DSL            Yes  ...          56.95   \n",
       "2                No             DSL            Yes  ...          53.85   \n",
       "3  No phone service             DSL            Yes  ...          42.30   \n",
       "4                No     Fiber optic             No  ...          70.70   \n",
       "\n",
       "  TotalCharges Churn Churn_Labeled PhoneService_Labeled  \\\n",
       "0        29.85    No             0                    0   \n",
       "1       1889.5    No             0                    1   \n",
       "2       108.15   Yes             1                    1   \n",
       "3      1840.75    No             0                    0   \n",
       "4       151.65   Yes             1                    1   \n",
       "\n",
       "  OnlineSecurity_Labeled TechSupport_Labeled StreamingTV_Labeled  \\\n",
       "0                      0                   0                   0   \n",
       "1                      2                   0                   0   \n",
       "2                      2                   0                   0   \n",
       "3                      2                   2                   0   \n",
       "4                      0                   0                   0   \n",
       "\n",
       "   StreamingMovies_Labeled PaperlessBilling_Labeled  \n",
       "0                        0                        1  \n",
       "1                        0                        0  \n",
       "2                        0                        1  \n",
       "3                        0                        0  \n",
       "4                        0                        1  \n",
       "\n",
       "[5 rows x 28 columns]"
      ]
     },
     "execution_count": 11,
     "metadata": {},
     "output_type": "execute_result"
    }
   ],
   "source": [
    "df.head()"
   ]
  },
  {
   "cell_type": "code",
   "execution_count": 12,
   "id": "9667e4cd",
   "metadata": {},
   "outputs": [
    {
     "data": {
      "text/html": [
       "<div>\n",
       "<style scoped>\n",
       "    .dataframe tbody tr th:only-of-type {\n",
       "        vertical-align: middle;\n",
       "    }\n",
       "\n",
       "    .dataframe tbody tr th {\n",
       "        vertical-align: top;\n",
       "    }\n",
       "\n",
       "    .dataframe thead th {\n",
       "        text-align: right;\n",
       "    }\n",
       "</style>\n",
       "<table border=\"1\" class=\"dataframe\">\n",
       "  <thead>\n",
       "    <tr style=\"text-align: right;\">\n",
       "      <th></th>\n",
       "      <th>SeniorCitizen</th>\n",
       "      <th>tenure</th>\n",
       "      <th>MonthlyCharges</th>\n",
       "      <th>Churn_Labeled</th>\n",
       "      <th>PhoneService_Labeled</th>\n",
       "      <th>OnlineSecurity_Labeled</th>\n",
       "      <th>TechSupport_Labeled</th>\n",
       "      <th>StreamingTV_Labeled</th>\n",
       "      <th>StreamingMovies_Labeled</th>\n",
       "      <th>PaperlessBilling_Labeled</th>\n",
       "    </tr>\n",
       "  </thead>\n",
       "  <tbody>\n",
       "    <tr>\n",
       "      <th>count</th>\n",
       "      <td>7043.000000</td>\n",
       "      <td>7043.000000</td>\n",
       "      <td>7043.000000</td>\n",
       "      <td>7043.000000</td>\n",
       "      <td>7043.000000</td>\n",
       "      <td>7043.000000</td>\n",
       "      <td>7043.000000</td>\n",
       "      <td>7043.000000</td>\n",
       "      <td>7043.000000</td>\n",
       "      <td>7043.000000</td>\n",
       "    </tr>\n",
       "    <tr>\n",
       "      <th>mean</th>\n",
       "      <td>0.162147</td>\n",
       "      <td>32.371149</td>\n",
       "      <td>64.761692</td>\n",
       "      <td>0.265370</td>\n",
       "      <td>0.903166</td>\n",
       "      <td>0.790004</td>\n",
       "      <td>0.797104</td>\n",
       "      <td>0.985376</td>\n",
       "      <td>0.992475</td>\n",
       "      <td>0.592219</td>\n",
       "    </tr>\n",
       "    <tr>\n",
       "      <th>std</th>\n",
       "      <td>0.368612</td>\n",
       "      <td>24.559481</td>\n",
       "      <td>30.090047</td>\n",
       "      <td>0.441561</td>\n",
       "      <td>0.295752</td>\n",
       "      <td>0.859848</td>\n",
       "      <td>0.861551</td>\n",
       "      <td>0.885002</td>\n",
       "      <td>0.885091</td>\n",
       "      <td>0.491457</td>\n",
       "    </tr>\n",
       "    <tr>\n",
       "      <th>min</th>\n",
       "      <td>0.000000</td>\n",
       "      <td>0.000000</td>\n",
       "      <td>18.250000</td>\n",
       "      <td>0.000000</td>\n",
       "      <td>0.000000</td>\n",
       "      <td>0.000000</td>\n",
       "      <td>0.000000</td>\n",
       "      <td>0.000000</td>\n",
       "      <td>0.000000</td>\n",
       "      <td>0.000000</td>\n",
       "    </tr>\n",
       "    <tr>\n",
       "      <th>25%</th>\n",
       "      <td>0.000000</td>\n",
       "      <td>9.000000</td>\n",
       "      <td>35.500000</td>\n",
       "      <td>0.000000</td>\n",
       "      <td>1.000000</td>\n",
       "      <td>0.000000</td>\n",
       "      <td>0.000000</td>\n",
       "      <td>0.000000</td>\n",
       "      <td>0.000000</td>\n",
       "      <td>0.000000</td>\n",
       "    </tr>\n",
       "    <tr>\n",
       "      <th>50%</th>\n",
       "      <td>0.000000</td>\n",
       "      <td>29.000000</td>\n",
       "      <td>70.350000</td>\n",
       "      <td>0.000000</td>\n",
       "      <td>1.000000</td>\n",
       "      <td>1.000000</td>\n",
       "      <td>1.000000</td>\n",
       "      <td>1.000000</td>\n",
       "      <td>1.000000</td>\n",
       "      <td>1.000000</td>\n",
       "    </tr>\n",
       "    <tr>\n",
       "      <th>75%</th>\n",
       "      <td>0.000000</td>\n",
       "      <td>55.000000</td>\n",
       "      <td>89.850000</td>\n",
       "      <td>1.000000</td>\n",
       "      <td>1.000000</td>\n",
       "      <td>2.000000</td>\n",
       "      <td>2.000000</td>\n",
       "      <td>2.000000</td>\n",
       "      <td>2.000000</td>\n",
       "      <td>1.000000</td>\n",
       "    </tr>\n",
       "    <tr>\n",
       "      <th>max</th>\n",
       "      <td>1.000000</td>\n",
       "      <td>72.000000</td>\n",
       "      <td>118.750000</td>\n",
       "      <td>1.000000</td>\n",
       "      <td>1.000000</td>\n",
       "      <td>2.000000</td>\n",
       "      <td>2.000000</td>\n",
       "      <td>2.000000</td>\n",
       "      <td>2.000000</td>\n",
       "      <td>1.000000</td>\n",
       "    </tr>\n",
       "  </tbody>\n",
       "</table>\n",
       "</div>"
      ],
      "text/plain": [
       "       SeniorCitizen       tenure  MonthlyCharges  Churn_Labeled  \\\n",
       "count    7043.000000  7043.000000     7043.000000    7043.000000   \n",
       "mean        0.162147    32.371149       64.761692       0.265370   \n",
       "std         0.368612    24.559481       30.090047       0.441561   \n",
       "min         0.000000     0.000000       18.250000       0.000000   \n",
       "25%         0.000000     9.000000       35.500000       0.000000   \n",
       "50%         0.000000    29.000000       70.350000       0.000000   \n",
       "75%         0.000000    55.000000       89.850000       1.000000   \n",
       "max         1.000000    72.000000      118.750000       1.000000   \n",
       "\n",
       "       PhoneService_Labeled  OnlineSecurity_Labeled  TechSupport_Labeled  \\\n",
       "count           7043.000000             7043.000000          7043.000000   \n",
       "mean               0.903166                0.790004             0.797104   \n",
       "std                0.295752                0.859848             0.861551   \n",
       "min                0.000000                0.000000             0.000000   \n",
       "25%                1.000000                0.000000             0.000000   \n",
       "50%                1.000000                1.000000             1.000000   \n",
       "75%                1.000000                2.000000             2.000000   \n",
       "max                1.000000                2.000000             2.000000   \n",
       "\n",
       "       StreamingTV_Labeled  StreamingMovies_Labeled  PaperlessBilling_Labeled  \n",
       "count          7043.000000              7043.000000               7043.000000  \n",
       "mean              0.985376                 0.992475                  0.592219  \n",
       "std               0.885002                 0.885091                  0.491457  \n",
       "min               0.000000                 0.000000                  0.000000  \n",
       "25%               0.000000                 0.000000                  0.000000  \n",
       "50%               1.000000                 1.000000                  1.000000  \n",
       "75%               2.000000                 2.000000                  1.000000  \n",
       "max               2.000000                 2.000000                  1.000000  "
      ]
     },
     "execution_count": 12,
     "metadata": {},
     "output_type": "execute_result"
    }
   ],
   "source": [
    "df.describe()"
   ]
  },
  {
   "cell_type": "markdown",
   "id": "a42c091c",
   "metadata": {},
   "source": [
    "#### Data Visualization"
   ]
  },
  {
   "cell_type": "code",
   "execution_count": 13,
   "id": "b7e553d7",
   "metadata": {},
   "outputs": [
    {
     "data": {
      "image/png": "[encoded data removed]",
      "text/plain": [
       "<Figure size 864x720 with 12 Axes>"
      ]
     },
     "metadata": {
      "needs_background": "light"
     },
     "output_type": "display_data"
    }
   ],
   "source": [
    "# display histogram:\n",
    "df.hist(figsize=(12,10), layout=(4,3), sharex=False);"
   ]
  },
  {
   "cell_type": "code",
   "execution_count": 14,
   "id": "acf54c9f",
   "metadata": {},
   "outputs": [
    {
     "data": {
      "text/plain": [
       "<AxesSubplot:xlabel='Churn', ylabel='count'>"
      ]
     },
     "execution_count": 14,
     "metadata": {},
     "output_type": "execute_result"
    },
    {
     "data": {
      "image/png": "[encoded data removed]",
      "text/plain": [
       "<Figure size 432x288 with 1 Axes>"
      ]
     },
     "metadata": {
      "needs_background": "light"
     },
     "output_type": "display_data"
    }
   ],
   "source": [
    "# display countplot for female and male in churn:\n",
    "sns.countplot(x='Churn',data=df,hue='gender',palette=\"coolwarm_r\")"
   ]
  },
  {
   "cell_type": "code",
   "execution_count": 15,
   "id": "b19f7733",
   "metadata": {},
   "outputs": [
    {
     "data": {
      "text/plain": [
       "<AxesSubplot:xlabel='Churn', ylabel='count'>"
      ]
     },
     "execution_count": 15,
     "metadata": {},
     "output_type": "execute_result"
    },
    {
     "data": {
      "image/png": "[encoded data removed]",
      "text/plain": [
       "<Figure size 432x288 with 1 Axes>"
      ]
     },
     "metadata": {
      "needs_background": "light"
     },
     "output_type": "display_data"
    }
   ],
   "source": [
    "# display countplot for InternetService in churn:\n",
    "sns.countplot(x='Churn',data=df, hue='InternetService')"
   ]
  },
  {
   "cell_type": "code",
   "execution_count": 16,
   "id": "a0522230",
   "metadata": {},
   "outputs": [
    {
     "data": {
      "image/png": "[encoded data removed]",
      "text/plain": [
       "<Figure size 432x288 with 1 Axes>"
      ]
     },
     "metadata": {
      "needs_background": "light"
     },
     "output_type": "display_data"
    }
   ],
   "source": [
    "# display countplot for Partner vs Churn:\n",
    "fig_churn_partner = sns.countplot(x=\"Partner\",hue=\"Churn\",data=df)\n",
    "fig_churn_partner.set_title(\"Does Marriage affect Churn rate?\")\n",
    "plt.show()"
   ]
  },
  {
   "cell_type": "code",
   "execution_count": 17,
   "id": "6e50c289",
   "metadata": {},
   "outputs": [
    {
     "data": {
      "text/plain": [
       "[Text(0.5, 0, 'Tenure in Months'), Text(0, 0.5, 'Count')]"
      ]
     },
     "execution_count": 17,
     "metadata": {},
     "output_type": "execute_result"
    },
    {
     "data": {
      "image/png": "[encoded data removed]",
      "text/plain": [
       "<Figure size 432x288 with 1 Axes>"
      ]
     },
     "metadata": {
      "needs_background": "light"
     },
     "output_type": "display_data"
    }
   ],
   "source": [
    "# display histplot for tenure in Churn:\n",
    "ax = sns.histplot(x = 'tenure', hue = 'Churn', data = df, multiple='dodge')\n",
    "ax.set(xlabel=\"Tenure in Months\", ylabel = \"Count\")"
   ]
  },
  {
   "cell_type": "code",
   "execution_count": 18,
   "id": "682017b4",
   "metadata": {},
   "outputs": [
    {
     "data": {
      "text/plain": [
       "<AxesSubplot:xlabel='TechSupport', ylabel='count'>"
      ]
     },
     "execution_count": 18,
     "metadata": {},
     "output_type": "execute_result"
    },
    {
     "data": {
      "image/png": "[encoded data removed]",
      "text/plain": [
       "<Figure size 432x288 with 1 Axes>"
      ]
     },
     "metadata": {
      "needs_background": "light"
     },
     "output_type": "display_data"
    }
   ],
   "source": [
    "# display countplot for TechSuppor in churn:\n",
    "sns.countplot(x='TechSupport',data=df, hue='Churn',palette='viridis')"
   ]
  },
  {
   "cell_type": "code",
   "execution_count": 19,
   "id": "6799d864",
   "metadata": {},
   "outputs": [
    {
     "data": {
      "image/png": "[encoded data removed]",
      "text/plain": [
       "<Figure size 576x432 with 1 Axes>"
      ]
     },
     "metadata": {
      "needs_background": "light"
     },
     "output_type": "display_data"
    }
   ],
   "source": [
    "# OnlineSecurity vs Churn\n",
    "f, ax = plt.subplots(figsize=(8,6))\n",
    "fig_churn_phone_service = sns.countplot(x=\"OnlineSecurity\",hue=\"Churn\",data=df)\n",
    "fig_churn_phone_service.set_title(\"Does Having a OnlineSecurity affect Churn rate?\")\n",
    "plt.show()"
   ]
  },
  {
   "cell_type": "code",
   "execution_count": 20,
   "id": "36a5ad93",
   "metadata": {},
   "outputs": [
    {
     "data": {
      "text/html": [
       "<div>\n",
       "<style scoped>\n",
       "    .dataframe tbody tr th:only-of-type {\n",
       "        vertical-align: middle;\n",
       "    }\n",
       "\n",
       "    .dataframe tbody tr th {\n",
       "        vertical-align: top;\n",
       "    }\n",
       "\n",
       "    .dataframe thead th {\n",
       "        text-align: right;\n",
       "    }\n",
       "</style>\n",
       "<table border=\"1\" class=\"dataframe\">\n",
       "  <thead>\n",
       "    <tr style=\"text-align: right;\">\n",
       "      <th></th>\n",
       "      <th>SeniorCitizen</th>\n",
       "      <th>tenure</th>\n",
       "      <th>MonthlyCharges</th>\n",
       "      <th>Churn_Labeled</th>\n",
       "      <th>PhoneService_Labeled</th>\n",
       "      <th>OnlineSecurity_Labeled</th>\n",
       "      <th>TechSupport_Labeled</th>\n",
       "      <th>StreamingTV_Labeled</th>\n",
       "      <th>StreamingMovies_Labeled</th>\n",
       "      <th>PaperlessBilling_Labeled</th>\n",
       "    </tr>\n",
       "  </thead>\n",
       "  <tbody>\n",
       "    <tr>\n",
       "      <th>SeniorCitizen</th>\n",
       "      <td>1.000000</td>\n",
       "      <td>0.016567</td>\n",
       "      <td>0.220173</td>\n",
       "      <td>0.150889</td>\n",
       "      <td>0.008576</td>\n",
       "      <td>-0.128221</td>\n",
       "      <td>-0.151268</td>\n",
       "      <td>0.030776</td>\n",
       "      <td>0.047266</td>\n",
       "      <td>0.156530</td>\n",
       "    </tr>\n",
       "    <tr>\n",
       "      <th>tenure</th>\n",
       "      <td>0.016567</td>\n",
       "      <td>1.000000</td>\n",
       "      <td>0.247900</td>\n",
       "      <td>-0.352229</td>\n",
       "      <td>0.008448</td>\n",
       "      <td>0.325468</td>\n",
       "      <td>0.322942</td>\n",
       "      <td>0.289373</td>\n",
       "      <td>0.296866</td>\n",
       "      <td>0.006152</td>\n",
       "    </tr>\n",
       "    <tr>\n",
       "      <th>MonthlyCharges</th>\n",
       "      <td>0.220173</td>\n",
       "      <td>0.247900</td>\n",
       "      <td>1.000000</td>\n",
       "      <td>0.193356</td>\n",
       "      <td>0.247398</td>\n",
       "      <td>-0.053878</td>\n",
       "      <td>-0.008682</td>\n",
       "      <td>0.336706</td>\n",
       "      <td>0.335459</td>\n",
       "      <td>0.352150</td>\n",
       "    </tr>\n",
       "    <tr>\n",
       "      <th>Churn_Labeled</th>\n",
       "      <td>0.150889</td>\n",
       "      <td>-0.352229</td>\n",
       "      <td>0.193356</td>\n",
       "      <td>1.000000</td>\n",
       "      <td>0.011942</td>\n",
       "      <td>-0.289309</td>\n",
       "      <td>-0.282492</td>\n",
       "      <td>-0.036581</td>\n",
       "      <td>-0.038492</td>\n",
       "      <td>0.191825</td>\n",
       "    </tr>\n",
       "    <tr>\n",
       "      <th>PhoneService_Labeled</th>\n",
       "      <td>0.008576</td>\n",
       "      <td>0.008448</td>\n",
       "      <td>0.247398</td>\n",
       "      <td>0.011942</td>\n",
       "      <td>1.000000</td>\n",
       "      <td>-0.015198</td>\n",
       "      <td>-0.019158</td>\n",
       "      <td>0.055353</td>\n",
       "      <td>0.043870</td>\n",
       "      <td>0.016505</td>\n",
       "    </tr>\n",
       "    <tr>\n",
       "      <th>OnlineSecurity_Labeled</th>\n",
       "      <td>-0.128221</td>\n",
       "      <td>0.325468</td>\n",
       "      <td>-0.053878</td>\n",
       "      <td>-0.289309</td>\n",
       "      <td>-0.015198</td>\n",
       "      <td>1.000000</td>\n",
       "      <td>0.285028</td>\n",
       "      <td>0.044669</td>\n",
       "      <td>0.055954</td>\n",
       "      <td>-0.157641</td>\n",
       "    </tr>\n",
       "    <tr>\n",
       "      <th>TechSupport_Labeled</th>\n",
       "      <td>-0.151268</td>\n",
       "      <td>0.322942</td>\n",
       "      <td>-0.008682</td>\n",
       "      <td>-0.282492</td>\n",
       "      <td>-0.019158</td>\n",
       "      <td>0.285028</td>\n",
       "      <td>1.000000</td>\n",
       "      <td>0.161305</td>\n",
       "      <td>0.161316</td>\n",
       "      <td>-0.113600</td>\n",
       "    </tr>\n",
       "    <tr>\n",
       "      <th>StreamingTV_Labeled</th>\n",
       "      <td>0.030776</td>\n",
       "      <td>0.289373</td>\n",
       "      <td>0.336706</td>\n",
       "      <td>-0.036581</td>\n",
       "      <td>0.055353</td>\n",
       "      <td>0.044669</td>\n",
       "      <td>0.161305</td>\n",
       "      <td>1.000000</td>\n",
       "      <td>0.434772</td>\n",
       "      <td>0.096642</td>\n",
       "    </tr>\n",
       "    <tr>\n",
       "      <th>StreamingMovies_Labeled</th>\n",
       "      <td>0.047266</td>\n",
       "      <td>0.296866</td>\n",
       "      <td>0.335459</td>\n",
       "      <td>-0.038492</td>\n",
       "      <td>0.043870</td>\n",
       "      <td>0.055954</td>\n",
       "      <td>0.161316</td>\n",
       "      <td>0.434772</td>\n",
       "      <td>1.000000</td>\n",
       "      <td>0.083700</td>\n",
       "    </tr>\n",
       "    <tr>\n",
       "      <th>PaperlessBilling_Labeled</th>\n",
       "      <td>0.156530</td>\n",
       "      <td>0.006152</td>\n",
       "      <td>0.352150</td>\n",
       "      <td>0.191825</td>\n",
       "      <td>0.016505</td>\n",
       "      <td>-0.157641</td>\n",
       "      <td>-0.113600</td>\n",
       "      <td>0.096642</td>\n",
       "      <td>0.083700</td>\n",
       "      <td>1.000000</td>\n",
       "    </tr>\n",
       "  </tbody>\n",
       "</table>\n",
       "</div>"
      ],
      "text/plain": [
       "                          SeniorCitizen    tenure  MonthlyCharges  \\\n",
       "SeniorCitizen                  1.000000  0.016567        0.220173   \n",
       "tenure                         0.016567  1.000000        0.247900   \n",
       "MonthlyCharges                 0.220173  0.247900        1.000000   \n",
       "Churn_Labeled                  0.150889 -0.352229        0.193356   \n",
       "PhoneService_Labeled           0.008576  0.008448        0.247398   \n",
       "OnlineSecurity_Labeled        -0.128221  0.325468       -0.053878   \n",
       "TechSupport_Labeled           -0.151268  0.322942       -0.008682   \n",
       "StreamingTV_Labeled            0.030776  0.289373        0.336706   \n",
       "StreamingMovies_Labeled        0.047266  0.296866        0.335459   \n",
       "PaperlessBilling_Labeled       0.156530  0.006152        0.352150   \n",
       "\n",
       "                          Churn_Labeled  PhoneService_Labeled  \\\n",
       "SeniorCitizen                  0.150889              0.008576   \n",
       "tenure                        -0.352229              0.008448   \n",
       "MonthlyCharges                 0.193356              0.247398   \n",
       "Churn_Labeled                  1.000000              0.011942   \n",
       "PhoneService_Labeled           0.011942              1.000000   \n",
       "OnlineSecurity_Labeled        -0.289309             -0.015198   \n",
       "TechSupport_Labeled           -0.282492             -0.019158   \n",
       "StreamingTV_Labeled           -0.036581              0.055353   \n",
       "StreamingMovies_Labeled       -0.038492              0.043870   \n",
       "PaperlessBilling_Labeled       0.191825              0.016505   \n",
       "\n",
       "                          OnlineSecurity_Labeled  TechSupport_Labeled  \\\n",
       "SeniorCitizen                          -0.128221            -0.151268   \n",
       "tenure                                  0.325468             0.322942   \n",
       "MonthlyCharges                         -0.053878            -0.008682   \n",
       "Churn_Labeled                          -0.289309            -0.282492   \n",
       "PhoneService_Labeled                   -0.015198            -0.019158   \n",
       "OnlineSecurity_Labeled                  1.000000             0.285028   \n",
       "TechSupport_Labeled                     0.285028             1.000000   \n",
       "StreamingTV_Labeled                     0.044669             0.161305   \n",
       "StreamingMovies_Labeled                 0.055954             0.161316   \n",
       "PaperlessBilling_Labeled               -0.157641            -0.113600   \n",
       "\n",
       "                          StreamingTV_Labeled  StreamingMovies_Labeled  \\\n",
       "SeniorCitizen                        0.030776                 0.047266   \n",
       "tenure                               0.289373                 0.296866   \n",
       "MonthlyCharges                       0.336706                 0.335459   \n",
       "Churn_Labeled                       -0.036581                -0.038492   \n",
       "PhoneService_Labeled                 0.055353                 0.043870   \n",
       "OnlineSecurity_Labeled               0.044669                 0.055954   \n",
       "TechSupport_Labeled                  0.161305                 0.161316   \n",
       "StreamingTV_Labeled                  1.000000                 0.434772   \n",
       "StreamingMovies_Labeled              0.434772                 1.000000   \n",
       "PaperlessBilling_Labeled             0.096642                 0.083700   \n",
       "\n",
       "                          PaperlessBilling_Labeled  \n",
       "SeniorCitizen                             0.156530  \n",
       "tenure                                    0.006152  \n",
       "MonthlyCharges                            0.352150  \n",
       "Churn_Labeled                             0.191825  \n",
       "PhoneService_Labeled                      0.016505  \n",
       "OnlineSecurity_Labeled                   -0.157641  \n",
       "TechSupport_Labeled                      -0.113600  \n",
       "StreamingTV_Labeled                       0.096642  \n",
       "StreamingMovies_Labeled                   0.083700  \n",
       "PaperlessBilling_Labeled                  1.000000  "
      ]
     },
     "execution_count": 20,
     "metadata": {},
     "output_type": "execute_result"
    }
   ],
   "source": [
    "# Correlation of data:\n",
    "corr = df.corr(method='pearson')\n",
    "corr"
   ]
  },
  {
   "cell_type": "code",
   "execution_count": 21,
   "id": "1cb38b6a",
   "metadata": {},
   "outputs": [
    {
     "data": {
      "image/png": "[encoded data removed]",
      "text/plain": [
       "<Figure size 720x432 with 2 Axes>"
      ]
     },
     "metadata": {
      "needs_background": "light"
     },
     "output_type": "display_data"
    }
   ],
   "source": [
    "# display heatmap:\n",
    "plt.subplots(figsize=(10,6))\n",
    "sns.heatmap(df.corr(), annot=True);"
   ]
  },
  {
   "cell_type": "code",
   "execution_count": 22,
   "id": "f6b3cfec",
   "metadata": {},
   "outputs": [],
   "source": [
    "new_df = df.copy() # make copy of df\n",
    "new_df.drop(columns=['Churn_Labeled', 'PhoneService_Labeled', 'OnlineSecurity_Labeled',\n",
    "       'TechSupport_Labeled', 'StreamingTV_Labeled', 'StreamingMovies_Labeled',\n",
    "       'PaperlessBilling_Labeled'],inplace=True) # drop not needed cols\n",
    "\n",
    "# Label Encoding\n",
    "to_label = new_df.columns\n",
    "for label in to_label:\n",
    "    new_column_name = f\"{label}_Labeled\"\n",
    "    new_df[new_column_name] = lb.fit_transform(new_df[label])"
   ]
  },
  {
   "cell_type": "code",
   "execution_count": 23,
   "id": "1cc40ec6",
   "metadata": {},
   "outputs": [],
   "source": [
    "# Hrer Feature selection:   \n",
    "X = new_df[['SeniorCitizen_Labeled', 'Partner_Labeled',\n",
    "       'Dependents_Labeled', 'tenure_Labeled', 'PhoneService_Labeled',\n",
    "       'MultipleLines_Labeled', 'InternetService_Labeled',\n",
    "       'OnlineSecurity_Labeled', 'OnlineBackup_Labeled',\n",
    "       'DeviceProtection_Labeled', 'TechSupport_Labeled',\n",
    "       'StreamingTV_Labeled', 'StreamingMovies_Labeled', 'Contract_Labeled',\n",
    "       'PaperlessBilling_Labeled', 'PaymentMethod_Labeled',\n",
    "       'MonthlyCharges_Labeled', 'TotalCharges_Labeled']]\n",
    "y = new_df[\"Churn_Labeled\"]"
   ]
  },
  {
   "cell_type": "code",
   "execution_count": 24,
   "id": "4c84712b",
   "metadata": {},
   "outputs": [
    {
     "name": "stdout",
     "output_type": "stream",
     "text": [
      "      SeniorCitizen_Labeled  Partner_Labeled  Dependents_Labeled  \\\n",
      "0                         0                1                   0   \n",
      "1                         0                0                   0   \n",
      "2                         0                0                   0   \n",
      "3                         0                0                   0   \n",
      "4                         0                0                   0   \n",
      "...                     ...              ...                 ...   \n",
      "7038                      0                1                   1   \n",
      "7039                      0                1                   1   \n",
      "7040                      0                1                   1   \n",
      "7041                      1                1                   0   \n",
      "7042                      0                0                   0   \n",
      "\n",
      "      tenure_Labeled  PhoneService_Labeled  MultipleLines_Labeled  \\\n",
      "0                  1                     0                      1   \n",
      "1                 34                     1                      0   \n",
      "2                  2                     1                      0   \n",
      "3                 45                     0                      1   \n",
      "4                  2                     1                      0   \n",
      "...              ...                   ...                    ...   \n",
      "7038              24                     1                      2   \n",
      "7039              72                     1                      2   \n",
      "7040              11                     0                      1   \n",
      "7041               4                     1                      2   \n",
      "7042              66                     1                      0   \n",
      "\n",
      "      InternetService_Labeled  OnlineSecurity_Labeled  OnlineBackup_Labeled  \\\n",
      "0                           0                       0                     2   \n",
      "1                           0                       2                     0   \n",
      "2                           0                       2                     2   \n",
      "3                           0                       2                     0   \n",
      "4                           1                       0                     0   \n",
      "...                       ...                     ...                   ...   \n",
      "7038                        0                       2                     0   \n",
      "7039                        1                       0                     2   \n",
      "7040                        0                       2                     0   \n",
      "7041                        1                       0                     0   \n",
      "7042                        1                       2                     0   \n",
      "\n",
      "      DeviceProtection_Labeled  TechSupport_Labeled  StreamingTV_Labeled  \\\n",
      "0                            0                    0                    0   \n",
      "1                            2                    0                    0   \n",
      "2                            0                    0                    0   \n",
      "3                            2                    2                    0   \n",
      "4                            0                    0                    0   \n",
      "...                        ...                  ...                  ...   \n",
      "7038                         2                    2                    2   \n",
      "7039                         2                    0                    2   \n",
      "7040                         0                    0                    0   \n",
      "7041                         0                    0                    0   \n",
      "7042                         2                    2                    2   \n",
      "\n",
      "      StreamingMovies_Labeled  Contract_Labeled  PaperlessBilling_Labeled  \\\n",
      "0                           0                 0                         1   \n",
      "1                           0                 1                         0   \n",
      "2                           0                 0                         1   \n",
      "3                           0                 1                         0   \n",
      "4                           0                 0                         1   \n",
      "...                       ...               ...                       ...   \n",
      "7038                        2                 1                         1   \n",
      "7039                        2                 1                         1   \n",
      "7040                        0                 0                         1   \n",
      "7041                        0                 0                         1   \n",
      "7042                        2                 2                         1   \n",
      "\n",
      "      PaymentMethod_Labeled  MonthlyCharges_Labeled  TotalCharges_Labeled  \n",
      "0                         2                     142                  2505  \n",
      "1                         3                     498                  1466  \n",
      "2                         3                     436                   157  \n",
      "3                         0                     266                  1400  \n",
      "4                         2                     729                   925  \n",
      "...                     ...                     ...                   ...  \n",
      "7038                      3                     991                  1597  \n",
      "7039                      1                    1340                  5698  \n",
      "7040                      2                     137                  2994  \n",
      "7041                      3                     795                  2660  \n",
      "7042                      0                    1388                  5407  \n",
      "\n",
      "[7043 rows x 18 columns]\n",
      "0       0\n",
      "1       0\n",
      "2       1\n",
      "3       0\n",
      "4       1\n",
      "       ..\n",
      "7038    0\n",
      "7039    0\n",
      "7040    0\n",
      "7041    1\n",
      "7042    0\n",
      "Name: Churn_Labeled, Length: 7043, dtype: int32\n"
     ]
    }
   ],
   "source": [
    "print(X)\n",
    "print(y)"
   ]
  },
  {
   "cell_type": "markdown",
   "id": "0fd25e82",
   "metadata": {},
   "source": [
    "#### Split datasets into train and test"
   ]
  },
  {
   "cell_type": "code",
   "execution_count": 25,
   "id": "3d9333c6",
   "metadata": {},
   "outputs": [],
   "source": [
    "# Train Test Split:\n",
    "from sklearn.model_selection import train_test_split\n",
    "X_train, X_test, y_train, y_test = train_test_split(X,y,test_size=0.3)"
   ]
  },
  {
   "cell_type": "markdown",
   "id": "4507b8c8",
   "metadata": {},
   "source": [
    "#### Here Creating Model:"
   ]
  },
  {
   "cell_type": "code",
   "execution_count": 26,
   "id": "c8a776d0",
   "metadata": {},
   "outputs": [
    {
     "name": "stdout",
     "output_type": "stream",
     "text": [
      "Acc on training data: 0.804\n",
      "Acc on test data: 0.794\n"
     ]
    }
   ],
   "source": [
    "from sklearn.linear_model import LogisticRegression\n",
    "from sklearn.metrics import accuracy_score\n",
    "\n",
    "lr = LogisticRegression()\n",
    "\n",
    "model = lr.fit(X_train, y_train)\n",
    "prediction = model.predict(X_test)\n",
    "\n",
    "print(\"Acc on training data: {:,.3f}\".format(lr.score(X_train, y_train)))\n",
    "print(\"Acc on test data: {:,.3f}\".format(lr.score(X_test, y_test)))"
   ]
  },
  {
   "cell_type": "code",
   "execution_count": 27,
   "id": "b3e97444",
   "metadata": {},
   "outputs": [
    {
     "name": "stdout",
     "output_type": "stream",
     "text": [
      "[23:40:02] WARNING: C:/Users/Administrator/workspace/xgboost-win64_release_1.5.1/src/learner.cc:1115: Starting in XGBoost 1.3.0, the default evaluation metric used with the objective 'binary:logistic' was changed from 'error' to 'logloss'. Explicitly set eval_metric if you'd like to restore the old behavior.\n",
      "Acc on training data: 0.950\n",
      "Acc on test data: 0.769\n"
     ]
    }
   ],
   "source": [
    "from xgboost import XGBClassifier\n",
    "xgb_model = XGBClassifier()\n",
    "xgb_model.fit(X_train, y_train)\n",
    "prediction_xgb = xgb_model.predict(X_test)\n",
    "print(\"Acc on training data: {:,.3f}\".format(xgb_model.score(X_train, y_train)))\n",
    "print(\"Acc on test data: {:,.3f}\".format(xgb_model.score(X_test, y_test)))\n",
    "# print(accuracy_score(y_test, prediction_xgb))"
   ]
  },
  {
   "cell_type": "code",
   "execution_count": 28,
   "id": "6bab5e37",
   "metadata": {},
   "outputs": [
    {
     "name": "stdout",
     "output_type": "stream",
     "text": [
      "Acc on training data: 0.997\n",
      "Acc on test data: 0.769\n"
     ]
    }
   ],
   "source": [
    "from sklearn.ensemble import RandomForestClassifier\n",
    "\n",
    "rfc = RandomForestClassifier()\n",
    "\n",
    "model1 = rfc.fit(X_train, y_train)\n",
    "prediction1 = model1.predict(X_test)\n",
    "\n",
    "print(\"Acc on training data: {:,.3f}\".format(rfc.score(X_train, y_train)))\n",
    "print(\"Acc on test data: {:,.3f}\".format(rfc.score(X_test, y_test)))"
   ]
  },
  {
   "cell_type": "code",
   "execution_count": 29,
   "id": "78b244c3",
   "metadata": {},
   "outputs": [
    {
     "name": "stdout",
     "output_type": "stream",
     "text": [
      "Acc on: 0.7368670137245622\n"
     ]
    }
   ],
   "source": [
    "from sklearn.neighbors import KNeighborsClassifier\n",
    "from sklearn import metrics\n",
    "knn = KNeighborsClassifier(n_neighbors = 3) \n",
    "knn.fit(X_train, y_train) \n",
    "y_pred = knn.predict(X_test) \n",
    "acc_knn = round(knn.score(X_train, y_train) * 100, 2)\n",
    "acc_knn = round(metrics.accuracy_score(y_test, y_pred) * 100, 2)\n",
    "print(\"Acc on:\",metrics.accuracy_score(y_test, y_pred))"
   ]
  },
  {
   "cell_type": "markdown",
   "id": "ae6d578a",
   "metadata": {},
   "source": [
    "#### Model Evaluation:"
   ]
  },
  {
   "cell_type": "code",
   "execution_count": 30,
   "id": "26658afc",
   "metadata": {},
   "outputs": [
    {
     "name": "stdout",
     "output_type": "stream",
     "text": [
      "[[1353  178]\n",
      " [ 311  271]]\n"
     ]
    }
   ],
   "source": [
    "# Carting Confusion Matrix\n",
    "from sklearn.metrics import confusion_matrix\n",
    "from sklearn.metrics import classification_report\n",
    "print(confusion_matrix(y_test, prediction1))"
   ]
  },
  {
   "cell_type": "code",
   "execution_count": 31,
   "id": "e924da1f",
   "metadata": {},
   "outputs": [
    {
     "name": "stdout",
     "output_type": "stream",
     "text": [
      "              precision    recall  f1-score   support\n",
      "\n",
      "           0       0.81      0.88      0.85      1531\n",
      "           1       0.60      0.47      0.53       582\n",
      "\n",
      "    accuracy                           0.77      2113\n",
      "   macro avg       0.71      0.67      0.69      2113\n",
      "weighted avg       0.76      0.77      0.76      2113\n",
      "\n"
     ]
    }
   ],
   "source": [
    "print(classification_report(y_test, prediction1))"
   ]
  },
  {
   "cell_type": "code",
   "execution_count": 32,
   "id": "78e5156c",
   "metadata": {},
   "outputs": [
    {
     "data": {
      "text/plain": [
       "array([0.80340667, 0.79488999, 0.7828247 , 0.8046875 , 0.80397727])"
      ]
     },
     "execution_count": 32,
     "metadata": {},
     "output_type": "execute_result"
    }
   ],
   "source": [
    "# here doing Cross validated:\n",
    "from sklearn.model_selection import cross_val_score\n",
    "scores = cross_val_score(lr, X, y, cv=5)\n",
    "scores"
   ]
  },
  {
   "cell_type": "code",
   "execution_count": 33,
   "id": "b795a656",
   "metadata": {},
   "outputs": [
    {
     "name": "stdout",
     "output_type": "stream",
     "text": [
      "Tuned DecisionTreeClassifier: {'C': 0.19306977288832497}\n",
      "Best score is 0.8010809165107426\n"
     ]
    }
   ],
   "source": [
    "# Creating the hyperparameter grid:\n",
    "from sklearn.model_selection import GridSearchCV\n",
    "from sklearn.tree import DecisionTreeClassifier\n",
    "c_space = np.logspace(-5, 5, 8)\n",
    "param_grid = {'C': c_space}\n",
    "lr= LogisticRegression()\n",
    "lr_cv = GridSearchCV(lr, param_grid, cv = 5)\n",
    "lr_cv.fit(X,y)\n",
    "print(\"Tuned DecisionTreeClassifier: {}\".format(lr_cv.best_params_))\n",
    "print(\"Best score is {}\".format(lr_cv.best_score_))"
   ]
  },
  {
   "cell_type": "code",
   "execution_count": 34,
   "id": "8e925c54",
   "metadata": {},
   "outputs": [
    {
     "data": {
      "image/png": "[encoded data removed]",
      "text/plain": [
       "<Figure size 432x288 with 1 Axes>"
      ]
     },
     "metadata": {
      "needs_background": "light"
     },
     "output_type": "display_data"
    }
   ],
   "source": [
    "# here ploting roc_curve :\n",
    "from sklearn import datasets, metrics, model_selection, svm\n",
    "X, y = datasets.make_classification(random_state=0)\n",
    "lr = svm.SVC(random_state=0)\n",
    "lr.fit(X_train, y_train)\n",
    "metrics.plot_roc_curve(lr, X_test, y_test) \n",
    "plt.show()"
   ]
  },
  {
   "cell_type": "code",
   "execution_count": 35,
   "id": "40b9c726",
   "metadata": {},
   "outputs": [],
   "source": [
    "# save the model:\n",
    "import pickle\n",
    "file = 'Customer Churn Analysis'\n",
    "#save file\n",
    "save = pickle.dump(model,open(file,'wb'))"
   ]
  },
  {
   "cell_type": "code",
   "execution_count": null,
   "id": "0a1e4090",
   "metadata": {},
   "outputs": [],
   "source": []
  }
 ],
 "metadata": {
  "kernelspec": {
   "display_name": "Python 3",
   "language": "python",
   "name": "python3"
  },
  "language_info": {
   "codemirror_mode": {
    "name": "ipython",
    "version": 3
   },
   "file_extension": ".py",
   "mimetype": "text/x-python",
   "name": "python",
   "nbconvert_exporter": "python",
   "pygments_lexer": "ipython3",
   "version": "3.8.8"
  }
 },
 "nbformat": 4,
 "nbformat_minor": 5
}
