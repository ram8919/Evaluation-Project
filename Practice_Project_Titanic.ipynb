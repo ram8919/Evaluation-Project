{
 "cells": [
  {
   "cell_type": "markdown",
   "id": "e3068f4e",
   "metadata": {},
   "source": [
    "# Importing required libararies"
   ]
  },
  {
   "cell_type": "code",
   "execution_count": 1,
   "id": "3843a7e4",
   "metadata": {},
   "outputs": [],
   "source": [
    "import numpy as np\n",
    "import matplotlib.pyplot as plt\n",
    "import warnings\n",
    "import seaborn as sns\n",
    "warnings.filterwarnings('ignore')"
   ]
  },
  {
   "cell_type": "markdown",
   "id": "b1908c51",
   "metadata": {},
   "source": [
    "# Loading the dataset"
   ]
  },
  {
   "cell_type": "code",
   "execution_count": 2,
   "id": "b9dde859",
   "metadata": {},
   "outputs": [
    {
     "data": {
      "text/html": [
       "<div>\n",
       "<style scoped>\n",
       "    .dataframe tbody tr th:only-of-type {\n",
       "        vertical-align: middle;\n",
       "    }\n",
       "\n",
       "    .dataframe tbody tr th {\n",
       "        vertical-align: top;\n",
       "    }\n",
       "\n",
       "    .dataframe thead th {\n",
       "        text-align: right;\n",
       "    }\n",
       "</style>\n",
       "<table border=\"1\" class=\"dataframe\">\n",
       "  <thead>\n",
       "    <tr style=\"text-align: right;\">\n",
       "      <th></th>\n",
       "      <th>PassengerId</th>\n",
       "      <th>Survived</th>\n",
       "      <th>Pclass</th>\n",
       "      <th>Name</th>\n",
       "      <th>Sex</th>\n",
       "      <th>Age</th>\n",
       "      <th>SibSp</th>\n",
       "      <th>Parch</th>\n",
       "      <th>Ticket</th>\n",
       "      <th>Fare</th>\n",
       "      <th>Cabin</th>\n",
       "      <th>Embarked</th>\n",
       "    </tr>\n",
       "  </thead>\n",
       "  <tbody>\n",
       "    <tr>\n",
       "      <th>0</th>\n",
       "      <td>1</td>\n",
       "      <td>0</td>\n",
       "      <td>3</td>\n",
       "      <td>Braund, Mr. Owen Harris</td>\n",
       "      <td>male</td>\n",
       "      <td>22.0</td>\n",
       "      <td>1</td>\n",
       "      <td>0</td>\n",
       "      <td>A/5 21171</td>\n",
       "      <td>7.2500</td>\n",
       "      <td>NaN</td>\n",
       "      <td>S</td>\n",
       "    </tr>\n",
       "    <tr>\n",
       "      <th>1</th>\n",
       "      <td>2</td>\n",
       "      <td>1</td>\n",
       "      <td>1</td>\n",
       "      <td>Cumings, Mrs. John Bradley (Florence Briggs Th...</td>\n",
       "      <td>female</td>\n",
       "      <td>38.0</td>\n",
       "      <td>1</td>\n",
       "      <td>0</td>\n",
       "      <td>PC 17599</td>\n",
       "      <td>71.2833</td>\n",
       "      <td>C85</td>\n",
       "      <td>C</td>\n",
       "    </tr>\n",
       "    <tr>\n",
       "      <th>2</th>\n",
       "      <td>3</td>\n",
       "      <td>1</td>\n",
       "      <td>3</td>\n",
       "      <td>Heikkinen, Miss. Laina</td>\n",
       "      <td>female</td>\n",
       "      <td>26.0</td>\n",
       "      <td>0</td>\n",
       "      <td>0</td>\n",
       "      <td>STON/O2. 3101282</td>\n",
       "      <td>7.9250</td>\n",
       "      <td>NaN</td>\n",
       "      <td>S</td>\n",
       "    </tr>\n",
       "    <tr>\n",
       "      <th>3</th>\n",
       "      <td>4</td>\n",
       "      <td>1</td>\n",
       "      <td>1</td>\n",
       "      <td>Futrelle, Mrs. Jacques Heath (Lily May Peel)</td>\n",
       "      <td>female</td>\n",
       "      <td>35.0</td>\n",
       "      <td>1</td>\n",
       "      <td>0</td>\n",
       "      <td>113803</td>\n",
       "      <td>53.1000</td>\n",
       "      <td>C123</td>\n",
       "      <td>S</td>\n",
       "    </tr>\n",
       "    <tr>\n",
       "      <th>4</th>\n",
       "      <td>5</td>\n",
       "      <td>0</td>\n",
       "      <td>3</td>\n",
       "      <td>Allen, Mr. William Henry</td>\n",
       "      <td>male</td>\n",
       "      <td>35.0</td>\n",
       "      <td>0</td>\n",
       "      <td>0</td>\n",
       "      <td>373450</td>\n",
       "      <td>8.0500</td>\n",
       "      <td>NaN</td>\n",
       "      <td>S</td>\n",
       "    </tr>\n",
       "    <tr>\n",
       "      <th>...</th>\n",
       "      <td>...</td>\n",
       "      <td>...</td>\n",
       "      <td>...</td>\n",
       "      <td>...</td>\n",
       "      <td>...</td>\n",
       "      <td>...</td>\n",
       "      <td>...</td>\n",
       "      <td>...</td>\n",
       "      <td>...</td>\n",
       "      <td>...</td>\n",
       "      <td>...</td>\n",
       "      <td>...</td>\n",
       "    </tr>\n",
       "    <tr>\n",
       "      <th>886</th>\n",
       "      <td>887</td>\n",
       "      <td>0</td>\n",
       "      <td>2</td>\n",
       "      <td>Montvila, Rev. Juozas</td>\n",
       "      <td>male</td>\n",
       "      <td>27.0</td>\n",
       "      <td>0</td>\n",
       "      <td>0</td>\n",
       "      <td>211536</td>\n",
       "      <td>13.0000</td>\n",
       "      <td>NaN</td>\n",
       "      <td>S</td>\n",
       "    </tr>\n",
       "    <tr>\n",
       "      <th>887</th>\n",
       "      <td>888</td>\n",
       "      <td>1</td>\n",
       "      <td>1</td>\n",
       "      <td>Graham, Miss. Margaret Edith</td>\n",
       "      <td>female</td>\n",
       "      <td>19.0</td>\n",
       "      <td>0</td>\n",
       "      <td>0</td>\n",
       "      <td>112053</td>\n",
       "      <td>30.0000</td>\n",
       "      <td>B42</td>\n",
       "      <td>S</td>\n",
       "    </tr>\n",
       "    <tr>\n",
       "      <th>888</th>\n",
       "      <td>889</td>\n",
       "      <td>0</td>\n",
       "      <td>3</td>\n",
       "      <td>Johnston, Miss. Catherine Helen \"Carrie\"</td>\n",
       "      <td>female</td>\n",
       "      <td>NaN</td>\n",
       "      <td>1</td>\n",
       "      <td>2</td>\n",
       "      <td>W./C. 6607</td>\n",
       "      <td>23.4500</td>\n",
       "      <td>NaN</td>\n",
       "      <td>S</td>\n",
       "    </tr>\n",
       "    <tr>\n",
       "      <th>889</th>\n",
       "      <td>890</td>\n",
       "      <td>1</td>\n",
       "      <td>1</td>\n",
       "      <td>Behr, Mr. Karl Howell</td>\n",
       "      <td>male</td>\n",
       "      <td>26.0</td>\n",
       "      <td>0</td>\n",
       "      <td>0</td>\n",
       "      <td>111369</td>\n",
       "      <td>30.0000</td>\n",
       "      <td>C148</td>\n",
       "      <td>C</td>\n",
       "    </tr>\n",
       "    <tr>\n",
       "      <th>890</th>\n",
       "      <td>891</td>\n",
       "      <td>0</td>\n",
       "      <td>3</td>\n",
       "      <td>Dooley, Mr. Patrick</td>\n",
       "      <td>male</td>\n",
       "      <td>32.0</td>\n",
       "      <td>0</td>\n",
       "      <td>0</td>\n",
       "      <td>370376</td>\n",
       "      <td>7.7500</td>\n",
       "      <td>NaN</td>\n",
       "      <td>Q</td>\n",
       "    </tr>\n",
       "  </tbody>\n",
       "</table>\n",
       "<p>891 rows × 12 columns</p>\n",
       "</div>"
      ],
      "text/plain": [
       "     PassengerId  Survived  Pclass  \\\n",
       "0              1         0       3   \n",
       "1              2         1       1   \n",
       "2              3         1       3   \n",
       "3              4         1       1   \n",
       "4              5         0       3   \n",
       "..           ...       ...     ...   \n",
       "886          887         0       2   \n",
       "887          888         1       1   \n",
       "888          889         0       3   \n",
       "889          890         1       1   \n",
       "890          891         0       3   \n",
       "\n",
       "                                                  Name     Sex   Age  SibSp  \\\n",
       "0                              Braund, Mr. Owen Harris    male  22.0      1   \n",
       "1    Cumings, Mrs. John Bradley (Florence Briggs Th...  female  38.0      1   \n",
       "2                               Heikkinen, Miss. Laina  female  26.0      0   \n",
       "3         Futrelle, Mrs. Jacques Heath (Lily May Peel)  female  35.0      1   \n",
       "4                             Allen, Mr. William Henry    male  35.0      0   \n",
       "..                                                 ...     ...   ...    ...   \n",
       "886                              Montvila, Rev. Juozas    male  27.0      0   \n",
       "887                       Graham, Miss. Margaret Edith  female  19.0      0   \n",
       "888           Johnston, Miss. Catherine Helen \"Carrie\"  female   NaN      1   \n",
       "889                              Behr, Mr. Karl Howell    male  26.0      0   \n",
       "890                                Dooley, Mr. Patrick    male  32.0      0   \n",
       "\n",
       "     Parch            Ticket     Fare Cabin Embarked  \n",
       "0        0         A/5 21171   7.2500   NaN        S  \n",
       "1        0          PC 17599  71.2833   C85        C  \n",
       "2        0  STON/O2. 3101282   7.9250   NaN        S  \n",
       "3        0            113803  53.1000  C123        S  \n",
       "4        0            373450   8.0500   NaN        S  \n",
       "..     ...               ...      ...   ...      ...  \n",
       "886      0            211536  13.0000   NaN        S  \n",
       "887      0            112053  30.0000   B42        S  \n",
       "888      2        W./C. 6607  23.4500   NaN        S  \n",
       "889      0            111369  30.0000  C148        C  \n",
       "890      0            370376   7.7500   NaN        Q  \n",
       "\n",
       "[891 rows x 12 columns]"
      ]
     },
     "execution_count": 2,
     "metadata": {},
     "output_type": "execute_result"
    }
   ],
   "source": [
    "import pandas as pd\n",
    "df = pd.read_csv(r'https://raw.githubusercontent.com/dsrscientist/dataset1/master/titanic_train.csv')\n",
    "df"
   ]
  },
  {
   "cell_type": "code",
   "execution_count": 3,
   "id": "1556437a",
   "metadata": {},
   "outputs": [
    {
     "data": {
      "text/plain": [
       "(891, 12)"
      ]
     },
     "execution_count": 3,
     "metadata": {},
     "output_type": "execute_result"
    }
   ],
   "source": [
    "#checking data dimension.\n",
    "df.shape"
   ]
  },
  {
   "cell_type": "code",
   "execution_count": 4,
   "id": "fda5d2c4",
   "metadata": {},
   "outputs": [
    {
     "data": {
      "text/plain": [
       "Index(['PassengerId', 'Survived', 'Pclass', 'Name', 'Sex', 'Age', 'SibSp',\n",
       "       'Parch', 'Ticket', 'Fare', 'Cabin', 'Embarked'],\n",
       "      dtype='object')"
      ]
     },
     "execution_count": 4,
     "metadata": {},
     "output_type": "execute_result"
    }
   ],
   "source": [
    "#display columns of dataframe.\n",
    "df.columns"
   ]
  },
  {
   "cell_type": "code",
   "execution_count": 5,
   "id": "3e677337",
   "metadata": {},
   "outputs": [
    {
     "data": {
      "text/plain": [
       "PassengerId      int64\n",
       "Survived         int64\n",
       "Pclass           int64\n",
       "Name            object\n",
       "Sex             object\n",
       "Age            float64\n",
       "SibSp            int64\n",
       "Parch            int64\n",
       "Ticket          object\n",
       "Fare           float64\n",
       "Cabin           object\n",
       "Embarked        object\n",
       "dtype: object"
      ]
     },
     "execution_count": 5,
     "metadata": {},
     "output_type": "execute_result"
    }
   ],
   "source": [
    "#display datatypes of columns.\n",
    "df.dtypes"
   ]
  },
  {
   "cell_type": "code",
   "execution_count": 6,
   "id": "53f1fef5",
   "metadata": {},
   "outputs": [
    {
     "name": "stdout",
     "output_type": "stream",
     "text": [
      "<class 'pandas.core.frame.DataFrame'>\n",
      "RangeIndex: 891 entries, 0 to 890\n",
      "Data columns (total 12 columns):\n",
      " #   Column       Non-Null Count  Dtype  \n",
      "---  ------       --------------  -----  \n",
      " 0   PassengerId  891 non-null    int64  \n",
      " 1   Survived     891 non-null    int64  \n",
      " 2   Pclass       891 non-null    int64  \n",
      " 3   Name         891 non-null    object \n",
      " 4   Sex          891 non-null    object \n",
      " 5   Age          714 non-null    float64\n",
      " 6   SibSp        891 non-null    int64  \n",
      " 7   Parch        891 non-null    int64  \n",
      " 8   Ticket       891 non-null    object \n",
      " 9   Fare         891 non-null    float64\n",
      " 10  Cabin        204 non-null    object \n",
      " 11  Embarked     889 non-null    object \n",
      "dtypes: float64(2), int64(5), object(5)\n",
      "memory usage: 83.7+ KB\n"
     ]
    }
   ],
   "source": [
    "#display information of columns.\n",
    "df.info()"
   ]
  },
  {
   "cell_type": "code",
   "execution_count": 7,
   "id": "b795641f",
   "metadata": {},
   "outputs": [
    {
     "data": {
      "text/plain": [
       "PassengerId      0\n",
       "Survived         0\n",
       "Pclass           0\n",
       "Name             0\n",
       "Sex              0\n",
       "Age            177\n",
       "SibSp            0\n",
       "Parch            0\n",
       "Ticket           0\n",
       "Fare             0\n",
       "Cabin          687\n",
       "Embarked         2\n",
       "dtype: int64"
      ]
     },
     "execution_count": 7,
     "metadata": {},
     "output_type": "execute_result"
    }
   ],
   "source": [
    "#display sum of null values in columns.\n",
    "df.isnull().sum()"
   ]
  },
  {
   "cell_type": "code",
   "execution_count": 8,
   "id": "8857bb82",
   "metadata": {},
   "outputs": [
    {
     "data": {
      "text/plain": [
       "<AxesSubplot:>"
      ]
     },
     "execution_count": 8,
     "metadata": {},
     "output_type": "execute_result"
    },
    {
     "data": {
      "image/png": "[encoded data removed]",
      "text/plain": [
       "<Figure size 432x288 with 2 Axes>"
      ]
     },
     "metadata": {
      "needs_background": "light"
     },
     "output_type": "display_data"
    }
   ],
   "source": [
    "#display heatmap of null values in columns.\n",
    "sns.heatmap(df.isnull())"
   ]
  },
  {
   "cell_type": "code",
   "execution_count": 9,
   "id": "6c8f936a",
   "metadata": {},
   "outputs": [
    {
     "data": {
      "text/plain": [
       "PassengerId      0\n",
       "Survived         0\n",
       "Pclass           0\n",
       "Name             0\n",
       "Sex              0\n",
       "Age            177\n",
       "SibSp            0\n",
       "Parch            0\n",
       "Ticket           0\n",
       "Fare             0\n",
       "Cabin          687\n",
       "Embarked         2\n",
       "dtype: int64"
      ]
     },
     "execution_count": 9,
     "metadata": {},
     "output_type": "execute_result"
    }
   ],
   "source": [
    "#display sum of null values in columns.\n",
    "df.isnull().sum()"
   ]
  },
  {
   "cell_type": "code",
   "execution_count": 10,
   "id": "ae414d57",
   "metadata": {},
   "outputs": [
    {
     "data": {
      "text/html": [
       "<div>\n",
       "<style scoped>\n",
       "    .dataframe tbody tr th:only-of-type {\n",
       "        vertical-align: middle;\n",
       "    }\n",
       "\n",
       "    .dataframe tbody tr th {\n",
       "        vertical-align: top;\n",
       "    }\n",
       "\n",
       "    .dataframe thead th {\n",
       "        text-align: right;\n",
       "    }\n",
       "</style>\n",
       "<table border=\"1\" class=\"dataframe\">\n",
       "  <thead>\n",
       "    <tr style=\"text-align: right;\">\n",
       "      <th></th>\n",
       "      <th>PassengerId</th>\n",
       "      <th>Survived</th>\n",
       "      <th>Pclass</th>\n",
       "      <th>Name</th>\n",
       "      <th>Sex</th>\n",
       "      <th>Age</th>\n",
       "      <th>SibSp</th>\n",
       "      <th>Parch</th>\n",
       "      <th>Ticket</th>\n",
       "      <th>Fare</th>\n",
       "      <th>Cabin</th>\n",
       "      <th>Embarked</th>\n",
       "    </tr>\n",
       "  </thead>\n",
       "  <tbody>\n",
       "    <tr>\n",
       "      <th>0</th>\n",
       "      <td>1</td>\n",
       "      <td>0</td>\n",
       "      <td>3</td>\n",
       "      <td>Braund, Mr. Owen Harris</td>\n",
       "      <td>male</td>\n",
       "      <td>22.0</td>\n",
       "      <td>1</td>\n",
       "      <td>0</td>\n",
       "      <td>A/5 21171</td>\n",
       "      <td>7.2500</td>\n",
       "      <td>NaN</td>\n",
       "      <td>S</td>\n",
       "    </tr>\n",
       "    <tr>\n",
       "      <th>1</th>\n",
       "      <td>2</td>\n",
       "      <td>1</td>\n",
       "      <td>1</td>\n",
       "      <td>Cumings, Mrs. John Bradley (Florence Briggs Th...</td>\n",
       "      <td>female</td>\n",
       "      <td>38.0</td>\n",
       "      <td>1</td>\n",
       "      <td>0</td>\n",
       "      <td>PC 17599</td>\n",
       "      <td>71.2833</td>\n",
       "      <td>C85</td>\n",
       "      <td>C</td>\n",
       "    </tr>\n",
       "    <tr>\n",
       "      <th>2</th>\n",
       "      <td>3</td>\n",
       "      <td>1</td>\n",
       "      <td>3</td>\n",
       "      <td>Heikkinen, Miss. Laina</td>\n",
       "      <td>female</td>\n",
       "      <td>26.0</td>\n",
       "      <td>0</td>\n",
       "      <td>0</td>\n",
       "      <td>STON/O2. 3101282</td>\n",
       "      <td>7.9250</td>\n",
       "      <td>NaN</td>\n",
       "      <td>S</td>\n",
       "    </tr>\n",
       "    <tr>\n",
       "      <th>3</th>\n",
       "      <td>4</td>\n",
       "      <td>1</td>\n",
       "      <td>1</td>\n",
       "      <td>Futrelle, Mrs. Jacques Heath (Lily May Peel)</td>\n",
       "      <td>female</td>\n",
       "      <td>35.0</td>\n",
       "      <td>1</td>\n",
       "      <td>0</td>\n",
       "      <td>113803</td>\n",
       "      <td>53.1000</td>\n",
       "      <td>C123</td>\n",
       "      <td>S</td>\n",
       "    </tr>\n",
       "    <tr>\n",
       "      <th>4</th>\n",
       "      <td>5</td>\n",
       "      <td>0</td>\n",
       "      <td>3</td>\n",
       "      <td>Allen, Mr. William Henry</td>\n",
       "      <td>male</td>\n",
       "      <td>35.0</td>\n",
       "      <td>0</td>\n",
       "      <td>0</td>\n",
       "      <td>373450</td>\n",
       "      <td>8.0500</td>\n",
       "      <td>NaN</td>\n",
       "      <td>S</td>\n",
       "    </tr>\n",
       "    <tr>\n",
       "      <th>...</th>\n",
       "      <td>...</td>\n",
       "      <td>...</td>\n",
       "      <td>...</td>\n",
       "      <td>...</td>\n",
       "      <td>...</td>\n",
       "      <td>...</td>\n",
       "      <td>...</td>\n",
       "      <td>...</td>\n",
       "      <td>...</td>\n",
       "      <td>...</td>\n",
       "      <td>...</td>\n",
       "      <td>...</td>\n",
       "    </tr>\n",
       "    <tr>\n",
       "      <th>886</th>\n",
       "      <td>887</td>\n",
       "      <td>0</td>\n",
       "      <td>2</td>\n",
       "      <td>Montvila, Rev. Juozas</td>\n",
       "      <td>male</td>\n",
       "      <td>27.0</td>\n",
       "      <td>0</td>\n",
       "      <td>0</td>\n",
       "      <td>211536</td>\n",
       "      <td>13.0000</td>\n",
       "      <td>NaN</td>\n",
       "      <td>S</td>\n",
       "    </tr>\n",
       "    <tr>\n",
       "      <th>887</th>\n",
       "      <td>888</td>\n",
       "      <td>1</td>\n",
       "      <td>1</td>\n",
       "      <td>Graham, Miss. Margaret Edith</td>\n",
       "      <td>female</td>\n",
       "      <td>19.0</td>\n",
       "      <td>0</td>\n",
       "      <td>0</td>\n",
       "      <td>112053</td>\n",
       "      <td>30.0000</td>\n",
       "      <td>B42</td>\n",
       "      <td>S</td>\n",
       "    </tr>\n",
       "    <tr>\n",
       "      <th>888</th>\n",
       "      <td>889</td>\n",
       "      <td>0</td>\n",
       "      <td>3</td>\n",
       "      <td>Johnston, Miss. Catherine Helen \"Carrie\"</td>\n",
       "      <td>female</td>\n",
       "      <td>NaN</td>\n",
       "      <td>1</td>\n",
       "      <td>2</td>\n",
       "      <td>W./C. 6607</td>\n",
       "      <td>23.4500</td>\n",
       "      <td>NaN</td>\n",
       "      <td>S</td>\n",
       "    </tr>\n",
       "    <tr>\n",
       "      <th>889</th>\n",
       "      <td>890</td>\n",
       "      <td>1</td>\n",
       "      <td>1</td>\n",
       "      <td>Behr, Mr. Karl Howell</td>\n",
       "      <td>male</td>\n",
       "      <td>26.0</td>\n",
       "      <td>0</td>\n",
       "      <td>0</td>\n",
       "      <td>111369</td>\n",
       "      <td>30.0000</td>\n",
       "      <td>C148</td>\n",
       "      <td>C</td>\n",
       "    </tr>\n",
       "    <tr>\n",
       "      <th>890</th>\n",
       "      <td>891</td>\n",
       "      <td>0</td>\n",
       "      <td>3</td>\n",
       "      <td>Dooley, Mr. Patrick</td>\n",
       "      <td>male</td>\n",
       "      <td>32.0</td>\n",
       "      <td>0</td>\n",
       "      <td>0</td>\n",
       "      <td>370376</td>\n",
       "      <td>7.7500</td>\n",
       "      <td>NaN</td>\n",
       "      <td>Q</td>\n",
       "    </tr>\n",
       "  </tbody>\n",
       "</table>\n",
       "<p>891 rows × 12 columns</p>\n",
       "</div>"
      ],
      "text/plain": [
       "     PassengerId  Survived  Pclass  \\\n",
       "0              1         0       3   \n",
       "1              2         1       1   \n",
       "2              3         1       3   \n",
       "3              4         1       1   \n",
       "4              5         0       3   \n",
       "..           ...       ...     ...   \n",
       "886          887         0       2   \n",
       "887          888         1       1   \n",
       "888          889         0       3   \n",
       "889          890         1       1   \n",
       "890          891         0       3   \n",
       "\n",
       "                                                  Name     Sex   Age  SibSp  \\\n",
       "0                              Braund, Mr. Owen Harris    male  22.0      1   \n",
       "1    Cumings, Mrs. John Bradley (Florence Briggs Th...  female  38.0      1   \n",
       "2                               Heikkinen, Miss. Laina  female  26.0      0   \n",
       "3         Futrelle, Mrs. Jacques Heath (Lily May Peel)  female  35.0      1   \n",
       "4                             Allen, Mr. William Henry    male  35.0      0   \n",
       "..                                                 ...     ...   ...    ...   \n",
       "886                              Montvila, Rev. Juozas    male  27.0      0   \n",
       "887                       Graham, Miss. Margaret Edith  female  19.0      0   \n",
       "888           Johnston, Miss. Catherine Helen \"Carrie\"  female   NaN      1   \n",
       "889                              Behr, Mr. Karl Howell    male  26.0      0   \n",
       "890                                Dooley, Mr. Patrick    male  32.0      0   \n",
       "\n",
       "     Parch            Ticket     Fare Cabin Embarked  \n",
       "0        0         A/5 21171   7.2500   NaN        S  \n",
       "1        0          PC 17599  71.2833   C85        C  \n",
       "2        0  STON/O2. 3101282   7.9250   NaN        S  \n",
       "3        0            113803  53.1000  C123        S  \n",
       "4        0            373450   8.0500   NaN        S  \n",
       "..     ...               ...      ...   ...      ...  \n",
       "886      0            211536  13.0000   NaN        S  \n",
       "887      0            112053  30.0000   B42        S  \n",
       "888      2        W./C. 6607  23.4500   NaN        S  \n",
       "889      0            111369  30.0000  C148        C  \n",
       "890      0            370376   7.7500   NaN        Q  \n",
       "\n",
       "[891 rows x 12 columns]"
      ]
     },
     "execution_count": 10,
     "metadata": {},
     "output_type": "execute_result"
    }
   ],
   "source": [
    "df"
   ]
  },
  {
   "cell_type": "markdown",
   "id": "ad1915e5",
   "metadata": {},
   "source": [
    "# Data Analysis and Visualization"
   ]
  },
  {
   "cell_type": "code",
   "execution_count": 11,
   "id": "6e5e804c",
   "metadata": {},
   "outputs": [
    {
     "data": {
      "text/html": [
       "<div>\n",
       "<style scoped>\n",
       "    .dataframe tbody tr th:only-of-type {\n",
       "        vertical-align: middle;\n",
       "    }\n",
       "\n",
       "    .dataframe tbody tr th {\n",
       "        vertical-align: top;\n",
       "    }\n",
       "\n",
       "    .dataframe thead th {\n",
       "        text-align: right;\n",
       "    }\n",
       "</style>\n",
       "<table border=\"1\" class=\"dataframe\">\n",
       "  <thead>\n",
       "    <tr style=\"text-align: right;\">\n",
       "      <th></th>\n",
       "      <th>PassengerId</th>\n",
       "      <th>Survived</th>\n",
       "      <th>Pclass</th>\n",
       "      <th>Age</th>\n",
       "      <th>SibSp</th>\n",
       "      <th>Parch</th>\n",
       "      <th>Fare</th>\n",
       "    </tr>\n",
       "  </thead>\n",
       "  <tbody>\n",
       "    <tr>\n",
       "      <th>count</th>\n",
       "      <td>891.000000</td>\n",
       "      <td>891.000000</td>\n",
       "      <td>891.000000</td>\n",
       "      <td>714.000000</td>\n",
       "      <td>891.000000</td>\n",
       "      <td>891.000000</td>\n",
       "      <td>891.000000</td>\n",
       "    </tr>\n",
       "    <tr>\n",
       "      <th>mean</th>\n",
       "      <td>446.000000</td>\n",
       "      <td>0.383838</td>\n",
       "      <td>2.308642</td>\n",
       "      <td>29.699118</td>\n",
       "      <td>0.523008</td>\n",
       "      <td>0.381594</td>\n",
       "      <td>32.204208</td>\n",
       "    </tr>\n",
       "    <tr>\n",
       "      <th>std</th>\n",
       "      <td>257.353842</td>\n",
       "      <td>0.486592</td>\n",
       "      <td>0.836071</td>\n",
       "      <td>14.526497</td>\n",
       "      <td>1.102743</td>\n",
       "      <td>0.806057</td>\n",
       "      <td>49.693429</td>\n",
       "    </tr>\n",
       "    <tr>\n",
       "      <th>min</th>\n",
       "      <td>1.000000</td>\n",
       "      <td>0.000000</td>\n",
       "      <td>1.000000</td>\n",
       "      <td>0.420000</td>\n",
       "      <td>0.000000</td>\n",
       "      <td>0.000000</td>\n",
       "      <td>0.000000</td>\n",
       "    </tr>\n",
       "    <tr>\n",
       "      <th>25%</th>\n",
       "      <td>223.500000</td>\n",
       "      <td>0.000000</td>\n",
       "      <td>2.000000</td>\n",
       "      <td>20.125000</td>\n",
       "      <td>0.000000</td>\n",
       "      <td>0.000000</td>\n",
       "      <td>7.910400</td>\n",
       "    </tr>\n",
       "    <tr>\n",
       "      <th>50%</th>\n",
       "      <td>446.000000</td>\n",
       "      <td>0.000000</td>\n",
       "      <td>3.000000</td>\n",
       "      <td>28.000000</td>\n",
       "      <td>0.000000</td>\n",
       "      <td>0.000000</td>\n",
       "      <td>14.454200</td>\n",
       "    </tr>\n",
       "    <tr>\n",
       "      <th>75%</th>\n",
       "      <td>668.500000</td>\n",
       "      <td>1.000000</td>\n",
       "      <td>3.000000</td>\n",
       "      <td>38.000000</td>\n",
       "      <td>1.000000</td>\n",
       "      <td>0.000000</td>\n",
       "      <td>31.000000</td>\n",
       "    </tr>\n",
       "    <tr>\n",
       "      <th>max</th>\n",
       "      <td>891.000000</td>\n",
       "      <td>1.000000</td>\n",
       "      <td>3.000000</td>\n",
       "      <td>80.000000</td>\n",
       "      <td>8.000000</td>\n",
       "      <td>6.000000</td>\n",
       "      <td>512.329200</td>\n",
       "    </tr>\n",
       "  </tbody>\n",
       "</table>\n",
       "</div>"
      ],
      "text/plain": [
       "       PassengerId    Survived      Pclass         Age       SibSp  \\\n",
       "count   891.000000  891.000000  891.000000  714.000000  891.000000   \n",
       "mean    446.000000    0.383838    2.308642   29.699118    0.523008   \n",
       "std     257.353842    0.486592    0.836071   14.526497    1.102743   \n",
       "min       1.000000    0.000000    1.000000    0.420000    0.000000   \n",
       "25%     223.500000    0.000000    2.000000   20.125000    0.000000   \n",
       "50%     446.000000    0.000000    3.000000   28.000000    0.000000   \n",
       "75%     668.500000    1.000000    3.000000   38.000000    1.000000   \n",
       "max     891.000000    1.000000    3.000000   80.000000    8.000000   \n",
       "\n",
       "            Parch        Fare  \n",
       "count  891.000000  891.000000  \n",
       "mean     0.381594   32.204208  \n",
       "std      0.806057   49.693429  \n",
       "min      0.000000    0.000000  \n",
       "25%      0.000000    7.910400  \n",
       "50%      0.000000   14.454200  \n",
       "75%      0.000000   31.000000  \n",
       "max      6.000000  512.329200  "
      ]
     },
     "execution_count": 11,
     "metadata": {},
     "output_type": "execute_result"
    }
   ],
   "source": [
    "#summary statistics.\n",
    "df.describe()"
   ]
  },
  {
   "cell_type": "code",
   "execution_count": 12,
   "id": "8e62ccf5",
   "metadata": {},
   "outputs": [
    {
     "data": {
      "text/html": [
       "<div>\n",
       "<style scoped>\n",
       "    .dataframe tbody tr th:only-of-type {\n",
       "        vertical-align: middle;\n",
       "    }\n",
       "\n",
       "    .dataframe tbody tr th {\n",
       "        vertical-align: top;\n",
       "    }\n",
       "\n",
       "    .dataframe thead th {\n",
       "        text-align: right;\n",
       "    }\n",
       "</style>\n",
       "<table border=\"1\" class=\"dataframe\">\n",
       "  <thead>\n",
       "    <tr style=\"text-align: right;\">\n",
       "      <th></th>\n",
       "      <th>PassengerId</th>\n",
       "      <th>Survived</th>\n",
       "      <th>Pclass</th>\n",
       "      <th>Age</th>\n",
       "      <th>SibSp</th>\n",
       "      <th>Parch</th>\n",
       "      <th>Fare</th>\n",
       "    </tr>\n",
       "  </thead>\n",
       "  <tbody>\n",
       "    <tr>\n",
       "      <th>PassengerId</th>\n",
       "      <td>1.000000</td>\n",
       "      <td>-0.005007</td>\n",
       "      <td>-0.035144</td>\n",
       "      <td>0.036847</td>\n",
       "      <td>-0.057527</td>\n",
       "      <td>-0.001652</td>\n",
       "      <td>0.012658</td>\n",
       "    </tr>\n",
       "    <tr>\n",
       "      <th>Survived</th>\n",
       "      <td>-0.005007</td>\n",
       "      <td>1.000000</td>\n",
       "      <td>-0.338481</td>\n",
       "      <td>-0.077221</td>\n",
       "      <td>-0.035322</td>\n",
       "      <td>0.081629</td>\n",
       "      <td>0.257307</td>\n",
       "    </tr>\n",
       "    <tr>\n",
       "      <th>Pclass</th>\n",
       "      <td>-0.035144</td>\n",
       "      <td>-0.338481</td>\n",
       "      <td>1.000000</td>\n",
       "      <td>-0.369226</td>\n",
       "      <td>0.083081</td>\n",
       "      <td>0.018443</td>\n",
       "      <td>-0.549500</td>\n",
       "    </tr>\n",
       "    <tr>\n",
       "      <th>Age</th>\n",
       "      <td>0.036847</td>\n",
       "      <td>-0.077221</td>\n",
       "      <td>-0.369226</td>\n",
       "      <td>1.000000</td>\n",
       "      <td>-0.308247</td>\n",
       "      <td>-0.189119</td>\n",
       "      <td>0.096067</td>\n",
       "    </tr>\n",
       "    <tr>\n",
       "      <th>SibSp</th>\n",
       "      <td>-0.057527</td>\n",
       "      <td>-0.035322</td>\n",
       "      <td>0.083081</td>\n",
       "      <td>-0.308247</td>\n",
       "      <td>1.000000</td>\n",
       "      <td>0.414838</td>\n",
       "      <td>0.159651</td>\n",
       "    </tr>\n",
       "    <tr>\n",
       "      <th>Parch</th>\n",
       "      <td>-0.001652</td>\n",
       "      <td>0.081629</td>\n",
       "      <td>0.018443</td>\n",
       "      <td>-0.189119</td>\n",
       "      <td>0.414838</td>\n",
       "      <td>1.000000</td>\n",
       "      <td>0.216225</td>\n",
       "    </tr>\n",
       "    <tr>\n",
       "      <th>Fare</th>\n",
       "      <td>0.012658</td>\n",
       "      <td>0.257307</td>\n",
       "      <td>-0.549500</td>\n",
       "      <td>0.096067</td>\n",
       "      <td>0.159651</td>\n",
       "      <td>0.216225</td>\n",
       "      <td>1.000000</td>\n",
       "    </tr>\n",
       "  </tbody>\n",
       "</table>\n",
       "</div>"
      ],
      "text/plain": [
       "             PassengerId  Survived    Pclass       Age     SibSp     Parch  \\\n",
       "PassengerId     1.000000 -0.005007 -0.035144  0.036847 -0.057527 -0.001652   \n",
       "Survived       -0.005007  1.000000 -0.338481 -0.077221 -0.035322  0.081629   \n",
       "Pclass         -0.035144 -0.338481  1.000000 -0.369226  0.083081  0.018443   \n",
       "Age             0.036847 -0.077221 -0.369226  1.000000 -0.308247 -0.189119   \n",
       "SibSp          -0.057527 -0.035322  0.083081 -0.308247  1.000000  0.414838   \n",
       "Parch          -0.001652  0.081629  0.018443 -0.189119  0.414838  1.000000   \n",
       "Fare            0.012658  0.257307 -0.549500  0.096067  0.159651  0.216225   \n",
       "\n",
       "                 Fare  \n",
       "PassengerId  0.012658  \n",
       "Survived     0.257307  \n",
       "Pclass      -0.549500  \n",
       "Age          0.096067  \n",
       "SibSp        0.159651  \n",
       "Parch        0.216225  \n",
       "Fare         1.000000  "
      ]
     },
     "execution_count": 12,
     "metadata": {},
     "output_type": "execute_result"
    }
   ],
   "source": [
    "#check correlation \n",
    "df.corr()"
   ]
  },
  {
   "cell_type": "code",
   "execution_count": 13,
   "id": "700757c8",
   "metadata": {},
   "outputs": [
    {
     "data": {
      "image/png": "[encoded data removed]",
      "text/plain": [
       "<Figure size 720x720 with 2 Axes>"
      ]
     },
     "metadata": {
      "needs_background": "light"
     },
     "output_type": "display_data"
    }
   ],
   "source": [
    "#check correlation matrix with heatmap.\n",
    "corr_mat = df.corr()\n",
    "plt.figure(figsize=(10,10))\n",
    "sns.heatmap(corr_mat, annot=True, fmt = '.1f',cmap = 'Blues')\n",
    "plt.title('Correlation matrix')\n",
    "plt.show()"
   ]
  },
  {
   "cell_type": "code",
   "execution_count": 14,
   "id": "bed5018c",
   "metadata": {},
   "outputs": [
    {
     "data": {
      "text/html": [
       "<div>\n",
       "<style scoped>\n",
       "    .dataframe tbody tr th:only-of-type {\n",
       "        vertical-align: middle;\n",
       "    }\n",
       "\n",
       "    .dataframe tbody tr th {\n",
       "        vertical-align: top;\n",
       "    }\n",
       "\n",
       "    .dataframe thead th {\n",
       "        text-align: right;\n",
       "    }\n",
       "</style>\n",
       "<table border=\"1\" class=\"dataframe\">\n",
       "  <thead>\n",
       "    <tr style=\"text-align: right;\">\n",
       "      <th></th>\n",
       "      <th>PassengerId</th>\n",
       "      <th>Survived</th>\n",
       "      <th>Pclass</th>\n",
       "      <th>Age</th>\n",
       "      <th>SibSp</th>\n",
       "      <th>Parch</th>\n",
       "      <th>Fare</th>\n",
       "    </tr>\n",
       "  </thead>\n",
       "  <tbody>\n",
       "    <tr>\n",
       "      <th>PassengerId</th>\n",
       "      <td>1.000000</td>\n",
       "      <td>-0.005007</td>\n",
       "      <td>-0.035144</td>\n",
       "      <td>0.036847</td>\n",
       "      <td>-0.057527</td>\n",
       "      <td>-0.001652</td>\n",
       "      <td>0.012658</td>\n",
       "    </tr>\n",
       "    <tr>\n",
       "      <th>Survived</th>\n",
       "      <td>-0.005007</td>\n",
       "      <td>1.000000</td>\n",
       "      <td>-0.338481</td>\n",
       "      <td>-0.077221</td>\n",
       "      <td>-0.035322</td>\n",
       "      <td>0.081629</td>\n",
       "      <td>0.257307</td>\n",
       "    </tr>\n",
       "    <tr>\n",
       "      <th>Pclass</th>\n",
       "      <td>-0.035144</td>\n",
       "      <td>-0.338481</td>\n",
       "      <td>1.000000</td>\n",
       "      <td>-0.369226</td>\n",
       "      <td>0.083081</td>\n",
       "      <td>0.018443</td>\n",
       "      <td>-0.549500</td>\n",
       "    </tr>\n",
       "    <tr>\n",
       "      <th>Age</th>\n",
       "      <td>0.036847</td>\n",
       "      <td>-0.077221</td>\n",
       "      <td>-0.369226</td>\n",
       "      <td>1.000000</td>\n",
       "      <td>-0.308247</td>\n",
       "      <td>-0.189119</td>\n",
       "      <td>0.096067</td>\n",
       "    </tr>\n",
       "    <tr>\n",
       "      <th>SibSp</th>\n",
       "      <td>-0.057527</td>\n",
       "      <td>-0.035322</td>\n",
       "      <td>0.083081</td>\n",
       "      <td>-0.308247</td>\n",
       "      <td>1.000000</td>\n",
       "      <td>0.414838</td>\n",
       "      <td>0.159651</td>\n",
       "    </tr>\n",
       "    <tr>\n",
       "      <th>Parch</th>\n",
       "      <td>-0.001652</td>\n",
       "      <td>0.081629</td>\n",
       "      <td>0.018443</td>\n",
       "      <td>-0.189119</td>\n",
       "      <td>0.414838</td>\n",
       "      <td>1.000000</td>\n",
       "      <td>0.216225</td>\n",
       "    </tr>\n",
       "    <tr>\n",
       "      <th>Fare</th>\n",
       "      <td>0.012658</td>\n",
       "      <td>0.257307</td>\n",
       "      <td>-0.549500</td>\n",
       "      <td>0.096067</td>\n",
       "      <td>0.159651</td>\n",
       "      <td>0.216225</td>\n",
       "      <td>1.000000</td>\n",
       "    </tr>\n",
       "  </tbody>\n",
       "</table>\n",
       "</div>"
      ],
      "text/plain": [
       "             PassengerId  Survived    Pclass       Age     SibSp     Parch  \\\n",
       "PassengerId     1.000000 -0.005007 -0.035144  0.036847 -0.057527 -0.001652   \n",
       "Survived       -0.005007  1.000000 -0.338481 -0.077221 -0.035322  0.081629   \n",
       "Pclass         -0.035144 -0.338481  1.000000 -0.369226  0.083081  0.018443   \n",
       "Age             0.036847 -0.077221 -0.369226  1.000000 -0.308247 -0.189119   \n",
       "SibSp          -0.057527 -0.035322  0.083081 -0.308247  1.000000  0.414838   \n",
       "Parch          -0.001652  0.081629  0.018443 -0.189119  0.414838  1.000000   \n",
       "Fare            0.012658  0.257307 -0.549500  0.096067  0.159651  0.216225   \n",
       "\n",
       "                 Fare  \n",
       "PassengerId  0.012658  \n",
       "Survived     0.257307  \n",
       "Pclass      -0.549500  \n",
       "Age          0.096067  \n",
       "SibSp        0.159651  \n",
       "Parch        0.216225  \n",
       "Fare         1.000000  "
      ]
     },
     "execution_count": 14,
     "metadata": {},
     "output_type": "execute_result"
    }
   ],
   "source": [
    "corr_matrix = df.corr()\n",
    "corr_matrix"
   ]
  },
  {
   "cell_type": "code",
   "execution_count": 15,
   "id": "95c25974",
   "metadata": {},
   "outputs": [
    {
     "data": {
      "text/plain": [
       "pandas.core.frame.DataFrame"
      ]
     },
     "execution_count": 15,
     "metadata": {},
     "output_type": "execute_result"
    }
   ],
   "source": [
    "#check type correlation matrix.\n",
    "type(corr_matrix)"
   ]
  },
  {
   "cell_type": "code",
   "execution_count": 16,
   "id": "99d7458d",
   "metadata": {},
   "outputs": [
    {
     "data": {
      "text/plain": [
       "Survived       1.000000\n",
       "Fare           0.257307\n",
       "Parch          0.081629\n",
       "PassengerId   -0.005007\n",
       "SibSp         -0.035322\n",
       "Age           -0.077221\n",
       "Pclass        -0.338481\n",
       "Name: Survived, dtype: float64"
      ]
     },
     "execution_count": 16,
     "metadata": {},
     "output_type": "execute_result"
    }
   ],
   "source": [
    "#check correlation with target variables in decending order.\n",
    "corr_matrix = df.corr()\n",
    "corr_matrix['Survived'].sort_values(ascending=False)"
   ]
  },
  {
   "cell_type": "code",
   "execution_count": 17,
   "id": "cee5f5b0",
   "metadata": {},
   "outputs": [
    {
     "data": {
      "text/plain": [
       "array([0, 1], dtype=int64)"
      ]
     },
     "execution_count": 17,
     "metadata": {},
     "output_type": "execute_result"
    }
   ],
   "source": [
    "#check unique value of target variable.\n",
    "df['Survived'].unique()"
   ]
  },
  {
   "cell_type": "code",
   "execution_count": 18,
   "id": "448f8f24",
   "metadata": {},
   "outputs": [
    {
     "data": {
      "text/plain": [
       "0    549\n",
       "1    342\n",
       "Name: Survived, dtype: int64"
      ]
     },
     "execution_count": 18,
     "metadata": {},
     "output_type": "execute_result"
    }
   ],
   "source": [
    "#check count value of target variable.\n",
    "df['Survived'].value_counts()"
   ]
  },
  {
   "cell_type": "code",
   "execution_count": 19,
   "id": "f93224a4",
   "metadata": {},
   "outputs": [
    {
     "data": {
      "text/plain": [
       "<AxesSubplot:xlabel='Survived', ylabel='count'>"
      ]
     },
     "execution_count": 19,
     "metadata": {},
     "output_type": "execute_result"
    },
    {
     "data": {
      "image/png": "[encoded data removed]",
      "text/plain": [
       "<Figure size 432x288 with 1 Axes>"
      ]
     },
     "metadata": {
      "needs_background": "light"
     },
     "output_type": "display_data"
    }
   ],
   "source": [
    "#number of values for each quality.\n",
    "sns.countplot(x='Survived',data=df)"
   ]
  },
  {
   "cell_type": "code",
   "execution_count": 20,
   "id": "bf48e98e",
   "metadata": {},
   "outputs": [
    {
     "data": {
      "text/plain": [
       "<AxesSubplot:xlabel='Survived', ylabel='count'>"
      ]
     },
     "execution_count": 20,
     "metadata": {},
     "output_type": "execute_result"
    },
    {
     "data": {
      "image/png": "[encoded data removed]",
      "text/plain": [
       "<Figure size 432x288 with 1 Axes>"
      ]
     },
     "metadata": {
      "needs_background": "light"
     },
     "output_type": "display_data"
    }
   ],
   "source": [
    "#sex vs survived\n",
    "sns.countplot(x='Survived', hue='Sex', data=df, palette='RdBu_r')"
   ]
  },
  {
   "cell_type": "code",
   "execution_count": 21,
   "id": "328d6741",
   "metadata": {},
   "outputs": [
    {
     "data": {
      "image/png": "[encoded data removed]",
      "text/plain": [
       "<Figure size 1440x360 with 1 Axes>"
      ]
     },
     "metadata": {
      "needs_background": "light"
     },
     "output_type": "display_data"
    }
   ],
   "source": [
    "    #age vs survived\n",
    "    plt.figure(figsize=(20,5))\n",
    "    sns.histplot(x = 'Age', hue='Survived', data=df, multiple='dodge', bins=10)\n",
    "    plt.show()"
   ]
  },
  {
   "cell_type": "code",
   "execution_count": 22,
   "id": "b44bfc70",
   "metadata": {},
   "outputs": [
    {
     "data": {
      "text/plain": [
       "<AxesSubplot:xlabel='Survived', ylabel='count'>"
      ]
     },
     "execution_count": 22,
     "metadata": {},
     "output_type": "execute_result"
    },
    {
     "data": {
      "image/png": "[encoded data removed]",
      "text/plain": [
       "<Figure size 432x288 with 1 Axes>"
      ]
     },
     "metadata": {},
     "output_type": "display_data"
    }
   ],
   "source": [
    "#pclass vs survived\n",
    "sns.set_style('whitegrid')\n",
    "sns.countplot(df['Survived'], palette='rainbow', hue='Pclass', data=df)"
   ]
  },
  {
   "cell_type": "code",
   "execution_count": 23,
   "id": "c16cb233",
   "metadata": {},
   "outputs": [
    {
     "data": {
      "text/plain": [
       "<AxesSubplot:xlabel='SibSp', ylabel='count'>"
      ]
     },
     "execution_count": 23,
     "metadata": {},
     "output_type": "execute_result"
    },
    {
     "data": {
      "image/png": "[encoded data removed]",
      "text/plain": [
       "<Figure size 432x288 with 1 Axes>"
      ]
     },
     "metadata": {},
     "output_type": "display_data"
    }
   ],
   "source": [
    "#count of sibsp variable.\n",
    "sns.countplot(x='SibSp',data=df)"
   ]
  },
  {
   "cell_type": "code",
   "execution_count": 24,
   "id": "04c77953",
   "metadata": {},
   "outputs": [
    {
     "data": {
      "text/plain": [
       "<AxesSubplot:>"
      ]
     },
     "execution_count": 24,
     "metadata": {},
     "output_type": "execute_result"
    },
    {
     "data": {
      "image/png": "[encoded data removed]",
      "text/plain": [
       "<Figure size 576x288 with 1 Axes>"
      ]
     },
     "metadata": {},
     "output_type": "display_data"
    }
   ],
   "source": [
    "#display histogram of fare column.\n",
    "df['Fare'].hist(color='green', bins=40, figsize=(8,4))"
   ]
  },
  {
   "cell_type": "code",
   "execution_count": 25,
   "id": "5456de60",
   "metadata": {},
   "outputs": [
    {
     "data": {
      "text/plain": [
       "array([[<AxesSubplot:title={'center':'PassengerId'}>,\n",
       "        <AxesSubplot:title={'center':'Survived'}>,\n",
       "        <AxesSubplot:title={'center':'Pclass'}>],\n",
       "       [<AxesSubplot:title={'center':'Age'}>,\n",
       "        <AxesSubplot:title={'center':'SibSp'}>,\n",
       "        <AxesSubplot:title={'center':'Parch'}>],\n",
       "       [<AxesSubplot:title={'center':'Fare'}>, <AxesSubplot:>,\n",
       "        <AxesSubplot:>]], dtype=object)"
      ]
     },
     "execution_count": 25,
     "metadata": {},
     "output_type": "execute_result"
    },
    {
     "data": {
      "image/png": "[encoded data removed]",
      "text/plain": [
       "<Figure size 720x576 with 9 Axes>"
      ]
     },
     "metadata": {},
     "output_type": "display_data"
    }
   ],
   "source": [
    "#display histogram of all columns.\n",
    "df.hist(figsize=(10,8), layout=(3,3), sharex=False)"
   ]
  },
  {
   "cell_type": "markdown",
   "id": "555b6d63",
   "metadata": {},
   "source": [
    "# Data Cleaning"
   ]
  },
  {
   "cell_type": "code",
   "execution_count": 26,
   "id": "c089976e",
   "metadata": {},
   "outputs": [
    {
     "data": {
      "text/plain": [
       "<AxesSubplot:xlabel='Pclass', ylabel='Age'>"
      ]
     },
     "execution_count": 26,
     "metadata": {},
     "output_type": "execute_result"
    },
    {
     "data": {
      "image/png": "[encoded data removed]",
      "text/plain": [
       "<Figure size 864x504 with 1 Axes>"
      ]
     },
     "metadata": {},
     "output_type": "display_data"
    }
   ],
   "source": [
    "plt.figure(figsize=(12,7))\n",
    "sns.boxplot(x='Pclass',y='Age',data=df,palette='winter')"
   ]
  },
  {
   "cell_type": "code",
   "execution_count": 27,
   "id": "09ab8f55",
   "metadata": {},
   "outputs": [],
   "source": [
    "#fill na values of age column with pclass.\n",
    "def impute_age(cols):\n",
    "    Age = cols[0]\n",
    "    Pclass = cols[1]\n",
    "    \n",
    "    if pd.isnull(Age):\n",
    "        if Pclass == 1:\n",
    "            return 37\n",
    "        \n",
    "        elif Pclass == 2:\n",
    "            return  29\n",
    "        \n",
    "        else:\n",
    "            return 24\n",
    "    else:\n",
    "        return Age"
   ]
  },
  {
   "cell_type": "code",
   "execution_count": 28,
   "id": "d77565e3",
   "metadata": {},
   "outputs": [],
   "source": [
    "df['Age'] =df[['Age','Pclass']].apply(impute_age,axis=1)"
   ]
  },
  {
   "cell_type": "code",
   "execution_count": 29,
   "id": "8d92c7a0",
   "metadata": {},
   "outputs": [],
   "source": [
    "#replacing null values of embarked column with mode using SimpleImputer.\n",
    "from sklearn.impute import SimpleImputer\n",
    "imp = SimpleImputer(strategy=\"most_frequent\")\n",
    "df['Embarked']=imp.fit_transform(df['Embarked'].values.reshape(-1,1))"
   ]
  },
  {
   "cell_type": "code",
   "execution_count": 30,
   "id": "39a371f7",
   "metadata": {},
   "outputs": [],
   "source": [
    "#drop the cabin column.\n",
    "df.drop(['Name','Ticket','Cabin'],axis=1,inplace=True)"
   ]
  },
  {
   "cell_type": "code",
   "execution_count": 31,
   "id": "efbfddf3",
   "metadata": {},
   "outputs": [],
   "source": [
    "#drop the passengerid column.\n",
    "df.drop('PassengerId',axis=1,inplace=True)"
   ]
  },
  {
   "cell_type": "code",
   "execution_count": 32,
   "id": "1e9bd84d",
   "metadata": {},
   "outputs": [
    {
     "data": {
      "text/plain": [
       "<AxesSubplot:>"
      ]
     },
     "execution_count": 32,
     "metadata": {},
     "output_type": "execute_result"
    },
    {
     "data": {
      "image/png": "[encoded data removed]",
      "text/plain": [
       "<Figure size 432x288 with 2 Axes>"
      ]
     },
     "metadata": {},
     "output_type": "display_data"
    }
   ],
   "source": [
    "#display heatmap of null values in columns.\n",
    "sns.heatmap(df.isnull())"
   ]
  },
  {
   "cell_type": "code",
   "execution_count": 33,
   "id": "0a0d7672",
   "metadata": {},
   "outputs": [
    {
     "data": {
      "text/html": [
       "<div>\n",
       "<style scoped>\n",
       "    .dataframe tbody tr th:only-of-type {\n",
       "        vertical-align: middle;\n",
       "    }\n",
       "\n",
       "    .dataframe tbody tr th {\n",
       "        vertical-align: top;\n",
       "    }\n",
       "\n",
       "    .dataframe thead th {\n",
       "        text-align: right;\n",
       "    }\n",
       "</style>\n",
       "<table border=\"1\" class=\"dataframe\">\n",
       "  <thead>\n",
       "    <tr style=\"text-align: right;\">\n",
       "      <th></th>\n",
       "      <th>Survived</th>\n",
       "      <th>Pclass</th>\n",
       "      <th>Age</th>\n",
       "      <th>SibSp</th>\n",
       "      <th>Parch</th>\n",
       "      <th>Fare</th>\n",
       "    </tr>\n",
       "  </thead>\n",
       "  <tbody>\n",
       "    <tr>\n",
       "      <th>count</th>\n",
       "      <td>891.000000</td>\n",
       "      <td>891.000000</td>\n",
       "      <td>891.000000</td>\n",
       "      <td>891.000000</td>\n",
       "      <td>891.000000</td>\n",
       "      <td>891.000000</td>\n",
       "    </tr>\n",
       "    <tr>\n",
       "      <th>mean</th>\n",
       "      <td>0.383838</td>\n",
       "      <td>2.308642</td>\n",
       "      <td>29.066409</td>\n",
       "      <td>0.523008</td>\n",
       "      <td>0.381594</td>\n",
       "      <td>32.204208</td>\n",
       "    </tr>\n",
       "    <tr>\n",
       "      <th>std</th>\n",
       "      <td>0.486592</td>\n",
       "      <td>0.836071</td>\n",
       "      <td>13.244532</td>\n",
       "      <td>1.102743</td>\n",
       "      <td>0.806057</td>\n",
       "      <td>49.693429</td>\n",
       "    </tr>\n",
       "    <tr>\n",
       "      <th>min</th>\n",
       "      <td>0.000000</td>\n",
       "      <td>1.000000</td>\n",
       "      <td>0.420000</td>\n",
       "      <td>0.000000</td>\n",
       "      <td>0.000000</td>\n",
       "      <td>0.000000</td>\n",
       "    </tr>\n",
       "    <tr>\n",
       "      <th>25%</th>\n",
       "      <td>0.000000</td>\n",
       "      <td>2.000000</td>\n",
       "      <td>22.000000</td>\n",
       "      <td>0.000000</td>\n",
       "      <td>0.000000</td>\n",
       "      <td>7.910400</td>\n",
       "    </tr>\n",
       "    <tr>\n",
       "      <th>50%</th>\n",
       "      <td>0.000000</td>\n",
       "      <td>3.000000</td>\n",
       "      <td>26.000000</td>\n",
       "      <td>0.000000</td>\n",
       "      <td>0.000000</td>\n",
       "      <td>14.454200</td>\n",
       "    </tr>\n",
       "    <tr>\n",
       "      <th>75%</th>\n",
       "      <td>1.000000</td>\n",
       "      <td>3.000000</td>\n",
       "      <td>37.000000</td>\n",
       "      <td>1.000000</td>\n",
       "      <td>0.000000</td>\n",
       "      <td>31.000000</td>\n",
       "    </tr>\n",
       "    <tr>\n",
       "      <th>max</th>\n",
       "      <td>1.000000</td>\n",
       "      <td>3.000000</td>\n",
       "      <td>80.000000</td>\n",
       "      <td>8.000000</td>\n",
       "      <td>6.000000</td>\n",
       "      <td>512.329200</td>\n",
       "    </tr>\n",
       "  </tbody>\n",
       "</table>\n",
       "</div>"
      ],
      "text/plain": [
       "         Survived      Pclass         Age       SibSp       Parch        Fare\n",
       "count  891.000000  891.000000  891.000000  891.000000  891.000000  891.000000\n",
       "mean     0.383838    2.308642   29.066409    0.523008    0.381594   32.204208\n",
       "std      0.486592    0.836071   13.244532    1.102743    0.806057   49.693429\n",
       "min      0.000000    1.000000    0.420000    0.000000    0.000000    0.000000\n",
       "25%      0.000000    2.000000   22.000000    0.000000    0.000000    7.910400\n",
       "50%      0.000000    3.000000   26.000000    0.000000    0.000000   14.454200\n",
       "75%      1.000000    3.000000   37.000000    1.000000    0.000000   31.000000\n",
       "max      1.000000    3.000000   80.000000    8.000000    6.000000  512.329200"
      ]
     },
     "execution_count": 33,
     "metadata": {},
     "output_type": "execute_result"
    }
   ],
   "source": [
    "#summary statistics.\n",
    "df.describe()"
   ]
  },
  {
   "cell_type": "code",
   "execution_count": 34,
   "id": "32f256f5",
   "metadata": {},
   "outputs": [
    {
     "data": {
      "text/html": [
       "<div>\n",
       "<style scoped>\n",
       "    .dataframe tbody tr th:only-of-type {\n",
       "        vertical-align: middle;\n",
       "    }\n",
       "\n",
       "    .dataframe tbody tr th {\n",
       "        vertical-align: top;\n",
       "    }\n",
       "\n",
       "    .dataframe thead th {\n",
       "        text-align: right;\n",
       "    }\n",
       "</style>\n",
       "<table border=\"1\" class=\"dataframe\">\n",
       "  <thead>\n",
       "    <tr style=\"text-align: right;\">\n",
       "      <th></th>\n",
       "      <th>Survived</th>\n",
       "      <th>Pclass</th>\n",
       "      <th>Sex</th>\n",
       "      <th>Age</th>\n",
       "      <th>SibSp</th>\n",
       "      <th>Parch</th>\n",
       "      <th>Fare</th>\n",
       "      <th>Embarked</th>\n",
       "    </tr>\n",
       "  </thead>\n",
       "  <tbody>\n",
       "    <tr>\n",
       "      <th>0</th>\n",
       "      <td>0</td>\n",
       "      <td>3</td>\n",
       "      <td>male</td>\n",
       "      <td>22.0</td>\n",
       "      <td>1</td>\n",
       "      <td>0</td>\n",
       "      <td>7.2500</td>\n",
       "      <td>S</td>\n",
       "    </tr>\n",
       "    <tr>\n",
       "      <th>1</th>\n",
       "      <td>1</td>\n",
       "      <td>1</td>\n",
       "      <td>female</td>\n",
       "      <td>38.0</td>\n",
       "      <td>1</td>\n",
       "      <td>0</td>\n",
       "      <td>71.2833</td>\n",
       "      <td>C</td>\n",
       "    </tr>\n",
       "    <tr>\n",
       "      <th>2</th>\n",
       "      <td>1</td>\n",
       "      <td>3</td>\n",
       "      <td>female</td>\n",
       "      <td>26.0</td>\n",
       "      <td>0</td>\n",
       "      <td>0</td>\n",
       "      <td>7.9250</td>\n",
       "      <td>S</td>\n",
       "    </tr>\n",
       "    <tr>\n",
       "      <th>3</th>\n",
       "      <td>1</td>\n",
       "      <td>1</td>\n",
       "      <td>female</td>\n",
       "      <td>35.0</td>\n",
       "      <td>1</td>\n",
       "      <td>0</td>\n",
       "      <td>53.1000</td>\n",
       "      <td>S</td>\n",
       "    </tr>\n",
       "    <tr>\n",
       "      <th>4</th>\n",
       "      <td>0</td>\n",
       "      <td>3</td>\n",
       "      <td>male</td>\n",
       "      <td>35.0</td>\n",
       "      <td>0</td>\n",
       "      <td>0</td>\n",
       "      <td>8.0500</td>\n",
       "      <td>S</td>\n",
       "    </tr>\n",
       "  </tbody>\n",
       "</table>\n",
       "</div>"
      ],
      "text/plain": [
       "   Survived  Pclass     Sex   Age  SibSp  Parch     Fare Embarked\n",
       "0         0       3    male  22.0      1      0   7.2500        S\n",
       "1         1       1  female  38.0      1      0  71.2833        C\n",
       "2         1       3  female  26.0      0      0   7.9250        S\n",
       "3         1       1  female  35.0      1      0  53.1000        S\n",
       "4         0       3    male  35.0      0      0   8.0500        S"
      ]
     },
     "execution_count": 34,
     "metadata": {},
     "output_type": "execute_result"
    }
   ],
   "source": [
    "df.head()"
   ]
  },
  {
   "cell_type": "markdown",
   "id": "b93158b9",
   "metadata": {},
   "source": [
    "# Encoding categorical features"
   ]
  },
  {
   "cell_type": "code",
   "execution_count": 35,
   "id": "3cf037ca",
   "metadata": {},
   "outputs": [
    {
     "data": {
      "text/html": [
       "<div>\n",
       "<style scoped>\n",
       "    .dataframe tbody tr th:only-of-type {\n",
       "        vertical-align: middle;\n",
       "    }\n",
       "\n",
       "    .dataframe tbody tr th {\n",
       "        vertical-align: top;\n",
       "    }\n",
       "\n",
       "    .dataframe thead th {\n",
       "        text-align: right;\n",
       "    }\n",
       "</style>\n",
       "<table border=\"1\" class=\"dataframe\">\n",
       "  <thead>\n",
       "    <tr style=\"text-align: right;\">\n",
       "      <th></th>\n",
       "      <th>Survived</th>\n",
       "      <th>Pclass</th>\n",
       "      <th>Sex</th>\n",
       "      <th>Age</th>\n",
       "      <th>SibSp</th>\n",
       "      <th>Parch</th>\n",
       "      <th>Fare</th>\n",
       "      <th>Embarked</th>\n",
       "    </tr>\n",
       "  </thead>\n",
       "  <tbody>\n",
       "    <tr>\n",
       "      <th>0</th>\n",
       "      <td>0</td>\n",
       "      <td>3</td>\n",
       "      <td>1</td>\n",
       "      <td>22.0</td>\n",
       "      <td>1</td>\n",
       "      <td>0</td>\n",
       "      <td>7.2500</td>\n",
       "      <td>2</td>\n",
       "    </tr>\n",
       "    <tr>\n",
       "      <th>1</th>\n",
       "      <td>1</td>\n",
       "      <td>1</td>\n",
       "      <td>0</td>\n",
       "      <td>38.0</td>\n",
       "      <td>1</td>\n",
       "      <td>0</td>\n",
       "      <td>71.2833</td>\n",
       "      <td>0</td>\n",
       "    </tr>\n",
       "    <tr>\n",
       "      <th>2</th>\n",
       "      <td>1</td>\n",
       "      <td>3</td>\n",
       "      <td>0</td>\n",
       "      <td>26.0</td>\n",
       "      <td>0</td>\n",
       "      <td>0</td>\n",
       "      <td>7.9250</td>\n",
       "      <td>2</td>\n",
       "    </tr>\n",
       "    <tr>\n",
       "      <th>3</th>\n",
       "      <td>1</td>\n",
       "      <td>1</td>\n",
       "      <td>0</td>\n",
       "      <td>35.0</td>\n",
       "      <td>1</td>\n",
       "      <td>0</td>\n",
       "      <td>53.1000</td>\n",
       "      <td>2</td>\n",
       "    </tr>\n",
       "    <tr>\n",
       "      <th>4</th>\n",
       "      <td>0</td>\n",
       "      <td>3</td>\n",
       "      <td>1</td>\n",
       "      <td>35.0</td>\n",
       "      <td>0</td>\n",
       "      <td>0</td>\n",
       "      <td>8.0500</td>\n",
       "      <td>2</td>\n",
       "    </tr>\n",
       "    <tr>\n",
       "      <th>...</th>\n",
       "      <td>...</td>\n",
       "      <td>...</td>\n",
       "      <td>...</td>\n",
       "      <td>...</td>\n",
       "      <td>...</td>\n",
       "      <td>...</td>\n",
       "      <td>...</td>\n",
       "      <td>...</td>\n",
       "    </tr>\n",
       "    <tr>\n",
       "      <th>886</th>\n",
       "      <td>0</td>\n",
       "      <td>2</td>\n",
       "      <td>1</td>\n",
       "      <td>27.0</td>\n",
       "      <td>0</td>\n",
       "      <td>0</td>\n",
       "      <td>13.0000</td>\n",
       "      <td>2</td>\n",
       "    </tr>\n",
       "    <tr>\n",
       "      <th>887</th>\n",
       "      <td>1</td>\n",
       "      <td>1</td>\n",
       "      <td>0</td>\n",
       "      <td>19.0</td>\n",
       "      <td>0</td>\n",
       "      <td>0</td>\n",
       "      <td>30.0000</td>\n",
       "      <td>2</td>\n",
       "    </tr>\n",
       "    <tr>\n",
       "      <th>888</th>\n",
       "      <td>0</td>\n",
       "      <td>3</td>\n",
       "      <td>0</td>\n",
       "      <td>24.0</td>\n",
       "      <td>1</td>\n",
       "      <td>2</td>\n",
       "      <td>23.4500</td>\n",
       "      <td>2</td>\n",
       "    </tr>\n",
       "    <tr>\n",
       "      <th>889</th>\n",
       "      <td>1</td>\n",
       "      <td>1</td>\n",
       "      <td>1</td>\n",
       "      <td>26.0</td>\n",
       "      <td>0</td>\n",
       "      <td>0</td>\n",
       "      <td>30.0000</td>\n",
       "      <td>0</td>\n",
       "    </tr>\n",
       "    <tr>\n",
       "      <th>890</th>\n",
       "      <td>0</td>\n",
       "      <td>3</td>\n",
       "      <td>1</td>\n",
       "      <td>32.0</td>\n",
       "      <td>0</td>\n",
       "      <td>0</td>\n",
       "      <td>7.7500</td>\n",
       "      <td>1</td>\n",
       "    </tr>\n",
       "  </tbody>\n",
       "</table>\n",
       "<p>891 rows × 8 columns</p>\n",
       "</div>"
      ],
      "text/plain": [
       "     Survived  Pclass  Sex   Age  SibSp  Parch     Fare  Embarked\n",
       "0           0       3    1  22.0      1      0   7.2500         2\n",
       "1           1       1    0  38.0      1      0  71.2833         0\n",
       "2           1       3    0  26.0      0      0   7.9250         2\n",
       "3           1       1    0  35.0      1      0  53.1000         2\n",
       "4           0       3    1  35.0      0      0   8.0500         2\n",
       "..        ...     ...  ...   ...    ...    ...      ...       ...\n",
       "886         0       2    1  27.0      0      0  13.0000         2\n",
       "887         1       1    0  19.0      0      0  30.0000         2\n",
       "888         0       3    0  24.0      1      2  23.4500         2\n",
       "889         1       1    1  26.0      0      0  30.0000         0\n",
       "890         0       3    1  32.0      0      0   7.7500         1\n",
       "\n",
       "[891 rows x 8 columns]"
      ]
     },
     "execution_count": 35,
     "metadata": {},
     "output_type": "execute_result"
    }
   ],
   "source": [
    "#apply encoding technique on string or object variable.\n",
    "from sklearn.preprocessing import LabelEncoder\n",
    "\n",
    "le = LabelEncoder()\n",
    "list1 = ['Sex','Embarked']\n",
    "for val in list1:\n",
    "    df[val] = le.fit_transform(df[val].astype(str))\n",
    "df"
   ]
  },
  {
   "cell_type": "markdown",
   "id": "122582bb",
   "metadata": {},
   "source": [
    "# Remove skewness and outliers"
   ]
  },
  {
   "cell_type": "code",
   "execution_count": 36,
   "id": "031514f9",
   "metadata": {},
   "outputs": [
    {
     "data": {
      "image/png": "[encoded data removed]",
      "text/plain": [
       "<Figure size 1440x576 with 1 Axes>"
      ]
     },
     "metadata": {},
     "output_type": "display_data"
    }
   ],
   "source": [
    "#checking outliers with boxplot.\n",
    "df.iloc[:,:].boxplot(figsize=[20,8])\n",
    "plt.subplots_adjust(bottom=0.25)\n",
    "plt.show()"
   ]
  },
  {
   "cell_type": "code",
   "execution_count": 37,
   "id": "b4eead23",
   "metadata": {},
   "outputs": [
    {
     "data": {
      "text/plain": [
       "Survived     True\n",
       "Pclass       True\n",
       "Sex          True\n",
       "Age         False\n",
       "SibSp       False\n",
       "Parch       False\n",
       "Fare        False\n",
       "Embarked     True\n",
       "dtype: bool"
      ]
     },
     "execution_count": 37,
     "metadata": {},
     "output_type": "execute_result"
    }
   ],
   "source": [
    "#Lets quantify.\n",
    "from scipy.stats import zscore\n",
    "(np.abs(zscore(df))<3).all()"
   ]
  },
  {
   "cell_type": "code",
   "execution_count": 38,
   "id": "0ac68b70",
   "metadata": {},
   "outputs": [
    {
     "data": {
      "text/html": [
       "<div>\n",
       "<style scoped>\n",
       "    .dataframe tbody tr th:only-of-type {\n",
       "        vertical-align: middle;\n",
       "    }\n",
       "\n",
       "    .dataframe tbody tr th {\n",
       "        vertical-align: top;\n",
       "    }\n",
       "\n",
       "    .dataframe thead th {\n",
       "        text-align: right;\n",
       "    }\n",
       "</style>\n",
       "<table border=\"1\" class=\"dataframe\">\n",
       "  <thead>\n",
       "    <tr style=\"text-align: right;\">\n",
       "      <th></th>\n",
       "      <th>Survived</th>\n",
       "      <th>Pclass</th>\n",
       "      <th>Sex</th>\n",
       "      <th>Age</th>\n",
       "      <th>SibSp</th>\n",
       "      <th>Parch</th>\n",
       "      <th>Fare</th>\n",
       "      <th>Embarked</th>\n",
       "    </tr>\n",
       "  </thead>\n",
       "  <tbody>\n",
       "    <tr>\n",
       "      <th>0</th>\n",
       "      <td>0.789272</td>\n",
       "      <td>0.827377</td>\n",
       "      <td>0.737695</td>\n",
       "      <td>0.533834</td>\n",
       "      <td>0.432793</td>\n",
       "      <td>0.473674</td>\n",
       "      <td>0.502445</td>\n",
       "      <td>0.585954</td>\n",
       "    </tr>\n",
       "    <tr>\n",
       "      <th>1</th>\n",
       "      <td>1.266990</td>\n",
       "      <td>1.566107</td>\n",
       "      <td>1.355574</td>\n",
       "      <td>0.674891</td>\n",
       "      <td>0.432793</td>\n",
       "      <td>0.473674</td>\n",
       "      <td>0.786845</td>\n",
       "      <td>1.942303</td>\n",
       "    </tr>\n",
       "    <tr>\n",
       "      <th>2</th>\n",
       "      <td>1.266990</td>\n",
       "      <td>0.827377</td>\n",
       "      <td>1.355574</td>\n",
       "      <td>0.231653</td>\n",
       "      <td>0.474545</td>\n",
       "      <td>0.473674</td>\n",
       "      <td>0.488854</td>\n",
       "      <td>0.585954</td>\n",
       "    </tr>\n",
       "    <tr>\n",
       "      <th>3</th>\n",
       "      <td>1.266990</td>\n",
       "      <td>1.566107</td>\n",
       "      <td>1.355574</td>\n",
       "      <td>0.448255</td>\n",
       "      <td>0.432793</td>\n",
       "      <td>0.473674</td>\n",
       "      <td>0.420730</td>\n",
       "      <td>0.585954</td>\n",
       "    </tr>\n",
       "    <tr>\n",
       "      <th>4</th>\n",
       "      <td>0.789272</td>\n",
       "      <td>0.827377</td>\n",
       "      <td>0.737695</td>\n",
       "      <td>0.448255</td>\n",
       "      <td>0.474545</td>\n",
       "      <td>0.473674</td>\n",
       "      <td>0.486337</td>\n",
       "      <td>0.585954</td>\n",
       "    </tr>\n",
       "    <tr>\n",
       "      <th>...</th>\n",
       "      <td>...</td>\n",
       "      <td>...</td>\n",
       "      <td>...</td>\n",
       "      <td>...</td>\n",
       "      <td>...</td>\n",
       "      <td>...</td>\n",
       "      <td>...</td>\n",
       "      <td>...</td>\n",
       "    </tr>\n",
       "    <tr>\n",
       "      <th>886</th>\n",
       "      <td>0.789272</td>\n",
       "      <td>0.369365</td>\n",
       "      <td>0.737695</td>\n",
       "      <td>0.156107</td>\n",
       "      <td>0.474545</td>\n",
       "      <td>0.473674</td>\n",
       "      <td>0.386671</td>\n",
       "      <td>0.585954</td>\n",
       "    </tr>\n",
       "    <tr>\n",
       "      <th>887</th>\n",
       "      <td>1.266990</td>\n",
       "      <td>1.566107</td>\n",
       "      <td>1.355574</td>\n",
       "      <td>0.760469</td>\n",
       "      <td>0.474545</td>\n",
       "      <td>0.473674</td>\n",
       "      <td>0.044381</td>\n",
       "      <td>0.585954</td>\n",
       "    </tr>\n",
       "    <tr>\n",
       "      <th>888</th>\n",
       "      <td>0.789272</td>\n",
       "      <td>0.827377</td>\n",
       "      <td>1.355574</td>\n",
       "      <td>0.382743</td>\n",
       "      <td>0.432793</td>\n",
       "      <td>2.008933</td>\n",
       "      <td>0.176263</td>\n",
       "      <td>0.585954</td>\n",
       "    </tr>\n",
       "    <tr>\n",
       "      <th>889</th>\n",
       "      <td>1.266990</td>\n",
       "      <td>1.566107</td>\n",
       "      <td>0.737695</td>\n",
       "      <td>0.231653</td>\n",
       "      <td>0.474545</td>\n",
       "      <td>0.473674</td>\n",
       "      <td>0.044381</td>\n",
       "      <td>1.942303</td>\n",
       "    </tr>\n",
       "    <tr>\n",
       "      <th>890</th>\n",
       "      <td>0.789272</td>\n",
       "      <td>0.827377</td>\n",
       "      <td>0.737695</td>\n",
       "      <td>0.221619</td>\n",
       "      <td>0.474545</td>\n",
       "      <td>0.473674</td>\n",
       "      <td>0.492378</td>\n",
       "      <td>0.678175</td>\n",
       "    </tr>\n",
       "  </tbody>\n",
       "</table>\n",
       "<p>891 rows × 8 columns</p>\n",
       "</div>"
      ],
      "text/plain": [
       "     Survived    Pclass       Sex       Age     SibSp     Parch      Fare  \\\n",
       "0    0.789272  0.827377  0.737695  0.533834  0.432793  0.473674  0.502445   \n",
       "1    1.266990  1.566107  1.355574  0.674891  0.432793  0.473674  0.786845   \n",
       "2    1.266990  0.827377  1.355574  0.231653  0.474545  0.473674  0.488854   \n",
       "3    1.266990  1.566107  1.355574  0.448255  0.432793  0.473674  0.420730   \n",
       "4    0.789272  0.827377  0.737695  0.448255  0.474545  0.473674  0.486337   \n",
       "..        ...       ...       ...       ...       ...       ...       ...   \n",
       "886  0.789272  0.369365  0.737695  0.156107  0.474545  0.473674  0.386671   \n",
       "887  1.266990  1.566107  1.355574  0.760469  0.474545  0.473674  0.044381   \n",
       "888  0.789272  0.827377  1.355574  0.382743  0.432793  2.008933  0.176263   \n",
       "889  1.266990  1.566107  0.737695  0.231653  0.474545  0.473674  0.044381   \n",
       "890  0.789272  0.827377  0.737695  0.221619  0.474545  0.473674  0.492378   \n",
       "\n",
       "     Embarked  \n",
       "0    0.585954  \n",
       "1    1.942303  \n",
       "2    0.585954  \n",
       "3    0.585954  \n",
       "4    0.585954  \n",
       "..        ...  \n",
       "886  0.585954  \n",
       "887  0.585954  \n",
       "888  0.585954  \n",
       "889  1.942303  \n",
       "890  0.678175  \n",
       "\n",
       "[891 rows x 8 columns]"
      ]
     },
     "execution_count": 38,
     "metadata": {},
     "output_type": "execute_result"
    }
   ],
   "source": [
    "#display zscore for removing outliers.\n",
    "from scipy.stats import zscore\n",
    "z = np.abs(zscore(df))\n",
    "z"
   ]
  },
  {
   "cell_type": "code",
   "execution_count": 39,
   "id": "3e55353b",
   "metadata": {},
   "outputs": [
    {
     "name": "stdout",
     "output_type": "stream",
     "text": [
      "(array([ 13,  16,  25,  27,  50,  59,  68,  71,  86,  88,  96, 116, 118,\n",
      "       119, 159, 164, 167, 171, 180, 182, 201, 233, 258, 261, 266, 278,\n",
      "       299, 311, 324, 341, 360, 377, 380, 386, 437, 438, 438, 480, 493,\n",
      "       527, 541, 542, 557, 567, 610, 630, 638, 672, 678, 679, 683, 686,\n",
      "       689, 700, 716, 730, 736, 737, 742, 745, 774, 779, 787, 792, 813,\n",
      "       824, 846, 850, 851, 858, 863, 885], dtype=int64), array([5, 4, 5, 6, 4, 4, 4, 4, 5, 6, 3, 3, 6, 4, 4, 4, 5, 4, 4, 4, 4, 4,\n",
      "       6, 4, 4, 4, 6, 6, 4, 6, 5, 6, 6, 4, 5, 5, 6, 4, 3, 6, 4, 4, 6, 5,\n",
      "       5, 3, 5, 3, 5, 6, 4, 4, 6, 6, 6, 6, 5, 6, 6, 3, 5, 6, 4, 4, 4, 4,\n",
      "       4, 4, 3, 5, 4, 5], dtype=int64))\n"
     ]
    }
   ],
   "source": [
    "#threshold for zscore values ----> above 3 are considerd outliers.\n",
    "threshold = 3 \n",
    "print(np.where(z>3))"
   ]
  },
  {
   "cell_type": "code",
   "execution_count": 40,
   "id": "6e53142d",
   "metadata": {},
   "outputs": [],
   "source": [
    "#removing outliers.\n",
    "#new_numeric_df = new_numeric_data[(z<3).all(axis=1)]"
   ]
  },
  {
   "cell_type": "markdown",
   "id": "aff3f686",
   "metadata": {},
   "source": [
    "# Data Preprocessing"
   ]
  },
  {
   "cell_type": "code",
   "execution_count": 41,
   "id": "8fc1e999",
   "metadata": {},
   "outputs": [
    {
     "name": "stdout",
     "output_type": "stream",
     "text": [
      "     Pclass  Sex   Age  SibSp  Parch     Fare  Embarked\n",
      "0         3    1  22.0      1      0   7.2500         2\n",
      "1         1    0  38.0      1      0  71.2833         0\n",
      "2         3    0  26.0      0      0   7.9250         2\n",
      "3         1    0  35.0      1      0  53.1000         2\n",
      "4         3    1  35.0      0      0   8.0500         2\n",
      "..      ...  ...   ...    ...    ...      ...       ...\n",
      "886       2    1  27.0      0      0  13.0000         2\n",
      "887       1    0  19.0      0      0  30.0000         2\n",
      "888       3    0  24.0      1      2  23.4500         2\n",
      "889       1    1  26.0      0      0  30.0000         0\n",
      "890       3    1  32.0      0      0   7.7500         1\n",
      "\n",
      "[891 rows x 7 columns]\n"
     ]
    }
   ],
   "source": [
    "#Splitting the independent and target variable in x and y before removing the skewness\n",
    "x = df.drop(\"Survived\",axis=1)\n",
    "print(x)"
   ]
  },
  {
   "cell_type": "code",
   "execution_count": 42,
   "id": "0914151d",
   "metadata": {},
   "outputs": [
    {
     "name": "stdout",
     "output_type": "stream",
     "text": [
      "0      0\n",
      "1      1\n",
      "2      1\n",
      "3      1\n",
      "4      0\n",
      "      ..\n",
      "886    0\n",
      "887    1\n",
      "888    0\n",
      "889    1\n",
      "890    0\n",
      "Name: Survived, Length: 891, dtype: int64\n"
     ]
    }
   ],
   "source": [
    "y = df['Survived']\n",
    "print(y)"
   ]
  },
  {
   "cell_type": "code",
   "execution_count": 43,
   "id": "e2eff479",
   "metadata": {},
   "outputs": [
    {
     "name": "stdout",
     "output_type": "stream",
     "text": [
      "(891, 7) (891,)\n"
     ]
    }
   ],
   "source": [
    "print(x.shape, y.shape)"
   ]
  },
  {
   "cell_type": "markdown",
   "id": "b21f2f9e",
   "metadata": {},
   "source": [
    "# Training process begins"
   ]
  },
  {
   "cell_type": "markdown",
   "id": "3a5e2e8d",
   "metadata": {},
   "source": [
    "Finding best random_state"
   ]
  },
  {
   "cell_type": "code",
   "execution_count": 44,
   "id": "1a010c1a",
   "metadata": {},
   "outputs": [],
   "source": [
    "from sklearn.ensemble import RandomForestClassifier\n",
    "from sklearn.linear_model import LogisticRegression\n",
    "from sklearn.tree import DecisionTreeClassifier\n",
    "from sklearn.naive_bayes import GaussianNB\n",
    "from sklearn.naive_bayes import MultinomialNB\n",
    "from sklearn.neighbors import KNeighborsClassifier\n",
    "from sklearn.svm import SVC\n",
    "from sklearn.metrics import accuracy_score\n",
    "from sklearn.metrics import confusion_matrix, classification_report\n",
    "from sklearn.model_selection import train_test_split"
   ]
  },
  {
   "cell_type": "code",
   "execution_count": 45,
   "id": "9eccad8e",
   "metadata": {},
   "outputs": [
    {
     "name": "stdout",
     "output_type": "stream",
     "text": [
      "accuracy 0.7988826815642458 random_state 1\n",
      "accuracy 0.7932960893854749 random_state 2\n",
      "accuracy 0.7597765363128491 random_state 3\n",
      "accuracy 0.8268156424581006 random_state 4\n",
      "accuracy 0.8212290502793296 random_state 5\n",
      "accuracy 0.8603351955307262 random_state 6\n",
      "accuracy 0.7541899441340782 random_state 7\n",
      "accuracy 0.770949720670391 random_state 8\n",
      "accuracy 0.776536312849162 random_state 9\n",
      "accuracy 0.8156424581005587 random_state 10\n",
      "accuracy 0.8715083798882681 random_state 11\n",
      "accuracy 0.7932960893854749 random_state 12\n",
      "accuracy 0.8379888268156425 random_state 13\n",
      "accuracy 0.8044692737430168 random_state 14\n",
      "accuracy 0.8156424581005587 random_state 15\n",
      "accuracy 0.7374301675977654 random_state 16\n",
      "accuracy 0.776536312849162 random_state 17\n",
      "accuracy 0.8491620111731844 random_state 18\n",
      "accuracy 0.8491620111731844 random_state 19\n",
      "accuracy 0.8379888268156425 random_state 20\n",
      "accuracy 0.8044692737430168 random_state 21\n",
      "accuracy 0.7821229050279329 random_state 22\n",
      "accuracy 0.7597765363128491 random_state 23\n",
      "accuracy 0.8435754189944135 random_state 24\n",
      "accuracy 0.8100558659217877 random_state 25\n",
      "accuracy 0.8100558659217877 random_state 26\n",
      "accuracy 0.8212290502793296 random_state 27\n",
      "accuracy 0.7932960893854749 random_state 28\n",
      "accuracy 0.7932960893854749 random_state 29\n",
      "accuracy 0.7821229050279329 random_state 30\n",
      "accuracy 0.8044692737430168 random_state 31\n",
      "accuracy 0.7821229050279329 random_state 32\n",
      "accuracy 0.8156424581005587 random_state 33\n",
      "accuracy 0.8435754189944135 random_state 34\n",
      "accuracy 0.7877094972067039 random_state 35\n",
      "accuracy 0.8212290502793296 random_state 36\n",
      "accuracy 0.8044692737430168 random_state 37\n",
      "accuracy 0.8324022346368715 random_state 38\n",
      "accuracy 0.8100558659217877 random_state 39\n",
      "accuracy 0.8156424581005587 random_state 40\n",
      "accuracy 0.8268156424581006 random_state 41\n",
      "accuracy 0.8100558659217877 random_state 42\n",
      "accuracy 0.7374301675977654 random_state 43\n",
      "accuracy 0.7541899441340782 random_state 44\n",
      "accuracy 0.8379888268156425 random_state 45\n",
      "accuracy 0.8268156424581006 random_state 46\n",
      "accuracy 0.8100558659217877 random_state 47\n",
      "accuracy 0.7821229050279329 random_state 48\n",
      "accuracy 0.8212290502793296 random_state 49\n",
      "accuracy 0.7988826815642458 random_state 50\n",
      "accuracy 0.7877094972067039 random_state 51\n",
      "accuracy 0.8212290502793296 random_state 52\n",
      "accuracy 0.8156424581005587 random_state 53\n",
      "accuracy 0.7988826815642458 random_state 54\n",
      "accuracy 0.7821229050279329 random_state 55\n",
      "accuracy 0.8435754189944135 random_state 56\n",
      "accuracy 0.8044692737430168 random_state 57\n",
      "accuracy 0.7877094972067039 random_state 58\n",
      "accuracy 0.7486033519553073 random_state 59\n",
      "accuracy 0.770949720670391 random_state 60\n",
      "accuracy 0.8044692737430168 random_state 61\n",
      "accuracy 0.8044692737430168 random_state 62\n",
      "accuracy 0.8156424581005587 random_state 63\n",
      "accuracy 0.8212290502793296 random_state 64\n",
      "accuracy 0.8044692737430168 random_state 65\n",
      "accuracy 0.770949720670391 random_state 66\n",
      "accuracy 0.8100558659217877 random_state 67\n",
      "accuracy 0.8212290502793296 random_state 68\n",
      "accuracy 0.8156424581005587 random_state 69\n",
      "accuracy 0.8324022346368715 random_state 70\n",
      "accuracy 0.8379888268156425 random_state 71\n",
      "accuracy 0.8212290502793296 random_state 72\n",
      "accuracy 0.8100558659217877 random_state 73\n",
      "accuracy 0.8379888268156425 random_state 74\n",
      "accuracy 0.7597765363128491 random_state 75\n",
      "accuracy 0.8491620111731844 random_state 76\n",
      "accuracy 0.7821229050279329 random_state 77\n",
      "accuracy 0.8379888268156425 random_state 78\n",
      "accuracy 0.8100558659217877 random_state 79\n",
      "accuracy 0.776536312849162 random_state 80\n",
      "accuracy 0.7597765363128491 random_state 81\n",
      "accuracy 0.8044692737430168 random_state 82\n",
      "accuracy 0.8100558659217877 random_state 83\n",
      "accuracy 0.7430167597765364 random_state 84\n",
      "accuracy 0.7988826815642458 random_state 85\n",
      "accuracy 0.7877094972067039 random_state 86\n",
      "accuracy 0.8156424581005587 random_state 87\n",
      "accuracy 0.7877094972067039 random_state 88\n",
      "accuracy 0.8324022346368715 random_state 89\n",
      "accuracy 0.8100558659217877 random_state 90\n",
      "accuracy 0.770949720670391 random_state 91\n",
      "accuracy 0.7932960893854749 random_state 92\n",
      "accuracy 0.8379888268156425 random_state 93\n",
      "accuracy 0.7988826815642458 random_state 94\n",
      "accuracy 0.8100558659217877 random_state 95\n",
      "accuracy 0.8044692737430168 random_state 96\n",
      "accuracy 0.7932960893854749 random_state 97\n",
      "accuracy 0.770949720670391 random_state 98\n",
      "accuracy 0.7541899441340782 random_state 99\n",
      "accuracy 0.8100558659217877 random_state 100\n",
      "accuracy 0.8100558659217877 random_state 101\n",
      "accuracy 0.7988826815642458 random_state 102\n",
      "accuracy 0.7877094972067039 random_state 103\n",
      "accuracy 0.7932960893854749 random_state 104\n",
      "accuracy 0.776536312849162 random_state 105\n",
      "accuracy 0.8100558659217877 random_state 106\n",
      "accuracy 0.7821229050279329 random_state 107\n",
      "accuracy 0.7988826815642458 random_state 108\n",
      "accuracy 0.8044692737430168 random_state 109\n",
      "accuracy 0.8212290502793296 random_state 110\n",
      "accuracy 0.7877094972067039 random_state 111\n",
      "accuracy 0.8156424581005587 random_state 112\n",
      "accuracy 0.7932960893854749 random_state 113\n",
      "accuracy 0.7541899441340782 random_state 114\n",
      "accuracy 0.8212290502793296 random_state 115\n",
      "accuracy 0.8100558659217877 random_state 116\n",
      "accuracy 0.7653631284916201 random_state 117\n",
      "accuracy 0.7653631284916201 random_state 118\n",
      "accuracy 0.770949720670391 random_state 119\n",
      "accuracy 0.7877094972067039 random_state 120\n",
      "accuracy 0.776536312849162 random_state 121\n",
      "accuracy 0.770949720670391 random_state 122\n",
      "accuracy 0.8212290502793296 random_state 123\n",
      "accuracy 0.7932960893854749 random_state 124\n",
      "accuracy 0.8156424581005587 random_state 125\n",
      "accuracy 0.8268156424581006 random_state 126\n",
      "accuracy 0.8100558659217877 random_state 127\n",
      "accuracy 0.8156424581005587 random_state 128\n",
      "accuracy 0.8379888268156425 random_state 129\n",
      "accuracy 0.8379888268156425 random_state 130\n",
      "accuracy 0.7541899441340782 random_state 131\n",
      "accuracy 0.8156424581005587 random_state 132\n",
      "accuracy 0.8268156424581006 random_state 133\n",
      "accuracy 0.776536312849162 random_state 134\n",
      "accuracy 0.7821229050279329 random_state 135\n",
      "accuracy 0.8212290502793296 random_state 136\n",
      "accuracy 0.8268156424581006 random_state 137\n",
      "accuracy 0.8156424581005587 random_state 138\n",
      "accuracy 0.8324022346368715 random_state 139\n",
      "accuracy 0.7877094972067039 random_state 140\n",
      "accuracy 0.8100558659217877 random_state 141\n",
      "accuracy 0.8156424581005587 random_state 142\n",
      "accuracy 0.770949720670391 random_state 143\n",
      "accuracy 0.8044692737430168 random_state 144\n",
      "accuracy 0.8324022346368715 random_state 145\n",
      "accuracy 0.7653631284916201 random_state 146\n",
      "accuracy 0.8324022346368715 random_state 147\n",
      "accuracy 0.8156424581005587 random_state 148\n",
      "accuracy 0.8212290502793296 random_state 149\n",
      "accuracy 0.8547486033519553 random_state 150\n",
      "accuracy 0.776536312849162 random_state 151\n",
      "accuracy 0.7988826815642458 random_state 152\n",
      "accuracy 0.8044692737430168 random_state 153\n",
      "accuracy 0.7988826815642458 random_state 154\n",
      "accuracy 0.7821229050279329 random_state 155\n",
      "accuracy 0.7988826815642458 random_state 156\n",
      "accuracy 0.7932960893854749 random_state 157\n",
      "accuracy 0.7821229050279329 random_state 158\n",
      "accuracy 0.8547486033519553 random_state 159\n",
      "accuracy 0.7988826815642458 random_state 160\n",
      "accuracy 0.7653631284916201 random_state 161\n",
      "accuracy 0.776536312849162 random_state 162\n",
      "accuracy 0.8268156424581006 random_state 163\n",
      "accuracy 0.8212290502793296 random_state 164\n",
      "accuracy 0.8324022346368715 random_state 165\n",
      "accuracy 0.8044692737430168 random_state 166\n",
      "accuracy 0.8212290502793296 random_state 167\n",
      "accuracy 0.8156424581005587 random_state 168\n",
      "accuracy 0.8324022346368715 random_state 169\n",
      "accuracy 0.7653631284916201 random_state 170\n",
      "accuracy 0.7932960893854749 random_state 171\n",
      "accuracy 0.8156424581005587 random_state 172\n",
      "accuracy 0.8268156424581006 random_state 173\n",
      "accuracy 0.7877094972067039 random_state 174\n",
      "accuracy 0.7988826815642458 random_state 175\n",
      "accuracy 0.7541899441340782 random_state 176\n",
      "accuracy 0.7932960893854749 random_state 177\n",
      "accuracy 0.8100558659217877 random_state 178\n",
      "accuracy 0.770949720670391 random_state 179\n",
      "accuracy 0.8324022346368715 random_state 180\n",
      "accuracy 0.8100558659217877 random_state 181\n",
      "accuracy 0.8044692737430168 random_state 182\n",
      "accuracy 0.8100558659217877 random_state 183\n",
      "accuracy 0.8100558659217877 random_state 184\n",
      "accuracy 0.7877094972067039 random_state 185\n",
      "accuracy 0.7877094972067039 random_state 186\n",
      "accuracy 0.770949720670391 random_state 187\n"
     ]
    },
    {
     "name": "stdout",
     "output_type": "stream",
     "text": [
      "accuracy 0.770949720670391 random_state 188\n",
      "accuracy 0.7821229050279329 random_state 189\n",
      "accuracy 0.8268156424581006 random_state 190\n",
      "accuracy 0.8212290502793296 random_state 191\n",
      "accuracy 0.776536312849162 random_state 192\n",
      "accuracy 0.8100558659217877 random_state 193\n",
      "accuracy 0.7932960893854749 random_state 194\n",
      "accuracy 0.7821229050279329 random_state 195\n",
      "accuracy 0.8491620111731844 random_state 196\n",
      "accuracy 0.8156424581005587 random_state 197\n",
      "accuracy 0.7877094972067039 random_state 198\n",
      "accuracy 0.7821229050279329 random_state 199\n"
     ]
    }
   ],
   "source": [
    "maxAccu = 0\n",
    "maxRS = 0\n",
    "\n",
    "for i in range(1,200):\n",
    "    x_train, x_test, y_train, y_test = train_test_split(x,y,test_size = .20, random_state = i)\n",
    "    lr = LogisticRegression()\n",
    "    lr.fit(x_train,y_train)\n",
    "    pred = lr.predict(x_test)\n",
    "    acc = accuracy_score(y_test, pred)\n",
    "    print('accuracy',acc,'random_state',i)\n",
    "    \n",
    "    if acc > maxAccu:\n",
    "        maxAccu = acc\n",
    "        maxRS = i"
   ]
  },
  {
   "cell_type": "code",
   "execution_count": 46,
   "id": "f8bca4f8",
   "metadata": {},
   "outputs": [
    {
     "name": "stdout",
     "output_type": "stream",
     "text": [
      "Best accuracy is  0.8715083798882681 On Random_state  11\n"
     ]
    }
   ],
   "source": [
    "print(\"Best accuracy is \",maxAccu,\"On Random_state \",maxRS)"
   ]
  },
  {
   "cell_type": "code",
   "execution_count": 47,
   "id": "baf4c202",
   "metadata": {},
   "outputs": [
    {
     "name": "stdout",
     "output_type": "stream",
     "text": [
      "accuracy 0.770949720670391 random_state 1\n",
      "accuracy 0.8100558659217877 random_state 2\n",
      "accuracy 0.8044692737430168 random_state 3\n",
      "accuracy 0.8212290502793296 random_state 4\n",
      "accuracy 0.8324022346368715 random_state 5\n",
      "accuracy 0.8156424581005587 random_state 6\n",
      "accuracy 0.7653631284916201 random_state 7\n",
      "accuracy 0.7988826815642458 random_state 8\n",
      "accuracy 0.7821229050279329 random_state 9\n",
      "accuracy 0.8212290502793296 random_state 10\n",
      "accuracy 0.8435754189944135 random_state 11\n",
      "accuracy 0.770949720670391 random_state 12\n",
      "accuracy 0.8212290502793296 random_state 13\n",
      "accuracy 0.8100558659217877 random_state 14\n",
      "accuracy 0.7988826815642458 random_state 15\n",
      "accuracy 0.7486033519553073 random_state 16\n",
      "accuracy 0.7988826815642458 random_state 17\n",
      "accuracy 0.8547486033519553 random_state 18\n",
      "accuracy 0.8547486033519553 random_state 19\n",
      "accuracy 0.8156424581005587 random_state 20\n",
      "accuracy 0.8212290502793296 random_state 21\n",
      "accuracy 0.7932960893854749 random_state 22\n",
      "accuracy 0.7653631284916201 random_state 23\n",
      "accuracy 0.8044692737430168 random_state 24\n",
      "accuracy 0.7932960893854749 random_state 25\n",
      "accuracy 0.7988826815642458 random_state 26\n",
      "accuracy 0.8212290502793296 random_state 27\n",
      "accuracy 0.8044692737430168 random_state 28\n",
      "accuracy 0.8379888268156425 random_state 29\n",
      "accuracy 0.8100558659217877 random_state 30\n",
      "accuracy 0.770949720670391 random_state 31\n",
      "accuracy 0.8100558659217877 random_state 32\n",
      "accuracy 0.8324022346368715 random_state 33\n",
      "accuracy 0.8547486033519553 random_state 34\n",
      "accuracy 0.770949720670391 random_state 35\n",
      "accuracy 0.8268156424581006 random_state 36\n",
      "accuracy 0.7932960893854749 random_state 37\n",
      "accuracy 0.8268156424581006 random_state 38\n",
      "accuracy 0.8100558659217877 random_state 39\n",
      "accuracy 0.8100558659217877 random_state 40\n",
      "accuracy 0.8156424581005587 random_state 41\n",
      "accuracy 0.8156424581005587 random_state 42\n",
      "accuracy 0.8156424581005587 random_state 43\n",
      "accuracy 0.7094972067039106 random_state 44\n",
      "accuracy 0.8324022346368715 random_state 45\n",
      "accuracy 0.8100558659217877 random_state 46\n",
      "accuracy 0.770949720670391 random_state 47\n",
      "accuracy 0.7877094972067039 random_state 48\n",
      "accuracy 0.8491620111731844 random_state 49\n",
      "accuracy 0.7877094972067039 random_state 50\n",
      "accuracy 0.8100558659217877 random_state 51\n",
      "accuracy 0.7988826815642458 random_state 52\n",
      "accuracy 0.7877094972067039 random_state 53\n",
      "accuracy 0.8044692737430168 random_state 54\n",
      "accuracy 0.8156424581005587 random_state 55\n",
      "accuracy 0.776536312849162 random_state 56\n",
      "accuracy 0.8268156424581006 random_state 57\n",
      "accuracy 0.8156424581005587 random_state 58\n",
      "accuracy 0.8044692737430168 random_state 59\n",
      "accuracy 0.8100558659217877 random_state 60\n",
      "accuracy 0.8044692737430168 random_state 61\n",
      "accuracy 0.8100558659217877 random_state 62\n",
      "accuracy 0.8268156424581006 random_state 63\n",
      "accuracy 0.8212290502793296 random_state 64\n",
      "accuracy 0.8268156424581006 random_state 65\n",
      "accuracy 0.8547486033519553 random_state 66\n",
      "accuracy 0.7877094972067039 random_state 67\n",
      "accuracy 0.8212290502793296 random_state 68\n",
      "accuracy 0.8044692737430168 random_state 69\n",
      "accuracy 0.7821229050279329 random_state 70\n",
      "accuracy 0.8379888268156425 random_state 71\n",
      "accuracy 0.8212290502793296 random_state 72\n",
      "accuracy 0.8379888268156425 random_state 73\n",
      "accuracy 0.8379888268156425 random_state 74\n",
      "accuracy 0.7988826815642458 random_state 75\n",
      "accuracy 0.8212290502793296 random_state 76\n",
      "accuracy 0.8100558659217877 random_state 77\n",
      "accuracy 0.8156424581005587 random_state 78\n",
      "accuracy 0.7988826815642458 random_state 79\n",
      "accuracy 0.8044692737430168 random_state 80\n",
      "accuracy 0.7821229050279329 random_state 81\n",
      "accuracy 0.7597765363128491 random_state 82\n",
      "accuracy 0.8212290502793296 random_state 83\n",
      "accuracy 0.7597765363128491 random_state 84\n",
      "accuracy 0.7988826815642458 random_state 85\n",
      "accuracy 0.8324022346368715 random_state 86\n",
      "accuracy 0.7877094972067039 random_state 87\n",
      "accuracy 0.7988826815642458 random_state 88\n",
      "accuracy 0.8435754189944135 random_state 89\n",
      "accuracy 0.8156424581005587 random_state 90\n",
      "accuracy 0.8212290502793296 random_state 91\n",
      "accuracy 0.8379888268156425 random_state 92\n",
      "accuracy 0.8491620111731844 random_state 93\n",
      "accuracy 0.8156424581005587 random_state 94\n",
      "accuracy 0.8435754189944135 random_state 95\n",
      "accuracy 0.776536312849162 random_state 96\n",
      "accuracy 0.8044692737430168 random_state 97\n",
      "accuracy 0.770949720670391 random_state 98\n",
      "accuracy 0.8324022346368715 random_state 99\n",
      "accuracy 0.8212290502793296 random_state 100\n",
      "accuracy 0.8044692737430168 random_state 101\n",
      "accuracy 0.8156424581005587 random_state 102\n",
      "accuracy 0.8100558659217877 random_state 103\n",
      "accuracy 0.8044692737430168 random_state 104\n",
      "accuracy 0.8212290502793296 random_state 105\n",
      "accuracy 0.8100558659217877 random_state 106\n",
      "accuracy 0.776536312849162 random_state 107\n",
      "accuracy 0.8379888268156425 random_state 108\n",
      "accuracy 0.7653631284916201 random_state 109\n",
      "accuracy 0.8212290502793296 random_state 110\n",
      "accuracy 0.8212290502793296 random_state 111\n",
      "accuracy 0.8435754189944135 random_state 112\n",
      "accuracy 0.8156424581005587 random_state 113\n",
      "accuracy 0.7932960893854749 random_state 114\n",
      "accuracy 0.8324022346368715 random_state 115\n",
      "accuracy 0.8100558659217877 random_state 116\n",
      "accuracy 0.7597765363128491 random_state 117\n",
      "accuracy 0.8044692737430168 random_state 118\n",
      "accuracy 0.8044692737430168 random_state 119\n",
      "accuracy 0.7932960893854749 random_state 120\n",
      "accuracy 0.7821229050279329 random_state 121\n",
      "accuracy 0.7821229050279329 random_state 122\n",
      "accuracy 0.8212290502793296 random_state 123\n",
      "accuracy 0.7877094972067039 random_state 124\n",
      "accuracy 0.7877094972067039 random_state 125\n",
      "accuracy 0.8324022346368715 random_state 126\n",
      "accuracy 0.7877094972067039 random_state 127\n",
      "accuracy 0.8268156424581006 random_state 128\n",
      "accuracy 0.8212290502793296 random_state 129\n",
      "accuracy 0.8268156424581006 random_state 130\n",
      "accuracy 0.7877094972067039 random_state 131\n",
      "accuracy 0.8435754189944135 random_state 132\n",
      "accuracy 0.7821229050279329 random_state 133\n",
      "accuracy 0.8268156424581006 random_state 134\n",
      "accuracy 0.8268156424581006 random_state 135\n",
      "accuracy 0.8491620111731844 random_state 136\n",
      "accuracy 0.8268156424581006 random_state 137\n",
      "accuracy 0.8547486033519553 random_state 138\n",
      "accuracy 0.8547486033519553 random_state 139\n",
      "accuracy 0.8044692737430168 random_state 140\n",
      "accuracy 0.8100558659217877 random_state 141\n",
      "accuracy 0.8156424581005587 random_state 142\n",
      "accuracy 0.7877094972067039 random_state 143\n",
      "accuracy 0.7877094972067039 random_state 144\n",
      "accuracy 0.8379888268156425 random_state 145\n",
      "accuracy 0.8044692737430168 random_state 146\n",
      "accuracy 0.8212290502793296 random_state 147\n",
      "accuracy 0.8212290502793296 random_state 148\n",
      "accuracy 0.776536312849162 random_state 149\n",
      "accuracy 0.8491620111731844 random_state 150\n",
      "accuracy 0.7821229050279329 random_state 151\n",
      "accuracy 0.7932960893854749 random_state 152\n",
      "accuracy 0.8379888268156425 random_state 153\n",
      "accuracy 0.8212290502793296 random_state 154\n",
      "accuracy 0.8044692737430168 random_state 155\n",
      "accuracy 0.8547486033519553 random_state 156\n",
      "accuracy 0.7932960893854749 random_state 157\n",
      "accuracy 0.770949720670391 random_state 158\n",
      "accuracy 0.8379888268156425 random_state 159\n",
      "accuracy 0.8603351955307262 random_state 160\n",
      "accuracy 0.7877094972067039 random_state 161\n",
      "accuracy 0.7932960893854749 random_state 162\n",
      "accuracy 0.7877094972067039 random_state 163\n",
      "accuracy 0.8044692737430168 random_state 164\n",
      "accuracy 0.776536312849162 random_state 165\n",
      "accuracy 0.8212290502793296 random_state 166\n",
      "accuracy 0.8044692737430168 random_state 167\n",
      "accuracy 0.8100558659217877 random_state 168\n",
      "accuracy 0.8435754189944135 random_state 169\n",
      "accuracy 0.7821229050279329 random_state 170\n",
      "accuracy 0.8100558659217877 random_state 171\n",
      "accuracy 0.7877094972067039 random_state 172\n",
      "accuracy 0.8268156424581006 random_state 173\n",
      "accuracy 0.8324022346368715 random_state 174\n",
      "accuracy 0.7486033519553073 random_state 175\n",
      "accuracy 0.7877094972067039 random_state 176\n",
      "accuracy 0.7821229050279329 random_state 177\n",
      "accuracy 0.770949720670391 random_state 178\n",
      "accuracy 0.8044692737430168 random_state 179\n",
      "accuracy 0.8324022346368715 random_state 180\n",
      "accuracy 0.8156424581005587 random_state 181\n",
      "accuracy 0.8100558659217877 random_state 182\n",
      "accuracy 0.8435754189944135 random_state 183\n",
      "accuracy 0.7877094972067039 random_state 184\n",
      "accuracy 0.7821229050279329 random_state 185\n"
     ]
    },
    {
     "name": "stdout",
     "output_type": "stream",
     "text": [
      "accuracy 0.7988826815642458 random_state 186\n",
      "accuracy 0.770949720670391 random_state 187\n",
      "accuracy 0.8212290502793296 random_state 188\n",
      "accuracy 0.8044692737430168 random_state 189\n",
      "accuracy 0.8659217877094972 random_state 190\n",
      "accuracy 0.8603351955307262 random_state 191\n",
      "accuracy 0.8212290502793296 random_state 192\n",
      "accuracy 0.7988826815642458 random_state 193\n",
      "accuracy 0.8212290502793296 random_state 194\n",
      "accuracy 0.8044692737430168 random_state 195\n",
      "accuracy 0.8603351955307262 random_state 196\n",
      "accuracy 0.8324022346368715 random_state 197\n",
      "accuracy 0.7374301675977654 random_state 198\n",
      "accuracy 0.7821229050279329 random_state 199\n"
     ]
    }
   ],
   "source": [
    "maxAccu = 0\n",
    "maxRS = 0\n",
    "\n",
    "for i in range(1,200):\n",
    "    x_train, x_test, y_train, y_test = train_test_split(x,y,test_size = .20, random_state = i)\n",
    "    rfc = RandomForestClassifier()\n",
    "    rfc.fit(x_train,y_train)\n",
    "    pred = rfc.predict(x_test)\n",
    "    acc = accuracy_score(y_test, pred)\n",
    "    print('accuracy',acc,'random_state',i)\n",
    "    \n",
    "    if acc > maxAccu:\n",
    "        maxAccu = acc\n",
    "        maxRS = i"
   ]
  },
  {
   "cell_type": "code",
   "execution_count": 48,
   "id": "bdf57217",
   "metadata": {},
   "outputs": [
    {
     "name": "stdout",
     "output_type": "stream",
     "text": [
      "Best accuracy is  0.8659217877094972 On Random_state  190\n"
     ]
    }
   ],
   "source": [
    "print(\"Best accuracy is \",maxAccu,\"On Random_state \",maxRS)"
   ]
  },
  {
   "cell_type": "code",
   "execution_count": 49,
   "id": "e24ef809",
   "metadata": {},
   "outputs": [
    {
     "name": "stdout",
     "output_type": "stream",
     "text": [
      "accuracy 0.770949720670391 random_state 1\n",
      "accuracy 0.770949720670391 random_state 2\n",
      "accuracy 0.7541899441340782 random_state 3\n",
      "accuracy 0.8379888268156425 random_state 4\n",
      "accuracy 0.8156424581005587 random_state 5\n",
      "accuracy 0.7988826815642458 random_state 6\n",
      "accuracy 0.7486033519553073 random_state 7\n",
      "accuracy 0.7486033519553073 random_state 8\n",
      "accuracy 0.7206703910614525 random_state 9\n",
      "accuracy 0.7821229050279329 random_state 10\n",
      "accuracy 0.770949720670391 random_state 11\n",
      "accuracy 0.776536312849162 random_state 12\n",
      "accuracy 0.770949720670391 random_state 13\n",
      "accuracy 0.7653631284916201 random_state 14\n",
      "accuracy 0.770949720670391 random_state 15\n",
      "accuracy 0.7821229050279329 random_state 16\n",
      "accuracy 0.8268156424581006 random_state 17\n",
      "accuracy 0.7597765363128491 random_state 18\n",
      "accuracy 0.770949720670391 random_state 19\n",
      "accuracy 0.7821229050279329 random_state 20\n",
      "accuracy 0.7821229050279329 random_state 21\n",
      "accuracy 0.770949720670391 random_state 22\n",
      "accuracy 0.776536312849162 random_state 23\n",
      "accuracy 0.7541899441340782 random_state 24\n",
      "accuracy 0.776536312849162 random_state 25\n",
      "accuracy 0.776536312849162 random_state 26\n",
      "accuracy 0.7821229050279329 random_state 27\n",
      "accuracy 0.7653631284916201 random_state 28\n",
      "accuracy 0.770949720670391 random_state 29\n",
      "accuracy 0.770949720670391 random_state 30\n",
      "accuracy 0.7653631284916201 random_state 31\n",
      "accuracy 0.7597765363128491 random_state 32\n",
      "accuracy 0.8100558659217877 random_state 33\n",
      "accuracy 0.8379888268156425 random_state 34\n",
      "accuracy 0.770949720670391 random_state 35\n",
      "accuracy 0.8156424581005587 random_state 36\n",
      "accuracy 0.7597765363128491 random_state 37\n",
      "accuracy 0.776536312849162 random_state 38\n",
      "accuracy 0.7988826815642458 random_state 39\n",
      "accuracy 0.8100558659217877 random_state 40\n",
      "accuracy 0.7541899441340782 random_state 41\n",
      "accuracy 0.7988826815642458 random_state 42\n",
      "accuracy 0.7653631284916201 random_state 43\n",
      "accuracy 0.7094972067039106 random_state 44\n",
      "accuracy 0.7877094972067039 random_state 45\n",
      "accuracy 0.8379888268156425 random_state 46\n",
      "accuracy 0.7541899441340782 random_state 47\n",
      "accuracy 0.7262569832402235 random_state 48\n",
      "accuracy 0.7932960893854749 random_state 49\n",
      "accuracy 0.7430167597765364 random_state 50\n",
      "accuracy 0.7653631284916201 random_state 51\n",
      "accuracy 0.7486033519553073 random_state 52\n",
      "accuracy 0.7318435754189944 random_state 53\n",
      "accuracy 0.8156424581005587 random_state 54\n",
      "accuracy 0.7877094972067039 random_state 55\n",
      "accuracy 0.776536312849162 random_state 56\n",
      "accuracy 0.770949720670391 random_state 57\n",
      "accuracy 0.8100558659217877 random_state 58\n",
      "accuracy 0.7541899441340782 random_state 59\n",
      "accuracy 0.7597765363128491 random_state 60\n",
      "accuracy 0.7597765363128491 random_state 61\n",
      "accuracy 0.7653631284916201 random_state 62\n",
      "accuracy 0.7821229050279329 random_state 63\n",
      "accuracy 0.770949720670391 random_state 64\n",
      "accuracy 0.8044692737430168 random_state 65\n",
      "accuracy 0.8324022346368715 random_state 66\n",
      "accuracy 0.7262569832402235 random_state 67\n",
      "accuracy 0.7653631284916201 random_state 68\n",
      "accuracy 0.776536312849162 random_state 69\n",
      "accuracy 0.7988826815642458 random_state 70\n",
      "accuracy 0.7877094972067039 random_state 71\n",
      "accuracy 0.776536312849162 random_state 72\n",
      "accuracy 0.7988826815642458 random_state 73\n",
      "accuracy 0.8268156424581006 random_state 74\n",
      "accuracy 0.7932960893854749 random_state 75\n",
      "accuracy 0.8044692737430168 random_state 76\n",
      "accuracy 0.7486033519553073 random_state 77\n",
      "accuracy 0.7597765363128491 random_state 78\n",
      "accuracy 0.7932960893854749 random_state 79\n",
      "accuracy 0.7653631284916201 random_state 80\n",
      "accuracy 0.6983240223463687 random_state 81\n",
      "accuracy 0.776536312849162 random_state 82\n",
      "accuracy 0.7597765363128491 random_state 83\n",
      "accuracy 0.7206703910614525 random_state 84\n",
      "accuracy 0.776536312849162 random_state 85\n",
      "accuracy 0.8100558659217877 random_state 86\n",
      "accuracy 0.770949720670391 random_state 87\n",
      "accuracy 0.7262569832402235 random_state 88\n",
      "accuracy 0.8268156424581006 random_state 89\n",
      "accuracy 0.776536312849162 random_state 90\n",
      "accuracy 0.7988826815642458 random_state 91\n",
      "accuracy 0.8268156424581006 random_state 92\n",
      "accuracy 0.770949720670391 random_state 93\n",
      "accuracy 0.7988826815642458 random_state 94\n",
      "accuracy 0.8100558659217877 random_state 95\n",
      "accuracy 0.7262569832402235 random_state 96\n",
      "accuracy 0.770949720670391 random_state 97\n",
      "accuracy 0.7653631284916201 random_state 98\n",
      "accuracy 0.7932960893854749 random_state 99\n",
      "accuracy 0.776536312849162 random_state 100\n",
      "accuracy 0.7541899441340782 random_state 101\n",
      "accuracy 0.8268156424581006 random_state 102\n",
      "accuracy 0.7206703910614525 random_state 103\n",
      "accuracy 0.7821229050279329 random_state 104\n",
      "accuracy 0.8044692737430168 random_state 105\n",
      "accuracy 0.7541899441340782 random_state 106\n",
      "accuracy 0.770949720670391 random_state 107\n",
      "accuracy 0.7877094972067039 random_state 108\n",
      "accuracy 0.7374301675977654 random_state 109\n",
      "accuracy 0.7932960893854749 random_state 110\n",
      "accuracy 0.7206703910614525 random_state 111\n",
      "accuracy 0.7932960893854749 random_state 112\n",
      "accuracy 0.7988826815642458 random_state 113\n",
      "accuracy 0.7374301675977654 random_state 114\n",
      "accuracy 0.8268156424581006 random_state 115\n",
      "accuracy 0.7653631284916201 random_state 116\n",
      "accuracy 0.7653631284916201 random_state 117\n",
      "accuracy 0.7932960893854749 random_state 118\n",
      "accuracy 0.776536312849162 random_state 119\n",
      "accuracy 0.7821229050279329 random_state 120\n",
      "accuracy 0.7374301675977654 random_state 121\n",
      "accuracy 0.7039106145251397 random_state 122\n",
      "accuracy 0.7877094972067039 random_state 123\n",
      "accuracy 0.7597765363128491 random_state 124\n",
      "accuracy 0.7206703910614525 random_state 125\n",
      "accuracy 0.8212290502793296 random_state 126\n",
      "accuracy 0.8212290502793296 random_state 127\n",
      "accuracy 0.7653631284916201 random_state 128\n",
      "accuracy 0.7932960893854749 random_state 129\n",
      "accuracy 0.770949720670391 random_state 130\n",
      "accuracy 0.770949720670391 random_state 131\n",
      "accuracy 0.7653631284916201 random_state 132\n",
      "accuracy 0.7541899441340782 random_state 133\n",
      "accuracy 0.7653631284916201 random_state 134\n",
      "accuracy 0.7932960893854749 random_state 135\n",
      "accuracy 0.8268156424581006 random_state 136\n",
      "accuracy 0.776536312849162 random_state 137\n",
      "accuracy 0.8100558659217877 random_state 138\n",
      "accuracy 0.7877094972067039 random_state 139\n",
      "accuracy 0.7821229050279329 random_state 140\n",
      "accuracy 0.7932960893854749 random_state 141\n",
      "accuracy 0.8044692737430168 random_state 142\n",
      "accuracy 0.776536312849162 random_state 143\n",
      "accuracy 0.7318435754189944 random_state 144\n",
      "accuracy 0.7932960893854749 random_state 145\n",
      "accuracy 0.7932960893854749 random_state 146\n",
      "accuracy 0.7821229050279329 random_state 147\n",
      "accuracy 0.7877094972067039 random_state 148\n",
      "accuracy 0.7877094972067039 random_state 149\n",
      "accuracy 0.8212290502793296 random_state 150\n",
      "accuracy 0.8044692737430168 random_state 151\n",
      "accuracy 0.7541899441340782 random_state 152\n",
      "accuracy 0.7877094972067039 random_state 153\n",
      "accuracy 0.8156424581005587 random_state 154\n",
      "accuracy 0.7486033519553073 random_state 155\n",
      "accuracy 0.8100558659217877 random_state 156\n",
      "accuracy 0.7374301675977654 random_state 157\n",
      "accuracy 0.7039106145251397 random_state 158\n",
      "accuracy 0.776536312849162 random_state 159\n",
      "accuracy 0.7932960893854749 random_state 160\n",
      "accuracy 0.7653631284916201 random_state 161\n",
      "accuracy 0.7486033519553073 random_state 162\n",
      "accuracy 0.7821229050279329 random_state 163\n",
      "accuracy 0.8044692737430168 random_state 164\n",
      "accuracy 0.7988826815642458 random_state 165\n",
      "accuracy 0.8156424581005587 random_state 166\n",
      "accuracy 0.8044692737430168 random_state 167\n",
      "accuracy 0.7877094972067039 random_state 168\n",
      "accuracy 0.770949720670391 random_state 169\n",
      "accuracy 0.770949720670391 random_state 170\n",
      "accuracy 0.7877094972067039 random_state 171\n",
      "accuracy 0.770949720670391 random_state 172\n",
      "accuracy 0.7597765363128491 random_state 173\n",
      "accuracy 0.8100558659217877 random_state 174\n",
      "accuracy 0.7653631284916201 random_state 175\n",
      "accuracy 0.7877094972067039 random_state 176\n",
      "accuracy 0.7262569832402235 random_state 177\n",
      "accuracy 0.7597765363128491 random_state 178\n",
      "accuracy 0.776536312849162 random_state 179\n",
      "accuracy 0.776536312849162 random_state 180\n",
      "accuracy 0.7597765363128491 random_state 181\n",
      "accuracy 0.7597765363128491 random_state 182\n",
      "accuracy 0.8324022346368715 random_state 183\n",
      "accuracy 0.7541899441340782 random_state 184\n",
      "accuracy 0.7597765363128491 random_state 185\n",
      "accuracy 0.7988826815642458 random_state 186\n",
      "accuracy 0.7430167597765364 random_state 187\n",
      "accuracy 0.8044692737430168 random_state 188\n",
      "accuracy 0.7821229050279329 random_state 189\n",
      "accuracy 0.8324022346368715 random_state 190\n",
      "accuracy 0.8268156424581006 random_state 191\n",
      "accuracy 0.7821229050279329 random_state 192\n",
      "accuracy 0.7486033519553073 random_state 193\n",
      "accuracy 0.7653631284916201 random_state 194\n",
      "accuracy 0.8044692737430168 random_state 195\n",
      "accuracy 0.7877094972067039 random_state 196\n",
      "accuracy 0.7430167597765364 random_state 197\n",
      "accuracy 0.7541899441340782 random_state 198\n",
      "accuracy 0.7932960893854749 random_state 199\n"
     ]
    }
   ],
   "source": [
    "maxAccu = 0\n",
    "maxRS = 0\n",
    "\n",
    "for i in range(1,200):\n",
    "    x_train, x_test, y_train, y_test = train_test_split(x,y,test_size = .20, random_state = i)\n",
    "    dtc = DecisionTreeClassifier()\n",
    "    dtc.fit(x_train,y_train)\n",
    "    pred = dtc.predict(x_test)\n",
    "    acc = accuracy_score(y_test, pred)\n",
    "    print('accuracy',acc,'random_state',i)\n",
    "    \n",
    "    if acc > maxAccu:\n",
    "        maxAccu = acc\n",
    "        maxRS = i"
   ]
  },
  {
   "cell_type": "code",
   "execution_count": 50,
   "id": "b29f34b0",
   "metadata": {},
   "outputs": [
    {
     "name": "stdout",
     "output_type": "stream",
     "text": [
      "Best accuracy is  0.8379888268156425 On Random_state  4\n"
     ]
    }
   ],
   "source": [
    "print(\"Best accuracy is \",maxAccu,\"On Random_state \",maxRS)"
   ]
  },
  {
   "cell_type": "code",
   "execution_count": 51,
   "id": "6b7b8c87",
   "metadata": {},
   "outputs": [
    {
     "name": "stdout",
     "output_type": "stream",
     "text": [
      "accuracy 0.7597765363128491 random_state 1\n",
      "accuracy 0.776536312849162 random_state 2\n",
      "accuracy 0.7262569832402235 random_state 3\n",
      "accuracy 0.8212290502793296 random_state 4\n",
      "accuracy 0.8156424581005587 random_state 5\n",
      "accuracy 0.8268156424581006 random_state 6\n",
      "accuracy 0.7653631284916201 random_state 7\n",
      "accuracy 0.7374301675977654 random_state 8\n",
      "accuracy 0.7486033519553073 random_state 9\n",
      "accuracy 0.7988826815642458 random_state 10\n",
      "accuracy 0.8491620111731844 random_state 11\n",
      "accuracy 0.7821229050279329 random_state 12\n",
      "accuracy 0.8156424581005587 random_state 13\n",
      "accuracy 0.7821229050279329 random_state 14\n",
      "accuracy 0.8212290502793296 random_state 15\n",
      "accuracy 0.7430167597765364 random_state 16\n",
      "accuracy 0.7821229050279329 random_state 17\n",
      "accuracy 0.8435754189944135 random_state 18\n",
      "accuracy 0.8324022346368715 random_state 19\n",
      "accuracy 0.8491620111731844 random_state 20\n",
      "accuracy 0.8100558659217877 random_state 21\n",
      "accuracy 0.7653631284916201 random_state 22\n",
      "accuracy 0.7988826815642458 random_state 23\n",
      "accuracy 0.7877094972067039 random_state 24\n",
      "accuracy 0.8212290502793296 random_state 25\n",
      "accuracy 0.776536312849162 random_state 26\n",
      "accuracy 0.7988826815642458 random_state 27\n",
      "accuracy 0.8044692737430168 random_state 28\n",
      "accuracy 0.7821229050279329 random_state 29\n",
      "accuracy 0.7486033519553073 random_state 30\n",
      "accuracy 0.7597765363128491 random_state 31\n",
      "accuracy 0.7653631284916201 random_state 32\n",
      "accuracy 0.7932960893854749 random_state 33\n",
      "accuracy 0.8100558659217877 random_state 34\n",
      "accuracy 0.7430167597765364 random_state 35\n",
      "accuracy 0.8212290502793296 random_state 36\n",
      "accuracy 0.776536312849162 random_state 37\n",
      "accuracy 0.7988826815642458 random_state 38\n",
      "accuracy 0.7988826815642458 random_state 39\n",
      "accuracy 0.8100558659217877 random_state 40\n",
      "accuracy 0.8379888268156425 random_state 41\n",
      "accuracy 0.776536312849162 random_state 42\n",
      "accuracy 0.7541899441340782 random_state 43\n",
      "accuracy 0.7486033519553073 random_state 44\n",
      "accuracy 0.8156424581005587 random_state 45\n",
      "accuracy 0.7877094972067039 random_state 46\n",
      "accuracy 0.7821229050279329 random_state 47\n",
      "accuracy 0.7653631284916201 random_state 48\n",
      "accuracy 0.8044692737430168 random_state 49\n",
      "accuracy 0.8100558659217877 random_state 50\n",
      "accuracy 0.776536312849162 random_state 51\n",
      "accuracy 0.7988826815642458 random_state 52\n",
      "accuracy 0.770949720670391 random_state 53\n",
      "accuracy 0.770949720670391 random_state 54\n",
      "accuracy 0.7597765363128491 random_state 55\n",
      "accuracy 0.8044692737430168 random_state 56\n",
      "accuracy 0.776536312849162 random_state 57\n",
      "accuracy 0.7653631284916201 random_state 58\n",
      "accuracy 0.7262569832402235 random_state 59\n",
      "accuracy 0.7541899441340782 random_state 60\n",
      "accuracy 0.7541899441340782 random_state 61\n",
      "accuracy 0.7932960893854749 random_state 62\n",
      "accuracy 0.8044692737430168 random_state 63\n",
      "accuracy 0.7932960893854749 random_state 64\n",
      "accuracy 0.7877094972067039 random_state 65\n",
      "accuracy 0.770949720670391 random_state 66\n",
      "accuracy 0.7486033519553073 random_state 67\n",
      "accuracy 0.8044692737430168 random_state 68\n",
      "accuracy 0.7988826815642458 random_state 69\n",
      "accuracy 0.8100558659217877 random_state 70\n",
      "accuracy 0.8435754189944135 random_state 71\n",
      "accuracy 0.8044692737430168 random_state 72\n",
      "accuracy 0.8044692737430168 random_state 73\n",
      "accuracy 0.8324022346368715 random_state 74\n",
      "accuracy 0.7821229050279329 random_state 75\n",
      "accuracy 0.8379888268156425 random_state 76\n",
      "accuracy 0.7821229050279329 random_state 77\n",
      "accuracy 0.8044692737430168 random_state 78\n",
      "accuracy 0.776536312849162 random_state 79\n",
      "accuracy 0.7541899441340782 random_state 80\n",
      "accuracy 0.770949720670391 random_state 81\n",
      "accuracy 0.7877094972067039 random_state 82\n",
      "accuracy 0.8156424581005587 random_state 83\n",
      "accuracy 0.7374301675977654 random_state 84\n",
      "accuracy 0.8044692737430168 random_state 85\n",
      "accuracy 0.776536312849162 random_state 86\n",
      "accuracy 0.7877094972067039 random_state 87\n",
      "accuracy 0.776536312849162 random_state 88\n",
      "accuracy 0.7988826815642458 random_state 89\n",
      "accuracy 0.7877094972067039 random_state 90\n",
      "accuracy 0.7597765363128491 random_state 91\n",
      "accuracy 0.776536312849162 random_state 92\n",
      "accuracy 0.7988826815642458 random_state 93\n",
      "accuracy 0.7988826815642458 random_state 94\n",
      "accuracy 0.7988826815642458 random_state 95\n",
      "accuracy 0.7932960893854749 random_state 96\n",
      "accuracy 0.7541899441340782 random_state 97\n",
      "accuracy 0.7597765363128491 random_state 98\n",
      "accuracy 0.7430167597765364 random_state 99\n",
      "accuracy 0.7988826815642458 random_state 100\n",
      "accuracy 0.7988826815642458 random_state 101\n",
      "accuracy 0.7988826815642458 random_state 102\n",
      "accuracy 0.7541899441340782 random_state 103\n",
      "accuracy 0.8156424581005587 random_state 104\n",
      "accuracy 0.7430167597765364 random_state 105\n",
      "accuracy 0.7932960893854749 random_state 106\n",
      "accuracy 0.7653631284916201 random_state 107\n",
      "accuracy 0.7877094972067039 random_state 108\n",
      "accuracy 0.8156424581005587 random_state 109\n",
      "accuracy 0.7877094972067039 random_state 110\n",
      "accuracy 0.776536312849162 random_state 111\n",
      "accuracy 0.7988826815642458 random_state 112\n",
      "accuracy 0.7597765363128491 random_state 113\n",
      "accuracy 0.7653631284916201 random_state 114\n",
      "accuracy 0.8044692737430168 random_state 115\n",
      "accuracy 0.7877094972067039 random_state 116\n",
      "accuracy 0.770949720670391 random_state 117\n",
      "accuracy 0.7486033519553073 random_state 118\n",
      "accuracy 0.7486033519553073 random_state 119\n",
      "accuracy 0.776536312849162 random_state 120\n",
      "accuracy 0.7541899441340782 random_state 121\n",
      "accuracy 0.7430167597765364 random_state 122\n",
      "accuracy 0.8212290502793296 random_state 123\n",
      "accuracy 0.7653631284916201 random_state 124\n",
      "accuracy 0.8324022346368715 random_state 125\n",
      "accuracy 0.8100558659217877 random_state 126\n",
      "accuracy 0.8100558659217877 random_state 127\n",
      "accuracy 0.7821229050279329 random_state 128\n",
      "accuracy 0.8268156424581006 random_state 129\n",
      "accuracy 0.8324022346368715 random_state 130\n",
      "accuracy 0.6871508379888268 random_state 131\n",
      "accuracy 0.8044692737430168 random_state 132\n",
      "accuracy 0.8379888268156425 random_state 133\n",
      "accuracy 0.7653631284916201 random_state 134\n",
      "accuracy 0.770949720670391 random_state 135\n",
      "accuracy 0.8044692737430168 random_state 136\n",
      "accuracy 0.8044692737430168 random_state 137\n",
      "accuracy 0.7988826815642458 random_state 138\n",
      "accuracy 0.8212290502793296 random_state 139\n",
      "accuracy 0.7597765363128491 random_state 140\n",
      "accuracy 0.770949720670391 random_state 141\n",
      "accuracy 0.8156424581005587 random_state 142\n",
      "accuracy 0.776536312849162 random_state 143\n",
      "accuracy 0.8212290502793296 random_state 144\n",
      "accuracy 0.8100558659217877 random_state 145\n",
      "accuracy 0.770949720670391 random_state 146\n",
      "accuracy 0.8100558659217877 random_state 147\n",
      "accuracy 0.776536312849162 random_state 148\n",
      "accuracy 0.7932960893854749 random_state 149\n",
      "accuracy 0.8379888268156425 random_state 150\n",
      "accuracy 0.7597765363128491 random_state 151\n",
      "accuracy 0.7430167597765364 random_state 152\n",
      "accuracy 0.7877094972067039 random_state 153\n",
      "accuracy 0.770949720670391 random_state 154\n",
      "accuracy 0.8100558659217877 random_state 155\n",
      "accuracy 0.8044692737430168 random_state 156\n",
      "accuracy 0.776536312849162 random_state 157\n",
      "accuracy 0.776536312849162 random_state 158\n",
      "accuracy 0.8212290502793296 random_state 159\n",
      "accuracy 0.8156424581005587 random_state 160\n",
      "accuracy 0.7486033519553073 random_state 161\n",
      "accuracy 0.7374301675977654 random_state 162\n",
      "accuracy 0.7988826815642458 random_state 163\n",
      "accuracy 0.7932960893854749 random_state 164\n",
      "accuracy 0.7988826815642458 random_state 165\n",
      "accuracy 0.7597765363128491 random_state 166\n",
      "accuracy 0.7821229050279329 random_state 167\n",
      "accuracy 0.770949720670391 random_state 168\n",
      "accuracy 0.8100558659217877 random_state 169\n",
      "accuracy 0.7541899441340782 random_state 170\n",
      "accuracy 0.7821229050279329 random_state 171\n",
      "accuracy 0.7988826815642458 random_state 172\n",
      "accuracy 0.8156424581005587 random_state 173\n",
      "accuracy 0.7821229050279329 random_state 174\n",
      "accuracy 0.776536312849162 random_state 175\n",
      "accuracy 0.7541899441340782 random_state 176\n",
      "accuracy 0.7877094972067039 random_state 177\n",
      "accuracy 0.7988826815642458 random_state 178\n",
      "accuracy 0.7541899441340782 random_state 179\n",
      "accuracy 0.8212290502793296 random_state 180\n",
      "accuracy 0.776536312849162 random_state 181\n",
      "accuracy 0.8044692737430168 random_state 182\n",
      "accuracy 0.7988826815642458 random_state 183\n",
      "accuracy 0.7877094972067039 random_state 184\n",
      "accuracy 0.7597765363128491 random_state 185\n",
      "accuracy 0.7821229050279329 random_state 186\n",
      "accuracy 0.7821229050279329 random_state 187\n",
      "accuracy 0.7430167597765364 random_state 188\n",
      "accuracy 0.7932960893854749 random_state 189\n",
      "accuracy 0.7877094972067039 random_state 190\n",
      "accuracy 0.7877094972067039 random_state 191\n",
      "accuracy 0.7821229050279329 random_state 192\n",
      "accuracy 0.8156424581005587 random_state 193\n",
      "accuracy 0.7932960893854749 random_state 194\n",
      "accuracy 0.8044692737430168 random_state 195\n",
      "accuracy 0.8547486033519553 random_state 196\n",
      "accuracy 0.7988826815642458 random_state 197\n"
     ]
    },
    {
     "name": "stdout",
     "output_type": "stream",
     "text": [
      "accuracy 0.7430167597765364 random_state 198\n",
      "accuracy 0.7486033519553073 random_state 199\n"
     ]
    }
   ],
   "source": [
    "maxAccu = 0\n",
    "maxRS = 0\n",
    "\n",
    "for i in range(1,200):\n",
    "    x_train, x_test, y_train, y_test = train_test_split(x,y,test_size = .20, random_state = i)\n",
    "    gnb = GaussianNB()\n",
    "    gnb.fit(x_train,y_train)\n",
    "    pred = gnb.predict(x_test)\n",
    "    acc = accuracy_score(y_test, pred)\n",
    "    print('accuracy',acc,'random_state',i)\n",
    "    \n",
    "    if acc > maxAccu:\n",
    "        maxAccu = acc\n",
    "        maxRS = i"
   ]
  },
  {
   "cell_type": "code",
   "execution_count": 52,
   "id": "f3dbacfb",
   "metadata": {},
   "outputs": [
    {
     "name": "stdout",
     "output_type": "stream",
     "text": [
      "Best accuracy is  0.8547486033519553 On Random_state  196\n"
     ]
    }
   ],
   "source": [
    "print(\"Best accuracy is \",maxAccu,\"On Random_state \",maxRS)"
   ]
  },
  {
   "cell_type": "code",
   "execution_count": 53,
   "id": "7d410b2c",
   "metadata": {},
   "outputs": [
    {
     "name": "stdout",
     "output_type": "stream",
     "text": [
      "accuracy 0.6424581005586593 random_state 1\n",
      "accuracy 0.659217877094972 random_state 2\n",
      "accuracy 0.6368715083798883 random_state 3\n",
      "accuracy 0.6983240223463687 random_state 4\n",
      "accuracy 0.6871508379888268 random_state 5\n",
      "accuracy 0.7206703910614525 random_state 6\n",
      "accuracy 0.6983240223463687 random_state 7\n",
      "accuracy 0.6815642458100558 random_state 8\n",
      "accuracy 0.6368715083798883 random_state 9\n",
      "accuracy 0.7653631284916201 random_state 10\n",
      "accuracy 0.7486033519553073 random_state 11\n",
      "accuracy 0.6536312849162011 random_state 12\n",
      "accuracy 0.7430167597765364 random_state 13\n",
      "accuracy 0.6815642458100558 random_state 14\n",
      "accuracy 0.6703910614525139 random_state 15\n",
      "accuracy 0.6815642458100558 random_state 16\n",
      "accuracy 0.7150837988826816 random_state 17\n",
      "accuracy 0.7541899441340782 random_state 18\n",
      "accuracy 0.6871508379888268 random_state 19\n",
      "accuracy 0.6703910614525139 random_state 20\n",
      "accuracy 0.6536312849162011 random_state 21\n",
      "accuracy 0.6983240223463687 random_state 22\n",
      "accuracy 0.7206703910614525 random_state 23\n",
      "accuracy 0.7597765363128491 random_state 24\n",
      "accuracy 0.7039106145251397 random_state 25\n",
      "accuracy 0.664804469273743 random_state 26\n",
      "accuracy 0.6927374301675978 random_state 27\n",
      "accuracy 0.7318435754189944 random_state 28\n",
      "accuracy 0.6480446927374302 random_state 29\n",
      "accuracy 0.6759776536312849 random_state 30\n",
      "accuracy 0.6536312849162011 random_state 31\n",
      "accuracy 0.6927374301675978 random_state 32\n",
      "accuracy 0.6424581005586593 random_state 33\n",
      "accuracy 0.7374301675977654 random_state 34\n",
      "accuracy 0.6815642458100558 random_state 35\n",
      "accuracy 0.6368715083798883 random_state 36\n",
      "accuracy 0.6424581005586593 random_state 37\n",
      "accuracy 0.6424581005586593 random_state 38\n",
      "accuracy 0.7206703910614525 random_state 39\n",
      "accuracy 0.6983240223463687 random_state 40\n",
      "accuracy 0.6759776536312849 random_state 41\n",
      "accuracy 0.7262569832402235 random_state 42\n",
      "accuracy 0.6927374301675978 random_state 43\n",
      "accuracy 0.659217877094972 random_state 44\n",
      "accuracy 0.6983240223463687 random_state 45\n",
      "accuracy 0.6871508379888268 random_state 46\n",
      "accuracy 0.6871508379888268 random_state 47\n",
      "accuracy 0.7094972067039106 random_state 48\n",
      "accuracy 0.7150837988826816 random_state 49\n",
      "accuracy 0.664804469273743 random_state 50\n",
      "accuracy 0.6703910614525139 random_state 51\n",
      "accuracy 0.6815642458100558 random_state 52\n",
      "accuracy 0.664804469273743 random_state 53\n",
      "accuracy 0.6759776536312849 random_state 54\n",
      "accuracy 0.6089385474860335 random_state 55\n",
      "accuracy 0.7039106145251397 random_state 56\n",
      "accuracy 0.7150837988826816 random_state 57\n",
      "accuracy 0.7486033519553073 random_state 58\n",
      "accuracy 0.6368715083798883 random_state 59\n",
      "accuracy 0.6815642458100558 random_state 60\n",
      "accuracy 0.659217877094972 random_state 61\n",
      "accuracy 0.6759776536312849 random_state 62\n",
      "accuracy 0.6480446927374302 random_state 63\n",
      "accuracy 0.6927374301675978 random_state 64\n",
      "accuracy 0.7318435754189944 random_state 65\n",
      "accuracy 0.7206703910614525 random_state 66\n",
      "accuracy 0.6983240223463687 random_state 67\n",
      "accuracy 0.6424581005586593 random_state 68\n",
      "accuracy 0.7318435754189944 random_state 69\n",
      "accuracy 0.6759776536312849 random_state 70\n",
      "accuracy 0.7486033519553073 random_state 71\n",
      "accuracy 0.7039106145251397 random_state 72\n",
      "accuracy 0.7541899441340782 random_state 73\n",
      "accuracy 0.7150837988826816 random_state 74\n",
      "accuracy 0.6983240223463687 random_state 75\n",
      "accuracy 0.6703910614525139 random_state 76\n",
      "accuracy 0.6703910614525139 random_state 77\n",
      "accuracy 0.6424581005586593 random_state 78\n",
      "accuracy 0.6759776536312849 random_state 79\n",
      "accuracy 0.659217877094972 random_state 80\n",
      "accuracy 0.6424581005586593 random_state 81\n",
      "accuracy 0.7318435754189944 random_state 82\n",
      "accuracy 0.6927374301675978 random_state 83\n",
      "accuracy 0.664804469273743 random_state 84\n",
      "accuracy 0.7541899441340782 random_state 85\n",
      "accuracy 0.6983240223463687 random_state 86\n",
      "accuracy 0.7094972067039106 random_state 87\n",
      "accuracy 0.6815642458100558 random_state 88\n",
      "accuracy 0.6871508379888268 random_state 89\n",
      "accuracy 0.6703910614525139 random_state 90\n",
      "accuracy 0.7206703910614525 random_state 91\n",
      "accuracy 0.6424581005586593 random_state 92\n",
      "accuracy 0.7597765363128491 random_state 93\n",
      "accuracy 0.7039106145251397 random_state 94\n",
      "accuracy 0.6983240223463687 random_state 95\n",
      "accuracy 0.7374301675977654 random_state 96\n",
      "accuracy 0.664804469273743 random_state 97\n",
      "accuracy 0.6256983240223464 random_state 98\n",
      "accuracy 0.7094972067039106 random_state 99\n",
      "accuracy 0.6703910614525139 random_state 100\n",
      "accuracy 0.6815642458100558 random_state 101\n",
      "accuracy 0.659217877094972 random_state 102\n",
      "accuracy 0.6536312849162011 random_state 103\n",
      "accuracy 0.6815642458100558 random_state 104\n",
      "accuracy 0.6703910614525139 random_state 105\n",
      "accuracy 0.6871508379888268 random_state 106\n",
      "accuracy 0.6424581005586593 random_state 107\n",
      "accuracy 0.659217877094972 random_state 108\n",
      "accuracy 0.7486033519553073 random_state 109\n",
      "accuracy 0.6703910614525139 random_state 110\n",
      "accuracy 0.6703910614525139 random_state 111\n",
      "accuracy 0.6536312849162011 random_state 112\n",
      "accuracy 0.6256983240223464 random_state 113\n",
      "accuracy 0.6480446927374302 random_state 114\n",
      "accuracy 0.7039106145251397 random_state 115\n",
      "accuracy 0.7374301675977654 random_state 116\n",
      "accuracy 0.6312849162011173 random_state 117\n",
      "accuracy 0.6480446927374302 random_state 118\n",
      "accuracy 0.659217877094972 random_state 119\n",
      "accuracy 0.7430167597765364 random_state 120\n",
      "accuracy 0.6536312849162011 random_state 121\n",
      "accuracy 0.6368715083798883 random_state 122\n",
      "accuracy 0.7150837988826816 random_state 123\n",
      "accuracy 0.664804469273743 random_state 124\n",
      "accuracy 0.664804469273743 random_state 125\n",
      "accuracy 0.6536312849162011 random_state 126\n",
      "accuracy 0.7318435754189944 random_state 127\n",
      "accuracy 0.7039106145251397 random_state 128\n",
      "accuracy 0.6480446927374302 random_state 129\n",
      "accuracy 0.7094972067039106 random_state 130\n",
      "accuracy 0.664804469273743 random_state 131\n",
      "accuracy 0.7039106145251397 random_state 132\n",
      "accuracy 0.7262569832402235 random_state 133\n",
      "accuracy 0.7430167597765364 random_state 134\n",
      "accuracy 0.6983240223463687 random_state 135\n",
      "accuracy 0.6759776536312849 random_state 136\n",
      "accuracy 0.664804469273743 random_state 137\n",
      "accuracy 0.6871508379888268 random_state 138\n",
      "accuracy 0.6815642458100558 random_state 139\n",
      "accuracy 0.6368715083798883 random_state 140\n",
      "accuracy 0.6927374301675978 random_state 141\n",
      "accuracy 0.7206703910614525 random_state 142\n",
      "accuracy 0.7094972067039106 random_state 143\n",
      "accuracy 0.7150837988826816 random_state 144\n",
      "accuracy 0.6927374301675978 random_state 145\n",
      "accuracy 0.7039106145251397 random_state 146\n",
      "accuracy 0.7206703910614525 random_state 147\n",
      "accuracy 0.6871508379888268 random_state 148\n",
      "accuracy 0.7094972067039106 random_state 149\n",
      "accuracy 0.7262569832402235 random_state 150\n",
      "accuracy 0.6927374301675978 random_state 151\n",
      "accuracy 0.6368715083798883 random_state 152\n",
      "accuracy 0.7094972067039106 random_state 153\n",
      "accuracy 0.6927374301675978 random_state 154\n",
      "accuracy 0.7262569832402235 random_state 155\n",
      "accuracy 0.6815642458100558 random_state 156\n",
      "accuracy 0.6815642458100558 random_state 157\n",
      "accuracy 0.659217877094972 random_state 158\n",
      "accuracy 0.7094972067039106 random_state 159\n",
      "accuracy 0.7039106145251397 random_state 160\n",
      "accuracy 0.6480446927374302 random_state 161\n",
      "accuracy 0.659217877094972 random_state 162\n",
      "accuracy 0.6871508379888268 random_state 163\n",
      "accuracy 0.6927374301675978 random_state 164\n",
      "accuracy 0.6815642458100558 random_state 165\n",
      "accuracy 0.664804469273743 random_state 166\n",
      "accuracy 0.7318435754189944 random_state 167\n",
      "accuracy 0.6871508379888268 random_state 168\n",
      "accuracy 0.7262569832402235 random_state 169\n",
      "accuracy 0.7094972067039106 random_state 170\n",
      "accuracy 0.7374301675977654 random_state 171\n",
      "accuracy 0.7653631284916201 random_state 172\n",
      "accuracy 0.6536312849162011 random_state 173\n",
      "accuracy 0.6815642458100558 random_state 174\n",
      "accuracy 0.6312849162011173 random_state 175\n",
      "accuracy 0.6759776536312849 random_state 176\n",
      "accuracy 0.7150837988826816 random_state 177\n",
      "accuracy 0.7262569832402235 random_state 178\n",
      "accuracy 0.7206703910614525 random_state 179\n",
      "accuracy 0.7430167597765364 random_state 180\n",
      "accuracy 0.6536312849162011 random_state 181\n",
      "accuracy 0.6815642458100558 random_state 182\n",
      "accuracy 0.7430167597765364 random_state 183\n",
      "accuracy 0.6480446927374302 random_state 184\n",
      "accuracy 0.7094972067039106 random_state 185\n",
      "accuracy 0.659217877094972 random_state 186\n",
      "accuracy 0.7262569832402235 random_state 187\n",
      "accuracy 0.6815642458100558 random_state 188\n",
      "accuracy 0.7150837988826816 random_state 189\n",
      "accuracy 0.7318435754189944 random_state 190\n",
      "accuracy 0.6927374301675978 random_state 191\n",
      "accuracy 0.6983240223463687 random_state 192\n",
      "accuracy 0.6927374301675978 random_state 193\n"
     ]
    },
    {
     "name": "stdout",
     "output_type": "stream",
     "text": [
      "accuracy 0.7318435754189944 random_state 194\n",
      "accuracy 0.7150837988826816 random_state 195\n",
      "accuracy 0.7206703910614525 random_state 196\n",
      "accuracy 0.7094972067039106 random_state 197\n",
      "accuracy 0.6759776536312849 random_state 198\n",
      "accuracy 0.659217877094972 random_state 199\n"
     ]
    }
   ],
   "source": [
    "maxAccu = 0\n",
    "maxRS = 0\n",
    "\n",
    "for i in range(1,200):\n",
    "    x_train, x_test, y_train, y_test = train_test_split(x,y,test_size = .20, random_state = i)\n",
    "    mnb = MultinomialNB()\n",
    "    mnb.fit(x_train,y_train)\n",
    "    pred = mnb.predict(x_test)\n",
    "    acc = accuracy_score(y_test, pred)\n",
    "    print('accuracy',acc,'random_state',i)\n",
    "    \n",
    "    if acc > maxAccu:\n",
    "        maxAccu = acc\n",
    "        maxRS = i"
   ]
  },
  {
   "cell_type": "code",
   "execution_count": 54,
   "id": "c9fb1144",
   "metadata": {},
   "outputs": [
    {
     "name": "stdout",
     "output_type": "stream",
     "text": [
      "Best accuracy is  0.7653631284916201 On Random_state  10\n"
     ]
    }
   ],
   "source": [
    "print(\"Best accuracy is \",maxAccu,\"On Random_state \",maxRS)"
   ]
  },
  {
   "cell_type": "code",
   "execution_count": 55,
   "id": "58464d23",
   "metadata": {},
   "outputs": [
    {
     "name": "stdout",
     "output_type": "stream",
     "text": [
      "accuracy 0.6703910614525139 random_state 1\n",
      "accuracy 0.6815642458100558 random_state 2\n",
      "accuracy 0.6815642458100558 random_state 3\n",
      "accuracy 0.7541899441340782 random_state 4\n",
      "accuracy 0.7150837988826816 random_state 5\n",
      "accuracy 0.7430167597765364 random_state 6\n",
      "accuracy 0.7150837988826816 random_state 7\n",
      "accuracy 0.7094972067039106 random_state 8\n",
      "accuracy 0.6759776536312849 random_state 9\n",
      "accuracy 0.6983240223463687 random_state 10\n",
      "accuracy 0.6983240223463687 random_state 11\n",
      "accuracy 0.6536312849162011 random_state 12\n",
      "accuracy 0.7206703910614525 random_state 13\n",
      "accuracy 0.6927374301675978 random_state 14\n",
      "accuracy 0.6871508379888268 random_state 15\n",
      "accuracy 0.7094972067039106 random_state 16\n",
      "accuracy 0.6759776536312849 random_state 17\n",
      "accuracy 0.7039106145251397 random_state 18\n",
      "accuracy 0.7094972067039106 random_state 19\n",
      "accuracy 0.7262569832402235 random_state 20\n",
      "accuracy 0.7039106145251397 random_state 21\n",
      "accuracy 0.6871508379888268 random_state 22\n",
      "accuracy 0.7430167597765364 random_state 23\n",
      "accuracy 0.7374301675977654 random_state 24\n",
      "accuracy 0.7318435754189944 random_state 25\n",
      "accuracy 0.6871508379888268 random_state 26\n",
      "accuracy 0.7150837988826816 random_state 27\n",
      "accuracy 0.7430167597765364 random_state 28\n",
      "accuracy 0.659217877094972 random_state 29\n",
      "accuracy 0.6927374301675978 random_state 30\n",
      "accuracy 0.6759776536312849 random_state 31\n",
      "accuracy 0.6983240223463687 random_state 32\n",
      "accuracy 0.6815642458100558 random_state 33\n",
      "accuracy 0.7821229050279329 random_state 34\n",
      "accuracy 0.7039106145251397 random_state 35\n",
      "accuracy 0.7206703910614525 random_state 36\n",
      "accuracy 0.6815642458100558 random_state 37\n",
      "accuracy 0.6983240223463687 random_state 38\n",
      "accuracy 0.7039106145251397 random_state 39\n",
      "accuracy 0.7206703910614525 random_state 40\n",
      "accuracy 0.6927374301675978 random_state 41\n",
      "accuracy 0.7262569832402235 random_state 42\n",
      "accuracy 0.7262569832402235 random_state 43\n",
      "accuracy 0.659217877094972 random_state 44\n",
      "accuracy 0.7150837988826816 random_state 45\n",
      "accuracy 0.7094972067039106 random_state 46\n",
      "accuracy 0.6759776536312849 random_state 47\n",
      "accuracy 0.7039106145251397 random_state 48\n",
      "accuracy 0.7374301675977654 random_state 49\n",
      "accuracy 0.6983240223463687 random_state 50\n",
      "accuracy 0.659217877094972 random_state 51\n",
      "accuracy 0.7094972067039106 random_state 52\n",
      "accuracy 0.6871508379888268 random_state 53\n",
      "accuracy 0.6871508379888268 random_state 54\n",
      "accuracy 0.6927374301675978 random_state 55\n",
      "accuracy 0.7206703910614525 random_state 56\n",
      "accuracy 0.6983240223463687 random_state 57\n",
      "accuracy 0.7541899441340782 random_state 58\n",
      "accuracy 0.7039106145251397 random_state 59\n",
      "accuracy 0.7374301675977654 random_state 60\n",
      "accuracy 0.6871508379888268 random_state 61\n",
      "accuracy 0.6424581005586593 random_state 62\n",
      "accuracy 0.7094972067039106 random_state 63\n",
      "accuracy 0.7094972067039106 random_state 64\n",
      "accuracy 0.7150837988826816 random_state 65\n",
      "accuracy 0.6927374301675978 random_state 66\n",
      "accuracy 0.6871508379888268 random_state 67\n",
      "accuracy 0.6703910614525139 random_state 68\n",
      "accuracy 0.7039106145251397 random_state 69\n",
      "accuracy 0.6983240223463687 random_state 70\n",
      "accuracy 0.7318435754189944 random_state 71\n",
      "accuracy 0.664804469273743 random_state 72\n",
      "accuracy 0.7374301675977654 random_state 73\n",
      "accuracy 0.7150837988826816 random_state 74\n",
      "accuracy 0.7318435754189944 random_state 75\n",
      "accuracy 0.7206703910614525 random_state 76\n",
      "accuracy 0.6927374301675978 random_state 77\n",
      "accuracy 0.659217877094972 random_state 78\n",
      "accuracy 0.6871508379888268 random_state 79\n",
      "accuracy 0.659217877094972 random_state 80\n",
      "accuracy 0.6983240223463687 random_state 81\n",
      "accuracy 0.7653631284916201 random_state 82\n",
      "accuracy 0.7206703910614525 random_state 83\n",
      "accuracy 0.6983240223463687 random_state 84\n",
      "accuracy 0.6983240223463687 random_state 85\n",
      "accuracy 0.6983240223463687 random_state 86\n",
      "accuracy 0.7039106145251397 random_state 87\n",
      "accuracy 0.6256983240223464 random_state 88\n",
      "accuracy 0.6927374301675978 random_state 89\n",
      "accuracy 0.7206703910614525 random_state 90\n",
      "accuracy 0.7206703910614525 random_state 91\n",
      "accuracy 0.7039106145251397 random_state 92\n",
      "accuracy 0.6703910614525139 random_state 93\n",
      "accuracy 0.7374301675977654 random_state 94\n",
      "accuracy 0.7206703910614525 random_state 95\n",
      "accuracy 0.7541899441340782 random_state 96\n",
      "accuracy 0.664804469273743 random_state 97\n",
      "accuracy 0.6815642458100558 random_state 98\n",
      "accuracy 0.7150837988826816 random_state 99\n",
      "accuracy 0.6871508379888268 random_state 100\n",
      "accuracy 0.7039106145251397 random_state 101\n",
      "accuracy 0.6424581005586593 random_state 102\n",
      "accuracy 0.6759776536312849 random_state 103\n",
      "accuracy 0.664804469273743 random_state 104\n",
      "accuracy 0.6871508379888268 random_state 105\n",
      "accuracy 0.6815642458100558 random_state 106\n",
      "accuracy 0.7094972067039106 random_state 107\n",
      "accuracy 0.6983240223463687 random_state 108\n",
      "accuracy 0.7094972067039106 random_state 109\n",
      "accuracy 0.7262569832402235 random_state 110\n",
      "accuracy 0.6815642458100558 random_state 111\n",
      "accuracy 0.7094972067039106 random_state 112\n",
      "accuracy 0.6759776536312849 random_state 113\n",
      "accuracy 0.6424581005586593 random_state 114\n",
      "accuracy 0.6536312849162011 random_state 115\n",
      "accuracy 0.6871508379888268 random_state 116\n",
      "accuracy 0.6703910614525139 random_state 117\n",
      "accuracy 0.6312849162011173 random_state 118\n",
      "accuracy 0.6536312849162011 random_state 119\n",
      "accuracy 0.6927374301675978 random_state 120\n",
      "accuracy 0.6871508379888268 random_state 121\n",
      "accuracy 0.7262569832402235 random_state 122\n",
      "accuracy 0.6871508379888268 random_state 123\n",
      "accuracy 0.7206703910614525 random_state 124\n",
      "accuracy 0.6871508379888268 random_state 125\n",
      "accuracy 0.7597765363128491 random_state 126\n",
      "accuracy 0.7094972067039106 random_state 127\n",
      "accuracy 0.7206703910614525 random_state 128\n",
      "accuracy 0.6759776536312849 random_state 129\n",
      "accuracy 0.7374301675977654 random_state 130\n",
      "accuracy 0.7318435754189944 random_state 131\n",
      "accuracy 0.7541899441340782 random_state 132\n",
      "accuracy 0.7374301675977654 random_state 133\n",
      "accuracy 0.7262569832402235 random_state 134\n",
      "accuracy 0.7541899441340782 random_state 135\n",
      "accuracy 0.6927374301675978 random_state 136\n",
      "accuracy 0.7039106145251397 random_state 137\n",
      "accuracy 0.6815642458100558 random_state 138\n",
      "accuracy 0.6927374301675978 random_state 139\n",
      "accuracy 0.6815642458100558 random_state 140\n",
      "accuracy 0.7206703910614525 random_state 141\n",
      "accuracy 0.6983240223463687 random_state 142\n",
      "accuracy 0.7374301675977654 random_state 143\n",
      "accuracy 0.7262569832402235 random_state 144\n",
      "accuracy 0.770949720670391 random_state 145\n",
      "accuracy 0.7150837988826816 random_state 146\n",
      "accuracy 0.6983240223463687 random_state 147\n",
      "accuracy 0.6703910614525139 random_state 148\n",
      "accuracy 0.664804469273743 random_state 149\n",
      "accuracy 0.770949720670391 random_state 150\n",
      "accuracy 0.7541899441340782 random_state 151\n",
      "accuracy 0.6871508379888268 random_state 152\n",
      "accuracy 0.7150837988826816 random_state 153\n",
      "accuracy 0.7430167597765364 random_state 154\n",
      "accuracy 0.7206703910614525 random_state 155\n",
      "accuracy 0.6815642458100558 random_state 156\n",
      "accuracy 0.6871508379888268 random_state 157\n",
      "accuracy 0.6480446927374302 random_state 158\n",
      "accuracy 0.7430167597765364 random_state 159\n",
      "accuracy 0.7374301675977654 random_state 160\n",
      "accuracy 0.659217877094972 random_state 161\n",
      "accuracy 0.6983240223463687 random_state 162\n",
      "accuracy 0.7374301675977654 random_state 163\n",
      "accuracy 0.7039106145251397 random_state 164\n",
      "accuracy 0.7262569832402235 random_state 165\n",
      "accuracy 0.7039106145251397 random_state 166\n",
      "accuracy 0.6815642458100558 random_state 167\n",
      "accuracy 0.7486033519553073 random_state 168\n",
      "accuracy 0.7206703910614525 random_state 169\n",
      "accuracy 0.7039106145251397 random_state 170\n",
      "accuracy 0.7094972067039106 random_state 171\n",
      "accuracy 0.7094972067039106 random_state 172\n",
      "accuracy 0.6480446927374302 random_state 173\n",
      "accuracy 0.6871508379888268 random_state 174\n",
      "accuracy 0.659217877094972 random_state 175\n",
      "accuracy 0.659217877094972 random_state 176\n",
      "accuracy 0.6983240223463687 random_state 177\n",
      "accuracy 0.7150837988826816 random_state 178\n",
      "accuracy 0.6759776536312849 random_state 179\n",
      "accuracy 0.7150837988826816 random_state 180\n",
      "accuracy 0.7039106145251397 random_state 181\n",
      "accuracy 0.7206703910614525 random_state 182\n",
      "accuracy 0.7206703910614525 random_state 183\n",
      "accuracy 0.664804469273743 random_state 184\n",
      "accuracy 0.7039106145251397 random_state 185\n",
      "accuracy 0.659217877094972 random_state 186\n",
      "accuracy 0.6815642458100558 random_state 187\n",
      "accuracy 0.659217877094972 random_state 188\n",
      "accuracy 0.7318435754189944 random_state 189\n",
      "accuracy 0.7206703910614525 random_state 190\n",
      "accuracy 0.7486033519553073 random_state 191\n",
      "accuracy 0.6983240223463687 random_state 192\n",
      "accuracy 0.7094972067039106 random_state 193\n",
      "accuracy 0.7206703910614525 random_state 194\n"
     ]
    },
    {
     "name": "stdout",
     "output_type": "stream",
     "text": [
      "accuracy 0.6927374301675978 random_state 195\n",
      "accuracy 0.7094972067039106 random_state 196\n",
      "accuracy 0.7206703910614525 random_state 197\n",
      "accuracy 0.6759776536312849 random_state 198\n",
      "accuracy 0.6480446927374302 random_state 199\n"
     ]
    }
   ],
   "source": [
    "maxAccu = 0\n",
    "maxRS = 0\n",
    "\n",
    "for i in range(1,200):\n",
    "    x_train, x_test, y_train, y_test = train_test_split(x,y,test_size = .20, random_state = i)\n",
    "    knn = KNeighborsClassifier()\n",
    "    knn.fit(x_train,y_train)\n",
    "    pred = knn.predict(x_test)\n",
    "    acc = accuracy_score(y_test, pred)\n",
    "    print('accuracy',acc,'random_state',i)\n",
    "    \n",
    "    if acc > maxAccu:\n",
    "        maxAccu = acc\n",
    "        maxRS = i"
   ]
  },
  {
   "cell_type": "code",
   "execution_count": 56,
   "id": "94cb31aa",
   "metadata": {},
   "outputs": [
    {
     "name": "stdout",
     "output_type": "stream",
     "text": [
      "Best accuracy is  0.7821229050279329 On Random_state  34\n"
     ]
    }
   ],
   "source": [
    "print(\"Best accuracy is \",maxAccu,\"On Random_state \",maxRS)"
   ]
  },
  {
   "cell_type": "code",
   "execution_count": 57,
   "id": "60478de9",
   "metadata": {},
   "outputs": [],
   "source": [
    "maxAccu = 0\n",
    "maxRS = 0\n",
    "\n",
    "for i in range(1,200):\n",
    "    x_train, x_test, y_train, y_test = train_test_split(x,y,test_size = .20, random_state = i)\n",
    "    def svmkernel(ker):\n",
    "        svc = SVC(kernel=ker)\n",
    "        svc.fit(x_train,y_train)\n",
    "        pred = svc.predict(x_test)\n",
    "        acc = accuracy_score(y_test, pred)\n",
    "        print('accuracy',acc,'random_state',i)\n",
    "    \n",
    "    if acc > maxAccu:\n",
    "        maxAccu = acc\n",
    "        maxRS = i"
   ]
  },
  {
   "cell_type": "code",
   "execution_count": 58,
   "id": "69356bb8",
   "metadata": {},
   "outputs": [
    {
     "name": "stdout",
     "output_type": "stream",
     "text": [
      "accuracy 0.659217877094972 random_state 199\n"
     ]
    }
   ],
   "source": [
    "svmkernel('rbf')"
   ]
  },
  {
   "cell_type": "code",
   "execution_count": 59,
   "id": "86708b3c",
   "metadata": {},
   "outputs": [
    {
     "name": "stdout",
     "output_type": "stream",
     "text": [
      "accuracy 0.6312849162011173 random_state 199\n"
     ]
    }
   ],
   "source": [
    "svmkernel('poly')"
   ]
  },
  {
   "cell_type": "markdown",
   "id": "abcdfbe9",
   "metadata": {},
   "source": [
    "# Creating train-test split"
   ]
  },
  {
   "cell_type": "code",
   "execution_count": 60,
   "id": "b2e71a26",
   "metadata": {},
   "outputs": [],
   "source": [
    "x_train, x_test, y_train, y_test = train_test_split(x,y,test_size=.20,random_state = 11)"
   ]
  },
  {
   "cell_type": "code",
   "execution_count": 61,
   "id": "a63f9247",
   "metadata": {},
   "outputs": [
    {
     "data": {
      "text/html": [
       "<div>\n",
       "<style scoped>\n",
       "    .dataframe tbody tr th:only-of-type {\n",
       "        vertical-align: middle;\n",
       "    }\n",
       "\n",
       "    .dataframe tbody tr th {\n",
       "        vertical-align: top;\n",
       "    }\n",
       "\n",
       "    .dataframe thead th {\n",
       "        text-align: right;\n",
       "    }\n",
       "</style>\n",
       "<table border=\"1\" class=\"dataframe\">\n",
       "  <thead>\n",
       "    <tr style=\"text-align: right;\">\n",
       "      <th></th>\n",
       "      <th>Pclass</th>\n",
       "      <th>Sex</th>\n",
       "      <th>Age</th>\n",
       "      <th>SibSp</th>\n",
       "      <th>Parch</th>\n",
       "      <th>Fare</th>\n",
       "      <th>Embarked</th>\n",
       "    </tr>\n",
       "  </thead>\n",
       "  <tbody>\n",
       "    <tr>\n",
       "      <th>333</th>\n",
       "      <td>3</td>\n",
       "      <td>1</td>\n",
       "      <td>16.0</td>\n",
       "      <td>2</td>\n",
       "      <td>0</td>\n",
       "      <td>18.0000</td>\n",
       "      <td>2</td>\n",
       "    </tr>\n",
       "    <tr>\n",
       "      <th>662</th>\n",
       "      <td>1</td>\n",
       "      <td>1</td>\n",
       "      <td>47.0</td>\n",
       "      <td>0</td>\n",
       "      <td>0</td>\n",
       "      <td>25.5875</td>\n",
       "      <td>2</td>\n",
       "    </tr>\n",
       "    <tr>\n",
       "      <th>382</th>\n",
       "      <td>3</td>\n",
       "      <td>1</td>\n",
       "      <td>32.0</td>\n",
       "      <td>0</td>\n",
       "      <td>0</td>\n",
       "      <td>7.9250</td>\n",
       "      <td>2</td>\n",
       "    </tr>\n",
       "    <tr>\n",
       "      <th>331</th>\n",
       "      <td>1</td>\n",
       "      <td>1</td>\n",
       "      <td>45.5</td>\n",
       "      <td>0</td>\n",
       "      <td>0</td>\n",
       "      <td>28.5000</td>\n",
       "      <td>2</td>\n",
       "    </tr>\n",
       "    <tr>\n",
       "      <th>149</th>\n",
       "      <td>2</td>\n",
       "      <td>1</td>\n",
       "      <td>42.0</td>\n",
       "      <td>0</td>\n",
       "      <td>0</td>\n",
       "      <td>13.0000</td>\n",
       "      <td>2</td>\n",
       "    </tr>\n",
       "    <tr>\n",
       "      <th>...</th>\n",
       "      <td>...</td>\n",
       "      <td>...</td>\n",
       "      <td>...</td>\n",
       "      <td>...</td>\n",
       "      <td>...</td>\n",
       "      <td>...</td>\n",
       "      <td>...</td>\n",
       "    </tr>\n",
       "    <tr>\n",
       "      <th>269</th>\n",
       "      <td>1</td>\n",
       "      <td>0</td>\n",
       "      <td>35.0</td>\n",
       "      <td>0</td>\n",
       "      <td>0</td>\n",
       "      <td>135.6333</td>\n",
       "      <td>2</td>\n",
       "    </tr>\n",
       "    <tr>\n",
       "      <th>337</th>\n",
       "      <td>1</td>\n",
       "      <td>0</td>\n",
       "      <td>41.0</td>\n",
       "      <td>0</td>\n",
       "      <td>0</td>\n",
       "      <td>134.5000</td>\n",
       "      <td>0</td>\n",
       "    </tr>\n",
       "    <tr>\n",
       "      <th>91</th>\n",
       "      <td>3</td>\n",
       "      <td>1</td>\n",
       "      <td>20.0</td>\n",
       "      <td>0</td>\n",
       "      <td>0</td>\n",
       "      <td>7.8542</td>\n",
       "      <td>2</td>\n",
       "    </tr>\n",
       "    <tr>\n",
       "      <th>80</th>\n",
       "      <td>3</td>\n",
       "      <td>1</td>\n",
       "      <td>22.0</td>\n",
       "      <td>0</td>\n",
       "      <td>0</td>\n",
       "      <td>9.0000</td>\n",
       "      <td>2</td>\n",
       "    </tr>\n",
       "    <tr>\n",
       "      <th>703</th>\n",
       "      <td>3</td>\n",
       "      <td>1</td>\n",
       "      <td>25.0</td>\n",
       "      <td>0</td>\n",
       "      <td>0</td>\n",
       "      <td>7.7417</td>\n",
       "      <td>1</td>\n",
       "    </tr>\n",
       "  </tbody>\n",
       "</table>\n",
       "<p>712 rows × 7 columns</p>\n",
       "</div>"
      ],
      "text/plain": [
       "     Pclass  Sex   Age  SibSp  Parch      Fare  Embarked\n",
       "333       3    1  16.0      2      0   18.0000         2\n",
       "662       1    1  47.0      0      0   25.5875         2\n",
       "382       3    1  32.0      0      0    7.9250         2\n",
       "331       1    1  45.5      0      0   28.5000         2\n",
       "149       2    1  42.0      0      0   13.0000         2\n",
       "..      ...  ...   ...    ...    ...       ...       ...\n",
       "269       1    0  35.0      0      0  135.6333         2\n",
       "337       1    0  41.0      0      0  134.5000         0\n",
       "91        3    1  20.0      0      0    7.8542         2\n",
       "80        3    1  22.0      0      0    9.0000         2\n",
       "703       3    1  25.0      0      0    7.7417         1\n",
       "\n",
       "[712 rows x 7 columns]"
      ]
     },
     "execution_count": 61,
     "metadata": {},
     "output_type": "execute_result"
    }
   ],
   "source": [
    "x_train"
   ]
  },
  {
   "cell_type": "code",
   "execution_count": 62,
   "id": "49237d2c",
   "metadata": {},
   "outputs": [
    {
     "data": {
      "text/html": [
       "<div>\n",
       "<style scoped>\n",
       "    .dataframe tbody tr th:only-of-type {\n",
       "        vertical-align: middle;\n",
       "    }\n",
       "\n",
       "    .dataframe tbody tr th {\n",
       "        vertical-align: top;\n",
       "    }\n",
       "\n",
       "    .dataframe thead th {\n",
       "        text-align: right;\n",
       "    }\n",
       "</style>\n",
       "<table border=\"1\" class=\"dataframe\">\n",
       "  <thead>\n",
       "    <tr style=\"text-align: right;\">\n",
       "      <th></th>\n",
       "      <th>Pclass</th>\n",
       "      <th>Sex</th>\n",
       "      <th>Age</th>\n",
       "      <th>SibSp</th>\n",
       "      <th>Parch</th>\n",
       "      <th>Fare</th>\n",
       "      <th>Embarked</th>\n",
       "    </tr>\n",
       "  </thead>\n",
       "  <tbody>\n",
       "    <tr>\n",
       "      <th>431</th>\n",
       "      <td>3</td>\n",
       "      <td>0</td>\n",
       "      <td>24.0</td>\n",
       "      <td>1</td>\n",
       "      <td>0</td>\n",
       "      <td>16.1000</td>\n",
       "      <td>2</td>\n",
       "    </tr>\n",
       "    <tr>\n",
       "      <th>821</th>\n",
       "      <td>3</td>\n",
       "      <td>1</td>\n",
       "      <td>27.0</td>\n",
       "      <td>0</td>\n",
       "      <td>0</td>\n",
       "      <td>8.6625</td>\n",
       "      <td>2</td>\n",
       "    </tr>\n",
       "    <tr>\n",
       "      <th>629</th>\n",
       "      <td>3</td>\n",
       "      <td>1</td>\n",
       "      <td>24.0</td>\n",
       "      <td>0</td>\n",
       "      <td>0</td>\n",
       "      <td>7.7333</td>\n",
       "      <td>1</td>\n",
       "    </tr>\n",
       "    <tr>\n",
       "      <th>626</th>\n",
       "      <td>2</td>\n",
       "      <td>1</td>\n",
       "      <td>57.0</td>\n",
       "      <td>0</td>\n",
       "      <td>0</td>\n",
       "      <td>12.3500</td>\n",
       "      <td>1</td>\n",
       "    </tr>\n",
       "    <tr>\n",
       "      <th>665</th>\n",
       "      <td>2</td>\n",
       "      <td>1</td>\n",
       "      <td>32.0</td>\n",
       "      <td>2</td>\n",
       "      <td>0</td>\n",
       "      <td>73.5000</td>\n",
       "      <td>2</td>\n",
       "    </tr>\n",
       "    <tr>\n",
       "      <th>...</th>\n",
       "      <td>...</td>\n",
       "      <td>...</td>\n",
       "      <td>...</td>\n",
       "      <td>...</td>\n",
       "      <td>...</td>\n",
       "      <td>...</td>\n",
       "      <td>...</td>\n",
       "    </tr>\n",
       "    <tr>\n",
       "      <th>638</th>\n",
       "      <td>3</td>\n",
       "      <td>0</td>\n",
       "      <td>41.0</td>\n",
       "      <td>0</td>\n",
       "      <td>5</td>\n",
       "      <td>39.6875</td>\n",
       "      <td>2</td>\n",
       "    </tr>\n",
       "    <tr>\n",
       "      <th>771</th>\n",
       "      <td>3</td>\n",
       "      <td>1</td>\n",
       "      <td>48.0</td>\n",
       "      <td>0</td>\n",
       "      <td>0</td>\n",
       "      <td>7.8542</td>\n",
       "      <td>2</td>\n",
       "    </tr>\n",
       "    <tr>\n",
       "      <th>521</th>\n",
       "      <td>3</td>\n",
       "      <td>1</td>\n",
       "      <td>22.0</td>\n",
       "      <td>0</td>\n",
       "      <td>0</td>\n",
       "      <td>7.8958</td>\n",
       "      <td>2</td>\n",
       "    </tr>\n",
       "    <tr>\n",
       "      <th>711</th>\n",
       "      <td>1</td>\n",
       "      <td>1</td>\n",
       "      <td>37.0</td>\n",
       "      <td>0</td>\n",
       "      <td>0</td>\n",
       "      <td>26.5500</td>\n",
       "      <td>2</td>\n",
       "    </tr>\n",
       "    <tr>\n",
       "      <th>484</th>\n",
       "      <td>1</td>\n",
       "      <td>1</td>\n",
       "      <td>25.0</td>\n",
       "      <td>1</td>\n",
       "      <td>0</td>\n",
       "      <td>91.0792</td>\n",
       "      <td>0</td>\n",
       "    </tr>\n",
       "  </tbody>\n",
       "</table>\n",
       "<p>179 rows × 7 columns</p>\n",
       "</div>"
      ],
      "text/plain": [
       "     Pclass  Sex   Age  SibSp  Parch     Fare  Embarked\n",
       "431       3    0  24.0      1      0  16.1000         2\n",
       "821       3    1  27.0      0      0   8.6625         2\n",
       "629       3    1  24.0      0      0   7.7333         1\n",
       "626       2    1  57.0      0      0  12.3500         1\n",
       "665       2    1  32.0      2      0  73.5000         2\n",
       "..      ...  ...   ...    ...    ...      ...       ...\n",
       "638       3    0  41.0      0      5  39.6875         2\n",
       "771       3    1  48.0      0      0   7.8542         2\n",
       "521       3    1  22.0      0      0   7.8958         2\n",
       "711       1    1  37.0      0      0  26.5500         2\n",
       "484       1    1  25.0      1      0  91.0792         0\n",
       "\n",
       "[179 rows x 7 columns]"
      ]
     },
     "execution_count": 62,
     "metadata": {},
     "output_type": "execute_result"
    }
   ],
   "source": [
    "x_test"
   ]
  },
  {
   "cell_type": "code",
   "execution_count": 63,
   "id": "7f6cfbb6",
   "metadata": {},
   "outputs": [
    {
     "data": {
      "text/plain": [
       "333    0\n",
       "662    0\n",
       "382    0\n",
       "331    0\n",
       "149    0\n",
       "      ..\n",
       "269    1\n",
       "337    1\n",
       "91     0\n",
       "80     0\n",
       "703    0\n",
       "Name: Survived, Length: 712, dtype: int64"
      ]
     },
     "execution_count": 63,
     "metadata": {},
     "output_type": "execute_result"
    }
   ],
   "source": [
    "y_train"
   ]
  },
  {
   "cell_type": "code",
   "execution_count": 64,
   "id": "a2799819",
   "metadata": {},
   "outputs": [
    {
     "data": {
      "text/plain": [
       "431    1\n",
       "821    1\n",
       "629    0\n",
       "626    0\n",
       "665    0\n",
       "      ..\n",
       "638    0\n",
       "771    0\n",
       "521    0\n",
       "711    0\n",
       "484    1\n",
       "Name: Survived, Length: 179, dtype: int64"
      ]
     },
     "execution_count": 64,
     "metadata": {},
     "output_type": "execute_result"
    }
   ],
   "source": [
    "y_test"
   ]
  },
  {
   "cell_type": "code",
   "execution_count": 65,
   "id": "f238ec0c",
   "metadata": {},
   "outputs": [
    {
     "name": "stdout",
     "output_type": "stream",
     "text": [
      "(891, 7) (712, 7) (179, 7)\n"
     ]
    }
   ],
   "source": [
    "print(x.shape, x_train.shape, x_test.shape)"
   ]
  },
  {
   "cell_type": "code",
   "execution_count": 66,
   "id": "89845635",
   "metadata": {},
   "outputs": [
    {
     "name": "stdout",
     "output_type": "stream",
     "text": [
      "(891,) (712,) (179,)\n"
     ]
    }
   ],
   "source": [
    "print(y.shape, y_train.shape, y_test.shape)"
   ]
  },
  {
   "cell_type": "markdown",
   "id": "ede1f576",
   "metadata": {},
   "source": [
    "# Apply Models"
   ]
  },
  {
   "cell_type": "markdown",
   "id": "ed3ade85",
   "metadata": {},
   "source": [
    "LogisticRegression"
   ]
  },
  {
   "cell_type": "code",
   "execution_count": 67,
   "id": "476e9ce6",
   "metadata": {},
   "outputs": [
    {
     "name": "stdout",
     "output_type": "stream",
     "text": [
      "accuracy 87.15083798882681\n",
      "[[109   9]\n",
      " [ 14  47]]\n",
      "              precision    recall  f1-score   support\n",
      "\n",
      "           0       0.89      0.92      0.90       118\n",
      "           1       0.84      0.77      0.80        61\n",
      "\n",
      "    accuracy                           0.87       179\n",
      "   macro avg       0.86      0.85      0.85       179\n",
      "weighted avg       0.87      0.87      0.87       179\n",
      "\n"
     ]
    }
   ],
   "source": [
    "from sklearn.linear_model import LogisticRegression\n",
    "\n",
    "lr = LogisticRegression()\n",
    "lr.fit(x_train,y_train)\n",
    "pred = lr.predict(x_test)\n",
    "print('accuracy',accuracy_score(y_test, pred)*100)\n",
    "print(confusion_matrix(y_test,pred))\n",
    "print(classification_report(y_test,pred))"
   ]
  },
  {
   "cell_type": "markdown",
   "id": "5de90a6d",
   "metadata": {},
   "source": [
    "Random Forest Classifier"
   ]
  },
  {
   "cell_type": "code",
   "execution_count": 68,
   "id": "d55b15f9",
   "metadata": {},
   "outputs": [
    {
     "name": "stdout",
     "output_type": "stream",
     "text": [
      "accuracy 83.79888268156425\n",
      "[[106  12]\n",
      " [ 17  44]]\n",
      "              precision    recall  f1-score   support\n",
      "\n",
      "           0       0.86      0.90      0.88       118\n",
      "           1       0.79      0.72      0.75        61\n",
      "\n",
      "    accuracy                           0.84       179\n",
      "   macro avg       0.82      0.81      0.82       179\n",
      "weighted avg       0.84      0.84      0.84       179\n",
      "\n"
     ]
    }
   ],
   "source": [
    "from sklearn.ensemble import RandomForestClassifier\n",
    "\n",
    "rfc = RandomForestClassifier()\n",
    "rfc.fit(x_train,y_train)\n",
    "pred = rfc.predict(x_test)\n",
    "print('accuracy',accuracy_score(y_test, pred)*100)\n",
    "print(confusion_matrix(y_test,pred))\n",
    "print(classification_report(y_test,pred))"
   ]
  },
  {
   "cell_type": "markdown",
   "id": "4cecc496",
   "metadata": {},
   "source": [
    "Decision Tree Classifier"
   ]
  },
  {
   "cell_type": "code",
   "execution_count": 69,
   "id": "e382e85a",
   "metadata": {},
   "outputs": [
    {
     "name": "stdout",
     "output_type": "stream",
     "text": [
      "accuracy 75.97765363128491\n",
      "[[96 22]\n",
      " [21 40]]\n",
      "              precision    recall  f1-score   support\n",
      "\n",
      "           0       0.82      0.81      0.82       118\n",
      "           1       0.65      0.66      0.65        61\n",
      "\n",
      "    accuracy                           0.76       179\n",
      "   macro avg       0.73      0.73      0.73       179\n",
      "weighted avg       0.76      0.76      0.76       179\n",
      "\n"
     ]
    }
   ],
   "source": [
    "from sklearn.tree import DecisionTreeClassifier\n",
    "\n",
    "dtc = DecisionTreeClassifier()\n",
    "dtc.fit(x_train,y_train)\n",
    "pred = dtc.predict(x_test)\n",
    "print('accuracy',accuracy_score(y_test, pred)*100)\n",
    "print(confusion_matrix(y_test,pred))\n",
    "print(classification_report(y_test,pred))"
   ]
  },
  {
   "cell_type": "markdown",
   "id": "d371566a",
   "metadata": {},
   "source": [
    "KNN"
   ]
  },
  {
   "cell_type": "code",
   "execution_count": 70,
   "id": "3b725c6d",
   "metadata": {},
   "outputs": [
    {
     "name": "stdout",
     "output_type": "stream",
     "text": [
      "accuracy 69.83240223463687\n",
      "[[96 22]\n",
      " [32 29]]\n",
      "              precision    recall  f1-score   support\n",
      "\n",
      "           0       0.75      0.81      0.78       118\n",
      "           1       0.57      0.48      0.52        61\n",
      "\n",
      "    accuracy                           0.70       179\n",
      "   macro avg       0.66      0.64      0.65       179\n",
      "weighted avg       0.69      0.70      0.69       179\n",
      "\n"
     ]
    }
   ],
   "source": [
    "from sklearn.neighbors import KNeighborsClassifier\n",
    "\n",
    "knn = KNeighborsClassifier()\n",
    "knn.fit(x_train,y_train)\n",
    "pred = knn.predict(x_test)\n",
    "print('accuracy',accuracy_score(y_test, pred)*100)\n",
    "print(confusion_matrix(y_test,pred))\n",
    "print(classification_report(y_test,pred))"
   ]
  },
  {
   "cell_type": "markdown",
   "id": "1f3c91d0",
   "metadata": {},
   "source": [
    "SVC"
   ]
  },
  {
   "cell_type": "code",
   "execution_count": 71,
   "id": "e3cd92fd",
   "metadata": {},
   "outputs": [
    {
     "name": "stdout",
     "output_type": "stream",
     "text": [
      "accuracy 72.06703910614524\n",
      "[[110   8]\n",
      " [ 42  19]]\n",
      "              precision    recall  f1-score   support\n",
      "\n",
      "           0       0.72      0.93      0.81       118\n",
      "           1       0.70      0.31      0.43        61\n",
      "\n",
      "    accuracy                           0.72       179\n",
      "   macro avg       0.71      0.62      0.62       179\n",
      "weighted avg       0.72      0.72      0.68       179\n",
      "\n"
     ]
    }
   ],
   "source": [
    "from sklearn.svm import SVC\n",
    "\n",
    "svc = SVC()\n",
    "svc.fit(x_train,y_train)\n",
    "pred = svc.predict(x_test)\n",
    "print('accuracy',accuracy_score(y_test, pred)*100)\n",
    "print(confusion_matrix(y_test,pred))\n",
    "print(classification_report(y_test,pred))"
   ]
  },
  {
   "cell_type": "markdown",
   "id": "7d4d1b5b",
   "metadata": {},
   "source": [
    "# Encoding Techniques"
   ]
  },
  {
   "cell_type": "markdown",
   "id": "df6a309c",
   "metadata": {},
   "source": [
    "standard scaling"
   ]
  },
  {
   "cell_type": "code",
   "execution_count": 72,
   "id": "930d6a31",
   "metadata": {},
   "outputs": [
    {
     "data": {
      "text/plain": [
       "array([[ 0.82737724,  0.73769513, -0.53383369, ..., -0.47367361,\n",
       "        -0.50244517,  0.58595414],\n",
       "       [-1.56610693, -1.35557354,  0.67489052, ..., -0.47367361,\n",
       "         0.78684529, -1.9423032 ],\n",
       "       [ 0.82737724, -1.35557354, -0.23165264, ..., -0.47367361,\n",
       "        -0.48885426,  0.58595414],\n",
       "       ...,\n",
       "       [ 0.82737724, -1.35557354, -0.38274316, ...,  2.00893337,\n",
       "        -0.17626324,  0.58595414],\n",
       "       [-1.56610693,  0.73769513, -0.23165264, ..., -0.47367361,\n",
       "        -0.04438104, -1.9423032 ],\n",
       "       [ 0.82737724,  0.73769513,  0.22161894, ..., -0.47367361,\n",
       "        -0.49237783, -0.67817453]])"
      ]
     },
     "execution_count": 72,
     "metadata": {},
     "output_type": "execute_result"
    }
   ],
   "source": [
    "from sklearn.preprocessing import StandardScaler\n",
    "\n",
    "st = StandardScaler()\n",
    "x = st.fit_transform(x)\n",
    "x"
   ]
  },
  {
   "cell_type": "code",
   "execution_count": 73,
   "id": "d9cb9b80",
   "metadata": {},
   "outputs": [
    {
     "data": {
      "text/html": [
       "<div>\n",
       "<style scoped>\n",
       "    .dataframe tbody tr th:only-of-type {\n",
       "        vertical-align: middle;\n",
       "    }\n",
       "\n",
       "    .dataframe tbody tr th {\n",
       "        vertical-align: top;\n",
       "    }\n",
       "\n",
       "    .dataframe thead th {\n",
       "        text-align: right;\n",
       "    }\n",
       "</style>\n",
       "<table border=\"1\" class=\"dataframe\">\n",
       "  <thead>\n",
       "    <tr style=\"text-align: right;\">\n",
       "      <th></th>\n",
       "      <th>0</th>\n",
       "      <th>1</th>\n",
       "      <th>2</th>\n",
       "      <th>3</th>\n",
       "      <th>4</th>\n",
       "      <th>5</th>\n",
       "      <th>6</th>\n",
       "    </tr>\n",
       "  </thead>\n",
       "  <tbody>\n",
       "    <tr>\n",
       "      <th>0</th>\n",
       "      <td>0.827377</td>\n",
       "      <td>0.737695</td>\n",
       "      <td>-0.533834</td>\n",
       "      <td>0.432793</td>\n",
       "      <td>-0.473674</td>\n",
       "      <td>-0.502445</td>\n",
       "      <td>0.585954</td>\n",
       "    </tr>\n",
       "    <tr>\n",
       "      <th>1</th>\n",
       "      <td>-1.566107</td>\n",
       "      <td>-1.355574</td>\n",
       "      <td>0.674891</td>\n",
       "      <td>0.432793</td>\n",
       "      <td>-0.473674</td>\n",
       "      <td>0.786845</td>\n",
       "      <td>-1.942303</td>\n",
       "    </tr>\n",
       "    <tr>\n",
       "      <th>2</th>\n",
       "      <td>0.827377</td>\n",
       "      <td>-1.355574</td>\n",
       "      <td>-0.231653</td>\n",
       "      <td>-0.474545</td>\n",
       "      <td>-0.473674</td>\n",
       "      <td>-0.488854</td>\n",
       "      <td>0.585954</td>\n",
       "    </tr>\n",
       "    <tr>\n",
       "      <th>3</th>\n",
       "      <td>-1.566107</td>\n",
       "      <td>-1.355574</td>\n",
       "      <td>0.448255</td>\n",
       "      <td>0.432793</td>\n",
       "      <td>-0.473674</td>\n",
       "      <td>0.420730</td>\n",
       "      <td>0.585954</td>\n",
       "    </tr>\n",
       "    <tr>\n",
       "      <th>4</th>\n",
       "      <td>0.827377</td>\n",
       "      <td>0.737695</td>\n",
       "      <td>0.448255</td>\n",
       "      <td>-0.474545</td>\n",
       "      <td>-0.473674</td>\n",
       "      <td>-0.486337</td>\n",
       "      <td>0.585954</td>\n",
       "    </tr>\n",
       "    <tr>\n",
       "      <th>...</th>\n",
       "      <td>...</td>\n",
       "      <td>...</td>\n",
       "      <td>...</td>\n",
       "      <td>...</td>\n",
       "      <td>...</td>\n",
       "      <td>...</td>\n",
       "      <td>...</td>\n",
       "    </tr>\n",
       "    <tr>\n",
       "      <th>886</th>\n",
       "      <td>-0.369365</td>\n",
       "      <td>0.737695</td>\n",
       "      <td>-0.156107</td>\n",
       "      <td>-0.474545</td>\n",
       "      <td>-0.473674</td>\n",
       "      <td>-0.386671</td>\n",
       "      <td>0.585954</td>\n",
       "    </tr>\n",
       "    <tr>\n",
       "      <th>887</th>\n",
       "      <td>-1.566107</td>\n",
       "      <td>-1.355574</td>\n",
       "      <td>-0.760469</td>\n",
       "      <td>-0.474545</td>\n",
       "      <td>-0.473674</td>\n",
       "      <td>-0.044381</td>\n",
       "      <td>0.585954</td>\n",
       "    </tr>\n",
       "    <tr>\n",
       "      <th>888</th>\n",
       "      <td>0.827377</td>\n",
       "      <td>-1.355574</td>\n",
       "      <td>-0.382743</td>\n",
       "      <td>0.432793</td>\n",
       "      <td>2.008933</td>\n",
       "      <td>-0.176263</td>\n",
       "      <td>0.585954</td>\n",
       "    </tr>\n",
       "    <tr>\n",
       "      <th>889</th>\n",
       "      <td>-1.566107</td>\n",
       "      <td>0.737695</td>\n",
       "      <td>-0.231653</td>\n",
       "      <td>-0.474545</td>\n",
       "      <td>-0.473674</td>\n",
       "      <td>-0.044381</td>\n",
       "      <td>-1.942303</td>\n",
       "    </tr>\n",
       "    <tr>\n",
       "      <th>890</th>\n",
       "      <td>0.827377</td>\n",
       "      <td>0.737695</td>\n",
       "      <td>0.221619</td>\n",
       "      <td>-0.474545</td>\n",
       "      <td>-0.473674</td>\n",
       "      <td>-0.492378</td>\n",
       "      <td>-0.678175</td>\n",
       "    </tr>\n",
       "  </tbody>\n",
       "</table>\n",
       "<p>891 rows × 7 columns</p>\n",
       "</div>"
      ],
      "text/plain": [
       "            0         1         2         3         4         5         6\n",
       "0    0.827377  0.737695 -0.533834  0.432793 -0.473674 -0.502445  0.585954\n",
       "1   -1.566107 -1.355574  0.674891  0.432793 -0.473674  0.786845 -1.942303\n",
       "2    0.827377 -1.355574 -0.231653 -0.474545 -0.473674 -0.488854  0.585954\n",
       "3   -1.566107 -1.355574  0.448255  0.432793 -0.473674  0.420730  0.585954\n",
       "4    0.827377  0.737695  0.448255 -0.474545 -0.473674 -0.486337  0.585954\n",
       "..        ...       ...       ...       ...       ...       ...       ...\n",
       "886 -0.369365  0.737695 -0.156107 -0.474545 -0.473674 -0.386671  0.585954\n",
       "887 -1.566107 -1.355574 -0.760469 -0.474545 -0.473674 -0.044381  0.585954\n",
       "888  0.827377 -1.355574 -0.382743  0.432793  2.008933 -0.176263  0.585954\n",
       "889 -1.566107  0.737695 -0.231653 -0.474545 -0.473674 -0.044381 -1.942303\n",
       "890  0.827377  0.737695  0.221619 -0.474545 -0.473674 -0.492378 -0.678175\n",
       "\n",
       "[891 rows x 7 columns]"
      ]
     },
     "execution_count": 73,
     "metadata": {},
     "output_type": "execute_result"
    }
   ],
   "source": [
    "xf = pd.DataFrame(data=x)\n",
    "xf"
   ]
  },
  {
   "cell_type": "code",
   "execution_count": 74,
   "id": "4e1535b1",
   "metadata": {},
   "outputs": [],
   "source": [
    "train_x,test_x,train_y,test_y = train_test_split(x,y,test_size=.20,random_state=11)"
   ]
  },
  {
   "cell_type": "code",
   "execution_count": 75,
   "id": "4069846c",
   "metadata": {},
   "outputs": [
    {
     "data": {
      "text/plain": [
       "LogisticRegression()"
      ]
     },
     "execution_count": 75,
     "metadata": {},
     "output_type": "execute_result"
    }
   ],
   "source": [
    "lr.fit(train_x,train_y)"
   ]
  },
  {
   "cell_type": "code",
   "execution_count": 76,
   "id": "cd3ff4e8",
   "metadata": {},
   "outputs": [
    {
     "name": "stdout",
     "output_type": "stream",
     "text": [
      "[1 0 0 0 0 0 0 1 0 1 0 0 0 0 0 0 0 0 0 1 0 0 0 0 0 0 0 0 0 0 1 1 0 1 0 0 0\n",
      " 1 0 0 0 0 1 1 1 1 1 0 1 0 0 0 0 1 0 0 0 0 0 0 0 0 0 1 0 0 1 1 1 0 0 0 0 1\n",
      " 0 0 0 0 1 0 1 1 1 0 1 1 0 0 1 0 0 0 0 0 1 0 1 0 0 1 0 0 1 0 1 0 0 0 0 0 0\n",
      " 0 0 1 0 0 0 0 1 0 0 0 0 0 0 0 0 0 1 0 1 0 1 0 1 0 1 0 0 1 1 0 0 0 0 1 0 0\n",
      " 1 0 0 1 1 0 1 1 0 0 1 1 0 1 0 1 0 1 1 0 0 1 0 1 0 0 0 0 0 0 1]\n"
     ]
    }
   ],
   "source": [
    "pred = lr.predict(test_x)\n",
    "print(pred)"
   ]
  },
  {
   "cell_type": "code",
   "execution_count": 77,
   "id": "e8211ff1",
   "metadata": {},
   "outputs": [
    {
     "name": "stdout",
     "output_type": "stream",
     "text": [
      "accuracy score: 0.8715083798882681\n"
     ]
    }
   ],
   "source": [
    "print(\"accuracy score:\",accuracy_score(test_y,pred))"
   ]
  },
  {
   "cell_type": "code",
   "execution_count": 78,
   "id": "059b3e3c",
   "metadata": {},
   "outputs": [
    {
     "name": "stdout",
     "output_type": "stream",
     "text": [
      "[[109   9]\n",
      " [ 14  47]]\n"
     ]
    }
   ],
   "source": [
    "print(confusion_matrix(test_y,pred))"
   ]
  },
  {
   "cell_type": "code",
   "execution_count": 79,
   "id": "1b862d7d",
   "metadata": {},
   "outputs": [
    {
     "name": "stdout",
     "output_type": "stream",
     "text": [
      "              precision    recall  f1-score   support\n",
      "\n",
      "           0       0.89      0.92      0.90       118\n",
      "           1       0.84      0.77      0.80        61\n",
      "\n",
      "    accuracy                           0.87       179\n",
      "   macro avg       0.86      0.85      0.85       179\n",
      "weighted avg       0.87      0.87      0.87       179\n",
      "\n"
     ]
    }
   ],
   "source": [
    "print(classification_report(test_y,pred))"
   ]
  },
  {
   "cell_type": "code",
   "execution_count": 80,
   "id": "2cc90800",
   "metadata": {},
   "outputs": [
    {
     "name": "stdout",
     "output_type": "stream",
     "text": [
      "F1 is:  0.8034188034188035\n"
     ]
    }
   ],
   "source": [
    "from sklearn.metrics import f1_score\n",
    "print('F1 is: ', f1_score(test_y, pred))"
   ]
  },
  {
   "cell_type": "markdown",
   "id": "9dff6468",
   "metadata": {},
   "source": [
    "# Cross Validation"
   ]
  },
  {
   "cell_type": "code",
   "execution_count": 81,
   "id": "1ba37491",
   "metadata": {},
   "outputs": [
    {
     "name": "stdout",
     "output_type": "stream",
     "text": [
      "cross validation score of logistic regression model : 0.7935032326909799\n"
     ]
    }
   ],
   "source": [
    "from sklearn.model_selection import cross_val_score\n",
    "\n",
    "scr = cross_val_score(lr, x, y, cv=5)\n",
    "print('cross validation score of logistic regression model :',scr.mean())"
   ]
  },
  {
   "cell_type": "code",
   "execution_count": 82,
   "id": "abeaf1f0",
   "metadata": {},
   "outputs": [
    {
     "name": "stdout",
     "output_type": "stream",
     "text": [
      "cross validation score of random forest classifier model : 0.819327098110602\n"
     ]
    }
   ],
   "source": [
    "from sklearn.model_selection import cross_val_score\n",
    "\n",
    "scr = cross_val_score(rfc, x, y, cv=5)\n",
    "print('cross validation score of random forest classifier model :',scr.mean())"
   ]
  },
  {
   "cell_type": "code",
   "execution_count": 83,
   "id": "6525be5e",
   "metadata": {},
   "outputs": [
    {
     "name": "stdout",
     "output_type": "stream",
     "text": [
      "cross validation score of decision tree classifier model : 0.7721988575732849\n"
     ]
    }
   ],
   "source": [
    "from sklearn.model_selection import cross_val_score\n",
    "\n",
    "scr = cross_val_score(dtc, x, y, cv=5)\n",
    "print('cross validation score of decision tree classifier model :',scr.mean())"
   ]
  },
  {
   "cell_type": "code",
   "execution_count": 84,
   "id": "7d17822e",
   "metadata": {},
   "outputs": [
    {
     "name": "stdout",
     "output_type": "stream",
     "text": [
      "cross validation score of knn classifier model : 0.8080848659845584\n"
     ]
    }
   ],
   "source": [
    "from sklearn.model_selection import cross_val_score\n",
    "\n",
    "scr = cross_val_score(knn, x, y, cv=5)\n",
    "print('cross validation score of knn classifier model :',scr.mean())"
   ]
  },
  {
   "cell_type": "code",
   "execution_count": 85,
   "id": "cdda1807",
   "metadata": {},
   "outputs": [
    {
     "name": "stdout",
     "output_type": "stream",
     "text": [
      "cross validation score of support vector classifier model : 0.827154604230745\n"
     ]
    }
   ],
   "source": [
    "from sklearn.model_selection import cross_val_score\n",
    "\n",
    "scr = cross_val_score(svc, x, y, cv=5)\n",
    "print('cross validation score of support vector classifier model :',scr.mean())"
   ]
  },
  {
   "cell_type": "code",
   "execution_count": 86,
   "id": "c9f08216",
   "metadata": {},
   "outputs": [],
   "source": [
    "from sklearn.model_selection import GridSearchCV\n",
    "\n",
    "parameters = {'max_features': ['auto','sqrt','log2'],\n",
    "              'max_depth': [4,5,6,7,8],\n",
    "              'criterion':['gini','entropy']}"
   ]
  },
  {
   "cell_type": "code",
   "execution_count": 87,
   "id": "ac74adf7",
   "metadata": {},
   "outputs": [
    {
     "data": {
      "text/plain": [
       "{'criterion': 'entropy', 'max_depth': 7, 'max_features': 'log2'}"
      ]
     },
     "execution_count": 87,
     "metadata": {},
     "output_type": "execute_result"
    }
   ],
   "source": [
    "GCV = GridSearchCV(RandomForestClassifier(),parameters,cv=5,scoring='accuracy')\n",
    "GCV.fit(x_train,y_train)\n",
    "GCV.best_params_"
   ]
  },
  {
   "cell_type": "code",
   "execution_count": 88,
   "id": "cbaf52f9",
   "metadata": {},
   "outputs": [
    {
     "data": {
      "text/plain": [
       "sklearn.model_selection._search.GridSearchCV"
      ]
     },
     "execution_count": 88,
     "metadata": {},
     "output_type": "execute_result"
    }
   ],
   "source": [
    "type(GCV)"
   ]
  },
  {
   "cell_type": "code",
   "execution_count": 89,
   "id": "ed8c69d5",
   "metadata": {},
   "outputs": [
    {
     "data": {
      "text/plain": [
       "RandomForestClassifier(criterion='entropy', max_depth=7, max_features='log2')"
      ]
     },
     "execution_count": 89,
     "metadata": {},
     "output_type": "execute_result"
    }
   ],
   "source": [
    "GCV.best_estimator_"
   ]
  },
  {
   "cell_type": "code",
   "execution_count": 90,
   "id": "0e3c0bf9",
   "metadata": {},
   "outputs": [
    {
     "data": {
      "text/plain": [
       "0.8770949720670391"
      ]
     },
     "execution_count": 90,
     "metadata": {},
     "output_type": "execute_result"
    }
   ],
   "source": [
    "GCV_pred = GCV.best_estimator_.predict(x_test)\n",
    "accuracy_score(y_test,GCV_pred)"
   ]
  },
  {
   "cell_type": "code",
   "execution_count": 91,
   "id": "23e72cce",
   "metadata": {},
   "outputs": [
    {
     "data": {
      "image/png": "[encoded data removed]",
      "text/plain": [
       "<Figure size 432x288 with 1 Axes>"
      ]
     },
     "metadata": {},
     "output_type": "display_data"
    }
   ],
   "source": [
    "from sklearn.metrics import roc_curve, auc\n",
    "fpr, tpr, threshold = roc_curve(y_test,pred)\n",
    "roc_auc = auc(fpr,tpr)\n",
    "\n",
    "plt.figure()\n",
    "plt.plot(fpr,tpr,color = 'darkorange', lw=10, label='ROC curve (area = %0.2f)' % roc_auc)\n",
    "plt.plot([0,1],[0,1], color='navy', lw=10, linestyle='--')\n",
    "plt.xlim([0.0,1.0])\n",
    "plt.ylim([0.0,1.0])\n",
    "plt.xlabel('False Positive Rate')\n",
    "plt.ylabel('True Positive Rate')\n",
    "plt.title('Receiver operating characteristic')\n",
    "plt.legend(loc='lower right')\n",
    "plt.show()"
   ]
  },
  {
   "cell_type": "markdown",
   "id": "4c8f0ddd",
   "metadata": {},
   "source": [
    "# Model Saving"
   ]
  },
  {
   "cell_type": "code",
   "execution_count": 92,
   "id": "c12d8658",
   "metadata": {},
   "outputs": [],
   "source": [
    "import pickle\n",
    "filename = 'titanic.pkl'\n",
    "pickle.dump(rfc,open(filename,'wb'))"
   ]
  },
  {
   "cell_type": "markdown",
   "id": "beea7124",
   "metadata": {},
   "source": [
    "# Conclusion"
   ]
  },
  {
   "cell_type": "code",
   "execution_count": 93,
   "id": "467bd93d",
   "metadata": {},
   "outputs": [
    {
     "data": {
      "text/html": [
       "<div>\n",
       "<style scoped>\n",
       "    .dataframe tbody tr th:only-of-type {\n",
       "        vertical-align: middle;\n",
       "    }\n",
       "\n",
       "    .dataframe tbody tr th {\n",
       "        vertical-align: top;\n",
       "    }\n",
       "\n",
       "    .dataframe thead th {\n",
       "        text-align: right;\n",
       "    }\n",
       "</style>\n",
       "<table border=\"1\" class=\"dataframe\">\n",
       "  <thead>\n",
       "    <tr style=\"text-align: right;\">\n",
       "      <th></th>\n",
       "      <th>original</th>\n",
       "      <th>predicted</th>\n",
       "    </tr>\n",
       "  </thead>\n",
       "  <tbody>\n",
       "    <tr>\n",
       "      <th>0</th>\n",
       "      <td>1</td>\n",
       "      <td>1</td>\n",
       "    </tr>\n",
       "    <tr>\n",
       "      <th>1</th>\n",
       "      <td>1</td>\n",
       "      <td>0</td>\n",
       "    </tr>\n",
       "    <tr>\n",
       "      <th>2</th>\n",
       "      <td>0</td>\n",
       "      <td>0</td>\n",
       "    </tr>\n",
       "    <tr>\n",
       "      <th>3</th>\n",
       "      <td>0</td>\n",
       "      <td>0</td>\n",
       "    </tr>\n",
       "    <tr>\n",
       "      <th>4</th>\n",
       "      <td>0</td>\n",
       "      <td>0</td>\n",
       "    </tr>\n",
       "    <tr>\n",
       "      <th>...</th>\n",
       "      <td>...</td>\n",
       "      <td>...</td>\n",
       "    </tr>\n",
       "    <tr>\n",
       "      <th>174</th>\n",
       "      <td>0</td>\n",
       "      <td>0</td>\n",
       "    </tr>\n",
       "    <tr>\n",
       "      <th>175</th>\n",
       "      <td>0</td>\n",
       "      <td>0</td>\n",
       "    </tr>\n",
       "    <tr>\n",
       "      <th>176</th>\n",
       "      <td>0</td>\n",
       "      <td>0</td>\n",
       "    </tr>\n",
       "    <tr>\n",
       "      <th>177</th>\n",
       "      <td>0</td>\n",
       "      <td>1</td>\n",
       "    </tr>\n",
       "    <tr>\n",
       "      <th>178</th>\n",
       "      <td>1</td>\n",
       "      <td>0</td>\n",
       "    </tr>\n",
       "  </tbody>\n",
       "</table>\n",
       "<p>179 rows × 2 columns</p>\n",
       "</div>"
      ],
      "text/plain": [
       "     original  predicted\n",
       "0           1          1\n",
       "1           1          0\n",
       "2           0          0\n",
       "3           0          0\n",
       "4           0          0\n",
       "..        ...        ...\n",
       "174         0          0\n",
       "175         0          0\n",
       "176         0          0\n",
       "177         0          1\n",
       "178         1          0\n",
       "\n",
       "[179 rows x 2 columns]"
      ]
     },
     "execution_count": 93,
     "metadata": {},
     "output_type": "execute_result"
    }
   ],
   "source": [
    "import numpy as np\n",
    "a = np.array(y_test)\n",
    "predicted = np.array(rfc.predict(x_test))\n",
    "df_comp = pd.DataFrame({'original':a,'predicted':predicted},index=range(len(a)))\n",
    "df_comp"
   ]
  }
 ],
 "metadata": {
  "kernelspec": {
   "display_name": "Python 3 (ipykernel)",
   "language": "python",
   "name": "python3"
  },
  "language_info": {
   "codemirror_mode": {
    "name": "ipython",
    "version": 3
   },
   "file_extension": ".py",
   "mimetype": "text/x-python",
   "name": "python",
   "nbconvert_exporter": "python",
   "pygments_lexer": "ipython3",
   "version": "3.9.12"
  },
  "varInspector": {
   "cols": {
    "lenName": 16,
    "lenType": 16,
    "lenVar": 40
   },
   "kernels_config": {
    "python": {
     "delete_cmd_postfix": "",
     "delete_cmd_prefix": "del ",
     "library": "var_list.py",
     "varRefreshCmd": "print(var_dic_list())"
    },
    "r": {
     "delete_cmd_postfix": ") ",
     "delete_cmd_prefix": "rm(",
     "library": "var_list.r",
     "varRefreshCmd": "cat(var_dic_list()) "
    }
   },
   "types_to_exclude": [
    "module",
    "function",
    "builtin_function_or_method",
    "instance",
    "_Feature"
   ],
   "window_display": false
  }
 },
 "nbformat": 4,
 "nbformat_minor": 5
}
